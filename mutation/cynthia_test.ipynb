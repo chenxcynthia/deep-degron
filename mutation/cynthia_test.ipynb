{
 "cells": [
  {
   "cell_type": "code",
   "execution_count": 49,
   "metadata": {},
   "outputs": [],
   "source": [
    "import numpy as np\n",
    "import pandas as pd\n",
    "import matplotlib.pyplot as plt\n",
    "import pickle\n",
    "import seaborn as sns\n",
    "from scipy import stats\n",
    "import sys"
   ]
  },
  {
   "cell_type": "code",
   "execution_count": 11,
   "metadata": {},
   "outputs": [],
   "source": [
    "sys.path.insert(0, '/Users/cynthiachen/Downloads/Internship2019/degron_mutation/deepDegron')\n",
    "from train_nn import *"
   ]
  },
  {
   "cell_type": "code",
   "execution_count": 7,
   "metadata": {},
   "outputs": [],
   "source": [
    "# Load pre-trained neural network models from pickle file\n",
    "model_bag_of_words = pickle.load(open( \"../neural_network_bag_of_words_v2.pickle\", \"rb\" ))\n",
    "model_pos_specific = pickle.load(open( \"../neural_network_pos_specific_v2.pickle\", \"rb\" ))\n",
    "\n",
    "# Create pd dataframe of sequence information \n",
    "degron_pred = pd.read_csv(\"../data/degron_pred.csv\", index_col=0)\n",
    "# Select column of input sequences\n",
    "input_seq = degron_pred.iloc[:, 10]"
   ]
  },
  {
   "cell_type": "code",
   "execution_count": 40,
   "metadata": {},
   "outputs": [],
   "source": [
    "# Use compute_feature_matrix function to encode sequences\n",
    "features = compute_feature_matrix(input_seq, 6, True)\n",
    "condensed_features = features[:, 0:20] # Remove zeros at the end for bag of words prediction"
   ]
  },
  {
   "cell_type": "code",
   "execution_count": 41,
   "metadata": {
    "collapsed": true
   },
   "outputs": [],
   "source": [
    "# Use pre-trained model to predict sequence degredataion\n",
    "pred_bow_wt = model_bag_of_words.predict_proba(condensed_features) # wild-type bag of words prediction\n",
    "pred_ps_wt = model_pos_specific.predict_proba(features)            # wild-type position-specific prediction\n",
    "drp_wt = pred_ps_wt-pred_bow_wt                                    # wild-type degron regulatory potential"
   ]
  },
  {
   "cell_type": "code",
   "execution_count": 31,
   "metadata": {
    "collapsed": true
   },
   "outputs": [],
   "source": [
    "# def mutate(seq, index, newchar):\n",
    "#     char_list = list(seq)\n",
    "#     char_list[index] = newchar\n",
    "#     return \"\".join(char_list)"
   ]
  },
  {
   "cell_type": "code",
   "execution_count": 30,
   "metadata": {
    "collapsed": true
   },
   "outputs": [],
   "source": [
    "# Convert string to 2D list of characters\n",
    "\n",
    "seqlist = [] # 2D list of all sequences, with each character as 1 entry \n",
    "for sequence in input_seq:\n",
    "    seqlist.append(list(sequence))"
   ]
  },
  {
   "cell_type": "code",
   "execution_count": 31,
   "metadata": {},
   "outputs": [],
   "source": [
    "# Mutation 1: Shift mutation\n",
    "# Shifts all the characters at a certin position down by 1 sequence, with the first sequence\n",
    "# filled by the last sequence\n",
    "\n",
    "seq_length = len(seqlist[0]) # 23\n",
    "num_seq = len(seqlist)       # number of total sequences\n",
    "shift = 1                    # distance to shift characters by\n",
    "\n",
    "pos = 0 # revise this later\n",
    "first = seqlist[0][pos]\n",
    "for i in range(num_seq-shift):\n",
    "    #for j in range(seq_length) - iterate through positions\n",
    "    seqlist[i][pos] = seqlist[i+shift][pos]\n",
    "seqlist[num_seq-shift][pos]=first"
   ]
  },
  {
   "cell_type": "code",
   "execution_count": 32,
   "metadata": {
    "collapsed": true
   },
   "outputs": [],
   "source": [
    "mutated_seqs = []\n",
    "for i in range(num_seq):\n",
    "    mutated_seqs.append(\"\".join(seqlist[i])) "
   ]
  },
  {
   "cell_type": "code",
   "execution_count": 34,
   "metadata": {},
   "outputs": [],
   "source": [
    "# Use compute_feature_matrix function to encode sequences\n",
    "features = compute_feature_matrix(pd.Series(mutated_seqs), 6, True)\n",
    "condensed_features = features[:, 0:20] # Remove zeros at the end for bag of words prediction\n",
    "\n",
    "# Use pre-trained model to predict sequence degredataion\n",
    "# Use pre-trained model to predict sequence degredataion\n",
    "pred_bow_mut = model_bag_of_words.predict_proba(condensed_features) # bag of words prediction\n",
    "pred_ps_mut = model_pos_specific.predict_proba(features)            # position-specific prediction\n",
    "drp_mut = pred_ps_mut-pred_bow_mut                                  # mutated degron regulatory potential"
   ]
  },
  {
   "cell_type": "code",
   "execution_count": 42,
   "metadata": {},
   "outputs": [],
   "source": [
    "diff = drp_wt-drp_mut"
   ]
  },
  {
   "cell_type": "code",
   "execution_count": 44,
   "metadata": {
    "collapsed": true
   },
   "outputs": [],
   "source": [
    "vect = np.asarray(diff[:, 0])"
   ]
  },
  {
   "cell_type": "code",
   "execution_count": 45,
   "metadata": {},
   "outputs": [
    {
     "data": {
      "text/plain": [
       "(array([   43,   171,   388,  1255, 10858,  2650,   596,   194,    79,    22]),\n",
       " array([-0.72348398, -0.5685046 , -0.41352522, -0.25854585, -0.10356647,\n",
       "         0.05141291,  0.20639229,  0.36137167,  0.51635104,  0.67133042,\n",
       "         0.8263098 ]))"
      ]
     },
     "execution_count": 45,
     "metadata": {},
     "output_type": "execute_result"
    }
   ],
   "source": [
    "np.histogram(vect)"
   ]
  },
  {
   "cell_type": "code",
   "execution_count": 58,
   "metadata": {},
   "outputs": [
    {
     "name": "stderr",
     "output_type": "stream",
     "text": [
      "/Users/cynthiachen/anaconda2/envs/py36/lib/python3.6/site-packages/matplotlib/axes/_axes.py:6462: UserWarning: The 'normed' kwarg is deprecated, and has been replaced by the 'density' kwarg.\n",
      "  warnings.warn(\"The 'normed' kwarg is deprecated, and has been \"\n"
     ]
    },
    {
     "data": {
      "image/png": "[encoded data removed]",
      "text/plain": [
       "<Figure size 432x288 with 1 Axes>"
      ]
     },
     "metadata": {},
     "output_type": "display_data"
    }
   ],
   "source": [
    "sns.set(color_codes=True)\n",
    "x = np.random.normal(size=200)\n",
    "sns.distplot(diff)\n",
    "plt.show()"
   ]
  },
  {
   "cell_type": "code",
   "execution_count": 51,
   "metadata": {},
   "outputs": [
    {
     "data": {
      "text/plain": [
       "0.0026954324"
      ]
     },
     "execution_count": 51,
     "metadata": {},
     "output_type": "execute_result"
    }
   ],
   "source": [
    "np.average(diff)"
   ]
  },
  {
   "cell_type": "code",
   "execution_count": null,
   "metadata": {
    "collapsed": true
   },
   "outputs": [],
   "source": []
  }
 ],
 "metadata": {
  "kernelspec": {
   "display_name": "Python 3",
   "language": "python",
   "name": "python3"
  },
  "language_info": {
   "codemirror_mode": {
    "name": "ipython",
    "version": 3
   },
   "file_extension": ".py",
   "mimetype": "text/x-python",
   "name": "python",
   "nbconvert_exporter": "python",
   "pygments_lexer": "ipython3",
   "version": "3.6.2"
  }
 },
 "nbformat": 4,
 "nbformat_minor": 2
}
