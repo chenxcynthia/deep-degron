{
 "cells": [
  {
   "cell_type": "code",
   "execution_count": 252,
   "metadata": {
    "collapsed": true
   },
   "outputs": [],
   "source": [
    "import numpy as np\n",
    "import pandas as pd\n",
    "import matplotlib.pyplot as plt\n",
    "import pickle\n",
    "import seaborn as sns\n",
    "from scipy import stats\n",
    "import sys\n",
    "import sklearn\n",
    "from sklearn.preprocessing import normalize"
   ]
  },
  {
   "cell_type": "code",
   "execution_count": 74,
   "metadata": {
    "collapsed": true
   },
   "outputs": [],
   "source": [
    "sys.path.insert(0, '/Users/cynthiachen/Downloads/Internship2019/degron_mutation/deepDegron')\n",
    "from train_nn import *"
   ]
  },
  {
   "cell_type": "code",
   "execution_count": 167,
   "metadata": {
    "collapsed": true
   },
   "outputs": [],
   "source": [
    "# Load pre-trained neural network models from pickle file\n",
    "model_bag_of_words = pickle.load(open( \"../models/neural_network_bag_of_words_v2.pickle\", \"rb\" ))\n",
    "model_pos_specific = pickle.load(open( \"../models/neural_network_pos_specific_v2.pickle\", \"rb\" ))\n",
    "\n",
    "# Create pd dataframe of sequence information \n",
    "degron_pred = pd.read_csv(\"../data/degron_pred.csv\", index_col=0)\n",
    "# Select column of input sequences\n",
    "input_seq = degron_pred.iloc[:, 10]"
   ]
  },
  {
   "cell_type": "code",
   "execution_count": 76,
   "metadata": {
    "collapsed": true
   },
   "outputs": [],
   "source": [
    "# Use compute_feature_matrix function to encode sequences\n",
    "features = compute_feature_matrix(input_seq, 6, True)\n",
    "condensed_features = features[:, 0:20] # Remove zeros at the end for bag of words prediction"
   ]
  },
  {
   "cell_type": "code",
   "execution_count": 77,
   "metadata": {
    "collapsed": true
   },
   "outputs": [],
   "source": [
    "# Use pre-trained model to predict sequence degredataion\n",
    "pred_bow_wt = model_bag_of_words.predict_proba(condensed_features) # wild-type bag of words prediction\n",
    "pred_ps_wt = model_pos_specific.predict_proba(features)            # wild-type position-specific prediction\n",
    "drp_wt = pred_ps_wt-pred_bow_wt                                    # wild-type degron regulatory potential"
   ]
  },
  {
   "cell_type": "code",
   "execution_count": 78,
   "metadata": {
    "collapsed": true
   },
   "outputs": [],
   "source": [
    "# def mutate(seq, index, newchar):\n",
    "#     char_list = list(seq)\n",
    "#     char_list[index] = newchar\n",
    "#     return \"\".join(char_list)"
   ]
  },
  {
   "cell_type": "code",
   "execution_count": 79,
   "metadata": {
    "collapsed": true
   },
   "outputs": [],
   "source": [
    "# Convert string to 2D list of characters\n",
    "\n",
    "seqlist = [] # 2D list of all sequences, with each character as 1 entry \n",
    "for sequence in input_seq:\n",
    "    seqlist.append(list(sequence))"
   ]
  },
  {
   "cell_type": "markdown",
   "metadata": {},
   "source": [
    "### Mutation 1: Shift mutation\n",
    "Shifts all the characters at a certin position down by 1 sequence, with the first sequence filled by the last sequence"
   ]
  },
  {
   "cell_type": "code",
   "execution_count": 80,
   "metadata": {
    "collapsed": true
   },
   "outputs": [],
   "source": [
    "seq_length = len(seqlist[0]) # 23\n",
    "num_seq = len(seqlist)       # number of total sequences\n",
    "shift = 1                    # distance to shift characters by\n",
    "\n",
    "# List that contains the delta DRP for each position when a shift mutation occurs at that position\n",
    "diff=[]\n",
    "\n",
    "# Loop to iterate through all sequence positions\n",
    "for p in range(seq_length):\n",
    "    first = seqlist[0][pos]\n",
    "    for i in range(num_seq-shift):\n",
    "        #for j in range(seq_length) - iterate through positions\n",
    "        seqlist[i][pos] = seqlist[i+shift][pos]\n",
    "    seqlist[num_seq-shift][pos]=first\n",
    "    \n",
    "    mutated_seqs = []\n",
    "    for i in range(num_seq):\n",
    "        mutated_seqs.append(\"\".join(seqlist[i])) \n",
    "        \n",
    "    # Use compute_feature_matrix function to encode sequences\n",
    "    features = compute_feature_matrix(pd.Series(mutated_seqs), 6, True)\n",
    "    condensed_features = features[:, 0:20] # Remove zeros at the end for bag of words prediction\n",
    "\n",
    "    # Use pre-trained model to predict sequence degredataion\n",
    "    # Use pre-trained model to predict sequence degredataion\n",
    "    pred_bow_mut = model_bag_of_words.predict_proba(condensed_features) # bag of words prediction\n",
    "    pred_ps_mut = model_pos_specific.predict_proba(features)            # position-specific prediction\n",
    "    drp_mut = pred_ps_mut-pred_bow_mut                                  # mutated degron regulatory potential\n",
    "    \n",
    "    # Calculate DRP difference in mutated and wild-type (normal) sequence and add this to a list\n",
    "    diff.append(drp_wt-drp_mut)"
   ]
  },
  {
   "cell_type": "code",
   "execution_count": 82,
   "metadata": {
    "collapsed": true
   },
   "outputs": [],
   "source": [
    "average_delta = []\n",
    "for i in diff:\n",
    "    average_delta.append(np.average(i))"
   ]
  },
  {
   "cell_type": "code",
   "execution_count": 84,
   "metadata": {},
   "outputs": [],
   "source": [
    "# # Plot histogram showing distribution of average DRP deltas\n",
    "\n",
    "# sns.set(color_codes=True)\n",
    "# x = np.random.normal(size=200)\n",
    "# sns.distplot(diff)\n",
    "# plt.show()\n",
    "\n",
    "# sns.set(color_codes=True)\n",
    "# x = np.random.normal(size=200)\n",
    "# sns.distplot(average_delta, bins = 8)\n",
    "# plt.show()"
   ]
  },
  {
   "cell_type": "markdown",
   "metadata": {
    "collapsed": true
   },
   "source": [
    "### Mutation 2: Random shuffle mutation (considering only Top & Bottom scores)\n",
    "Shifts all the characters at a certain position using random shuffling, and then considers only the select top and bottom sequences"
   ]
  },
  {
   "cell_type": "code",
   "execution_count": 243,
   "metadata": {},
   "outputs": [],
   "source": [
    "# Sort degron sequence information by regulatory potential in descending order (highest to lowest)\n",
    "degron_pred_sorted = degron_pred.sort_values(by=['regulatory potential'], ascending=False)"
   ]
  },
  {
   "cell_type": "code",
   "execution_count": 244,
   "metadata": {},
   "outputs": [],
   "source": [
    "# Select only the \"sequence\" and \"potential\" columns and format values into a list\n",
    "degron_seq_scores = degron_pred_sorted[['Peptide amino acid sequence','regulatory potential']].values.tolist()"
   ]
  },
  {
   "cell_type": "code",
   "execution_count": 211,
   "metadata": {
    "collapsed": true
   },
   "outputs": [],
   "source": []
  },
  {
   "cell_type": "markdown",
   "metadata": {
    "collapsed": true
   },
   "source": [
    "### Motif Analysis\n",
    "Discover patterns that characterize sequences with high & low degron regulatory potential"
   ]
  },
  {
   "cell_type": "code",
   "execution_count": 93,
   "metadata": {
    "collapsed": true
   },
   "outputs": [],
   "source": [
    "# Sort degron sequence information by regulatory potential in descending order (highest to lowest)\n",
    "degron_pred_sorted = degron_pred.sort_values(by=['regulatory potential'], ascending=False\n",
    "                                             \n",
    "# Select only the \"sequence\" and \"potential\" columns and format values into a list\n",
    "degron_seq_scores = degron_pred_sorted[['Peptide amino acid sequence','regulatory potential']].values.tolist()"
   ]
  },
  {
   "cell_type": "code",
   "execution_count": 217,
   "metadata": {
    "collapsed": true
   },
   "outputs": [],
   "source": [
    "# Function description: \n",
    "#\n",
    "# Cutoff -- number of sequences from the top + bottom to consider for motif analysis\n",
    "# Motif length -- length of kmer motifs to be considered\n",
    "\n",
    "def motif(cutoff = 50, motif_length = 2):\n",
    "    top = degron_seq_scores[0:cutoff]\n",
    "    bottom = degron_seq_scores[-cutoff:]\n",
    "    kmers = []\n",
    "    kmer_dict = {}\n",
    "    \n",
    "    for row in top:\n",
    "        sequence = row[0]\n",
    "        for j in range(seq_length - motif_length + 1):\n",
    "            kmers.append((sequence[j:(j+motif_length)], row[1])) # add k-mer and corresponding score\n",
    "    \n",
    "    # Normalize drp scores to emphasize differences\n",
    "    kmers = np.asarray(kmers) # Convert kmers to np array from a list\n",
    "    x = np.asarray(list(map(float, kmers[:, 1])))\n",
    "    normalized = (x-min(x))/(max(x)-min(x))\n",
    "    kmers[:,1] = normalized\n",
    "    \n",
    "    # Convert list of kmers into 1 string\n",
    "    kmer_str = \" \".join(kmers[:, 0])\n",
    "    kmer_list = list(kmers[:, 0])\n",
    "    \n",
    "    unique_kmers = [] \n",
    "  \n",
    "    # Determine all unique kmers\n",
    "    for i in kmer_list: \n",
    "        # checking for duplicacy \n",
    "        if i not in unique_kmers: \n",
    "            # insert value in str2 \n",
    "            unique_kmers.append(i)  \n",
    "    \n",
    "    for i in range(0, len(unique_kmers)): \n",
    "        # count the frequency of each unique kmer and print \n",
    "        #print('Frequency of', unique_kmers[i], 'is :', kmer_list.count(unique_kmers[i]))\n",
    "        kmer_dict.update({unique_kmers[i] : kmer_list.count(unique_kmers[i])})\n",
    "    \n",
    "    # Returns dictionary of [kmer sequence] -> [frequency]\n",
    "    return kmer_dict"
   ]
  },
  {
   "cell_type": "code",
   "execution_count": null,
   "metadata": {
    "collapsed": true
   },
   "outputs": [],
   "source": [
    "d = motif()\n",
    "sorted(d.items(), key=lambda item: item[1])"
   ]
  },
  {
   "cell_type": "markdown",
   "metadata": {},
   "source": [
    "Motif analysis with DRP score weighting"
   ]
  },
  {
   "cell_type": "code",
   "execution_count": 204,
   "metadata": {
    "collapsed": true
   },
   "outputs": [],
   "source": [
    "# Function description: \n",
    "#\n",
    "# Cutoff -- number of sequences from the top + bottom to consider for motif analysis\n",
    "# Motif length -- length of kmer motifs to be considered\n",
    "\n",
    "def motif_with_weighting(cutoff = 50, motif_length = 2):\n",
    "    top = degron_seq_scores[0:cutoff]\n",
    "    bottom = degron_seq_scores[-cutoff:]\n",
    "    kmers = []\n",
    "    \n",
    "    for row in top:\n",
    "        sequence = row[0]\n",
    "        for j in range(seq_length - motif_length + 1):\n",
    "            kmers.append((sequence[j:(j+motif_length)], row[1])) # add k-mer and corresponding score\n",
    "    \n",
    "    # Normalize drp scores to emphasize differences\n",
    "    kmers = np.asarray(kmers) # Convert kmers to np array from a list\n",
    "    x = np.asarray(list(map(float, kmers[:, 1])))\n",
    "    normalized = (x-min(x))/(max(x)-min(x))\n",
    "    kmers[:,1] = normalized\n",
    "    \n",
    "    # Convert list of kmers into 1 string\n",
    "    kmer_str = \" \".join(kmers[:, 0])\n",
    "    kmer_list = list(kmers[:, 0])\n",
    "    \n",
    "    unique_kmers = [] \n",
    "  \n",
    "    # Determine all unique kmers\n",
    "    for i in kmer_list: \n",
    "        # checking for duplicacy \n",
    "        if i not in unique_kmers: \n",
    "            # insert value in str2 \n",
    "            unique_kmers.append(i)  \n",
    "    \n",
    "    for i in range(0, len(unique_kmers)): \n",
    "        # \n",
    "        np.asarrray\n",
    "        kmer_dict.update({unique_kmers[i] : kmer_list.count(unique_kmers[i])})"
   ]
  },
  {
   "cell_type": "markdown",
   "metadata": {},
   "source": [
    "ROC curve calculation to statistically determine sequence cutoff"
   ]
  },
  {
   "cell_type": "code",
   "execution_count": null,
   "metadata": {
    "collapsed": true
   },
   "outputs": [],
   "source": [
    "# roc_auc_score"
   ]
  },
  {
   "cell_type": "code",
   "execution_count": 245,
   "metadata": {},
   "outputs": [],
   "source": [
    "auc_info = np.asarray(degron_pred_sorted[['Modal Bin','sequence position specific', 'bag of words']])"
   ]
  },
  {
   "cell_type": "code",
   "execution_count": 246,
   "metadata": {},
   "outputs": [
    {
     "data": {
      "text/plain": [
       "array([ 2.,  1.,  1., ...,  3.,  3.,  3.])"
      ]
     },
     "execution_count": 246,
     "metadata": {},
     "output_type": "execute_result"
    }
   ],
   "source": [
    "auc_info[:, 0]"
   ]
  },
  {
   "cell_type": "code",
   "execution_count": 247,
   "metadata": {},
   "outputs": [],
   "source": [
    "for i in range(num_seq):\n",
    "    mbin = auc_info[:, 0][i]\n",
    "    if mbin > 2:\n",
    "        auc_info[:, 0][i] = 0\n",
    "    else:\n",
    "        auc_info[:, 0][i] = 1\n",
    "    "
   ]
  },
  {
   "cell_type": "code",
   "execution_count": 250,
   "metadata": {},
   "outputs": [],
   "source": [
    "y_true = auc_info[:, 0]\n",
    "y_score = auc_info[:, 1]"
   ]
  },
  {
   "cell_type": "code",
   "execution_count": 253,
   "metadata": {},
   "outputs": [
    {
     "data": {
      "text/plain": [
       "(array([  0.00000000e+00,   1.07921433e-04,   3.23764300e-04, ...,\n",
       "          9.97301964e-01,   9.97517807e-01,   1.00000000e+00]),\n",
       " array([ 0.,  0.,  0., ...,  1.,  1.,  1.]),\n",
       " array([  1.99774890e+00,   9.97748900e-01,   9.97194400e-01, ...,\n",
       "          4.65000000e-07,   4.56000000e-07,   1.89000000e-10]))"
      ]
     },
     "execution_count": 253,
     "metadata": {},
     "output_type": "execute_result"
    }
   ],
   "source": [
    "sklearn.metrics.roc_curve(y_true, y_score)"
   ]
  },
  {
   "cell_type": "code",
   "execution_count": null,
   "metadata": {
    "collapsed": true
   },
   "outputs": [],
   "source": []
  }
 ],
 "metadata": {
  "kernelspec": {
   "display_name": "Python 3",
   "language": "python",
   "name": "python3"
  },
  "language_info": {
   "codemirror_mode": {
    "name": "ipython",
    "version": 3
   },
   "file_extension": ".py",
   "mimetype": "text/x-python",
   "name": "python",
   "nbconvert_exporter": "python",
   "pygments_lexer": "ipython3",
   "version": "3.6.2"
  }
 },
 "nbformat": 4,
 "nbformat_minor": 2
}
