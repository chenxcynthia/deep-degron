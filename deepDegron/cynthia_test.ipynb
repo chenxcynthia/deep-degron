{
 "cells": [
  {
   "cell_type": "code",
   "execution_count": 1,
   "metadata": {},
   "outputs": [
    {
     "name": "stderr",
     "output_type": "stream",
     "text": [
      "Using TensorFlow backend.\n"
     ]
    }
   ],
   "source": [
    "import numpy as np\n",
    "import pandas as pd\n",
    "import matplotlib.pyplot as plt\n",
    "import pickle\n",
    "\n",
    "from train_nn import *"
   ]
  },
  {
   "cell_type": "code",
   "execution_count": 12,
   "metadata": {},
   "outputs": [],
   "source": [
    "# Load pre-trained neural network models from pickle file\n",
    "model_bag_of_words = pickle.load(open( \"../neural_network_bag_of_words_v2.pickle\", \"rb\" ))\n",
    "model_pos_specific = pickle.load(open( \"../neural_network_pos_specific_v2.pickle\", \"rb\" ))\n",
    "\n",
    "# Create pd dataframe of sequence information \n",
    "degron_pred = pd.read_csv(\"../degron_pred.csv\", index_col=0)\n",
    "# Select column of input sequences\n",
    "input_seq = degron_pred.iloc[:, 10]"
   ]
  },
  {
   "cell_type": "code",
   "execution_count": 13,
   "metadata": {
    "collapsed": true
   },
   "outputs": [],
   "source": [
    "# Use compute_feature_matrix function to encode sequences\n",
    "features = compute_feature_matrix(input_seq, 6, True)\n",
    "condensed_features = features[:, 0:20] # Remove zeros at the end for bag of words prediction"
   ]
  },
  {
   "cell_type": "code",
   "execution_count": 14,
   "metadata": {
    "collapsed": true
   },
   "outputs": [],
   "source": [
    "# Use pre-trained model to predict sequence degredataion\n",
    "pred_bow = model_bag_of_words.predict_proba(condensed_features) # bag of words prediction\n",
    "pred_ps = model_pos_specific.predict_proba(features) # position-specific prediction"
   ]
  },
  {
   "cell_type": "code",
   "execution_count": 15,
   "metadata": {},
   "outputs": [
    {
     "data": {
      "text/plain": [
       "array([[-0.43807366],\n",
       "       [-0.03768384],\n",
       "       [-0.55850381],\n",
       "       [ 0.05132312],\n",
       "       [ 0.01944852],\n",
       "       [-0.32106578],\n",
       "       [-0.23207328],\n",
       "       [-0.74083978],\n",
       "       [-0.24626228],\n",
       "       [-0.13040398]], dtype=float32)"
      ]
     },
     "execution_count": 15,
     "metadata": {},
     "output_type": "execute_result"
    }
   ],
   "source": [
    "drp = pred_ps-pred_bow\n",
    "drp[0:10]"
   ]
  },
  {
   "cell_type": "code",
   "execution_count": 25,
   "metadata": {},
   "outputs": [
    {
     "data": {
      "text/plain": [
       "16256"
      ]
     },
     "execution_count": 25,
     "metadata": {},
     "output_type": "execute_result"
    }
   ],
   "source": [
    "len(input_seq)"
   ]
  },
  {
   "cell_type": "code",
   "execution_count": 27,
   "metadata": {},
   "outputs": [
    {
     "data": {
      "text/plain": [
       "'PPAPPPPNILPTPSLELEEAEEQ'"
      ]
     },
     "execution_count": 27,
     "metadata": {},
     "output_type": "execute_result"
    }
   ],
   "source": [
    "input_seq[16255]"
   ]
  },
  {
   "cell_type": "code",
   "execution_count": 31,
   "metadata": {
    "collapsed": true
   },
   "outputs": [],
   "source": [
    "# def mutate(seq, index, newchar):\n",
    "#     char_list = list(seq)\n",
    "#     char_list[index] = newchar\n",
    "#     return \"\".join(char_list)"
   ]
  },
  {
   "cell_type": "code",
   "execution_count": 33,
   "metadata": {},
   "outputs": [
    {
     "data": {
      "text/plain": [
       "'N'"
      ]
     },
     "execution_count": 33,
     "metadata": {},
     "output_type": "execute_result"
    }
   ],
   "source": [
    "input_seq[i+1][pos]"
   ]
  },
  {
   "cell_type": "code",
   "execution_count": 34,
   "metadata": {},
   "outputs": [
    {
     "data": {
      "text/plain": [
       "'NLTDYGELSDWSLPATATMSLGK'"
      ]
     },
     "execution_count": 34,
     "metadata": {},
     "output_type": "execute_result"
    }
   ],
   "source": [
    " mutate(input_seq[i], pos, input_seq[i+1][pos])"
   ]
  },
  {
   "cell_type": "code",
   "execution_count": 48,
   "metadata": {
    "collapsed": true
   },
   "outputs": [],
   "source": [
    "# Convert string to lists\n",
    "\n",
    "seqlist = [] # 2D list of all sequences, with each character as 1 entry \n",
    "for sequence in input_seq:\n",
    "    seqlist.append(list(sequence))"
   ]
  },
  {
   "cell_type": "code",
   "execution_count": 55,
   "metadata": {},
   "outputs": [
    {
     "ename": "NameError",
     "evalue": "name 'mutated_seq' is not defined",
     "output_type": "error",
     "traceback": [
      "\u001b[0;31m---------------------------------------------------------------------------\u001b[0m",
      "\u001b[0;31mNameError\u001b[0m                                 Traceback (most recent call last)",
      "\u001b[0;32m<ipython-input-55-feab1b68f76a>\u001b[0m in \u001b[0;36m<module>\u001b[0;34m()\u001b[0m\n\u001b[1;32m     15\u001b[0m \u001b[0;34m\u001b[0m\u001b[0m\n\u001b[1;32m     16\u001b[0m \u001b[0;32mfor\u001b[0m \u001b[0mi\u001b[0m \u001b[0;32min\u001b[0m \u001b[0mrange\u001b[0m\u001b[0;34m(\u001b[0m\u001b[0mnum_seq\u001b[0m\u001b[0;34m)\u001b[0m\u001b[0;34m:\u001b[0m\u001b[0;34m\u001b[0m\u001b[0m\n\u001b[0;32m---> 17\u001b[0;31m     \u001b[0mmutated_seq\u001b[0m\u001b[0;34m.\u001b[0m\u001b[0mappend\u001b[0m\u001b[0;34m(\u001b[0m\u001b[0;34m\"\"\u001b[0m\u001b[0;34m.\u001b[0m\u001b[0mjoin\u001b[0m\u001b[0;34m(\u001b[0m\u001b[0mseqlist\u001b[0m\u001b[0;34m[\u001b[0m\u001b[0mi\u001b[0m\u001b[0;34m]\u001b[0m\u001b[0;34m)\u001b[0m\u001b[0;34m)\u001b[0m\u001b[0;34m\u001b[0m\u001b[0m\n\u001b[0m",
      "\u001b[0;31mNameError\u001b[0m: name 'mutated_seq' is not defined"
     ]
    }
   ],
   "source": [
    "# Mutation 1: Shift mutation\n",
    "# Shifts all the characters at a certin position down by 1 sequence, with the first sequence\n",
    "# filled by the last sequence\n",
    "\n",
    "seq_length = len(seqlist[0]) # 23\n",
    "num_seq = len(seqlist)       # number of total sequences\n",
    "shift = 1                    # distance to shift characters by\n",
    "\n",
    "pos = 0 # revise this later\n",
    "first = seqlist[0][pos]\n",
    "for i in range(num_seq-shift):\n",
    "    #for j in range(seq_length) - iterate through positions\n",
    "    seqlist[i][pos] = seqlist[i+shift][pos]\n",
    "seqlist[num_seq-shift][pos]=first\n"
   ]
  },
  {
   "cell_type": "code",
   "execution_count": 56,
   "metadata": {
    "collapsed": true
   },
   "outputs": [],
   "source": [
    "mutated_seq = []\n",
    "for i in range(num_seq):\n",
    "    mutated_seq.append(\"\".join(seqlist[i])) "
   ]
  },
  {
   "cell_type": "code",
   "execution_count": 71,
   "metadata": {},
   "outputs": [],
   "source": [
    "# Use compute_feature_matrix function to encode sequences\n",
    "features = compute_feature_matrix(pd.Series(mutated_seq), 6, True)\n",
    "condensed_features = features[:, 0:20] # Remove zeros at the end for bag of words prediction"
   ]
  },
  {
   "cell_type": "code",
   "execution_count": 72,
   "metadata": {
    "collapsed": true
   },
   "outputs": [],
   "source": [
    "# Use pre-trained model to predict sequence degredataion\n",
    "pred_bow = model_bag_of_words.predict_proba(condensed_features) # bag of words prediction\n",
    "pred_ps = model_pos_specific.predict_proba(features) # position-specific prediction"
   ]
  },
  {
   "cell_type": "code",
   "execution_count": 73,
   "metadata": {
    "collapsed": true
   },
   "outputs": [],
   "source": [
    "drp2 = pred_ps-pred_bow"
   ]
  },
  {
   "cell_type": "code",
   "execution_count": 79,
   "metadata": {},
   "outputs": [],
   "source": [
    "diff = drp-drp2"
   ]
  },
  {
   "cell_type": "code",
   "execution_count": 87,
   "metadata": {},
   "outputs": [],
   "source": [
    "vect = np.asarray(diff[:, 0])"
   ]
  },
  {
   "cell_type": "code",
   "execution_count": 89,
   "metadata": {},
   "outputs": [
    {
     "data": {
      "text/plain": [
       "(array([  34,  108,  290,  955, 9962, 3827,  726,  255,   80,   19]),\n",
       " array([-0.78543741, -0.62324376, -0.46105011, -0.29885646, -0.13666281,\n",
       "         0.02553084,  0.18772449,  0.34991814,  0.51211179,  0.67430544,\n",
       "         0.83649909]))"
      ]
     },
     "execution_count": 89,
     "metadata": {},
     "output_type": "execute_result"
    }
   ],
   "source": [
    "np.histogram(vect)"
   ]
  },
  {
   "cell_type": "code",
   "execution_count": 90,
   "metadata": {
    "collapsed": true
   },
   "outputs": [],
   "source": [
    "import matplotlib.pyplot as plt"
   ]
  },
  {
   "cell_type": "code",
   "execution_count": 91,
   "metadata": {},
   "outputs": [
    {
     "data": {
      "text/plain": [
       "(array([  2.00000000e+00,   0.00000000e+00,   0.00000000e+00,\n",
       "          1.00000000e+00,   0.00000000e+00,   0.00000000e+00,\n",
       "          0.00000000e+00,   0.00000000e+00,   2.00000000e+00,\n",
       "          1.00000000e+00,   1.00000000e+00,   2.00000000e+00,\n",
       "          2.00000000e+00,   0.00000000e+00,   1.00000000e+00,\n",
       "          0.00000000e+00,   2.00000000e+00,   1.00000000e+00,\n",
       "          1.00000000e+00,   0.00000000e+00,   2.00000000e+00,\n",
       "          3.00000000e+00,   2.00000000e+00,   2.00000000e+00,\n",
       "          2.00000000e+00,   3.00000000e+00,   2.00000000e+00,\n",
       "          2.00000000e+00,   0.00000000e+00,   2.00000000e+00,\n",
       "          3.00000000e+00,   3.00000000e+00,   1.00000000e+00,\n",
       "          0.00000000e+00,   3.00000000e+00,   1.00000000e+00,\n",
       "          2.00000000e+00,   6.00000000e+00,   8.00000000e+00,\n",
       "          1.00000000e+00,   1.00000000e+00,   4.00000000e+00,\n",
       "          5.00000000e+00,   3.00000000e+00,   6.00000000e+00,\n",
       "          3.00000000e+00,   3.00000000e+00,   3.00000000e+00,\n",
       "          9.00000000e+00,   4.00000000e+00,   5.00000000e+00,\n",
       "          5.00000000e+00,   8.00000000e+00,   8.00000000e+00,\n",
       "          9.00000000e+00,   3.00000000e+00,   6.00000000e+00,\n",
       "          1.00000000e+01,   6.00000000e+00,   7.00000000e+00,\n",
       "          8.00000000e+00,   1.20000000e+01,   9.00000000e+00,\n",
       "          1.30000000e+01,   8.00000000e+00,   7.00000000e+00,\n",
       "          8.00000000e+00,   7.00000000e+00,   1.10000000e+01,\n",
       "          1.30000000e+01,   5.00000000e+00,   1.50000000e+01,\n",
       "          1.10000000e+01,   6.00000000e+00,   1.10000000e+01,\n",
       "          1.90000000e+01,   9.00000000e+00,   1.80000000e+01,\n",
       "          1.00000000e+01,   1.30000000e+01,   1.40000000e+01,\n",
       "          1.30000000e+01,   1.10000000e+01,   1.70000000e+01,\n",
       "          2.70000000e+01,   2.20000000e+01,   2.20000000e+01,\n",
       "          1.60000000e+01,   2.10000000e+01,   2.60000000e+01,\n",
       "          2.30000000e+01,   2.00000000e+01,   2.40000000e+01,\n",
       "          2.70000000e+01,   2.20000000e+01,   3.80000000e+01,\n",
       "          3.40000000e+01,   3.80000000e+01,   3.50000000e+01,\n",
       "          3.60000000e+01,   3.30000000e+01,   2.80000000e+01,\n",
       "          4.00000000e+01,   4.20000000e+01,   3.90000000e+01,\n",
       "          4.00000000e+01,   4.40000000e+01,   4.90000000e+01,\n",
       "          4.70000000e+01,   6.20000000e+01,   5.30000000e+01,\n",
       "          7.20000000e+01,   7.20000000e+01,   6.60000000e+01,\n",
       "          8.80000000e+01,   9.10000000e+01,   9.80000000e+01,\n",
       "          1.09000000e+02,   1.13000000e+02,   1.40000000e+02,\n",
       "          1.37000000e+02,   1.57000000e+02,   1.42000000e+02,\n",
       "          1.69000000e+02,   1.80000000e+02,   2.29000000e+02,\n",
       "          2.16000000e+02,   2.52000000e+02,   3.01000000e+02,\n",
       "          3.08000000e+02,   3.70000000e+02,   4.57000000e+02,\n",
       "          5.11000000e+02,   6.96000000e+02,   9.30000000e+02,\n",
       "          2.00500000e+03,   7.82000000e+02,   6.11000000e+02,\n",
       "          4.70000000e+02,   4.22000000e+02,   3.47000000e+02,\n",
       "          3.14000000e+02,   2.75000000e+02,   2.48000000e+02,\n",
       "          2.44000000e+02,   2.02000000e+02,   1.97000000e+02,\n",
       "          1.71000000e+02,   1.54000000e+02,   1.63000000e+02,\n",
       "          1.36000000e+02,   1.00000000e+02,   1.13000000e+02,\n",
       "          9.80000000e+01,   1.00000000e+02,   9.10000000e+01,\n",
       "          8.30000000e+01,   7.60000000e+01,   6.60000000e+01,\n",
       "          5.50000000e+01,   6.10000000e+01,   5.30000000e+01,\n",
       "          7.10000000e+01,   5.20000000e+01,   5.80000000e+01,\n",
       "          4.80000000e+01,   4.50000000e+01,   3.80000000e+01,\n",
       "          4.10000000e+01,   3.90000000e+01,   3.50000000e+01,\n",
       "          4.00000000e+01,   2.70000000e+01,   3.90000000e+01,\n",
       "          3.60000000e+01,   3.90000000e+01,   3.20000000e+01,\n",
       "          2.30000000e+01,   2.30000000e+01,   2.90000000e+01,\n",
       "          2.70000000e+01,   2.10000000e+01,   1.70000000e+01,\n",
       "          2.20000000e+01,   2.30000000e+01,   1.90000000e+01,\n",
       "          1.90000000e+01,   2.40000000e+01,   1.70000000e+01,\n",
       "          2.10000000e+01,   2.00000000e+01,   1.40000000e+01,\n",
       "          1.90000000e+01,   1.90000000e+01,   1.40000000e+01,\n",
       "          1.00000000e+01,   1.40000000e+01,   9.00000000e+00,\n",
       "          1.00000000e+01,   9.00000000e+00,   9.00000000e+00,\n",
       "          1.70000000e+01,   1.00000000e+01,   1.00000000e+01,\n",
       "          1.50000000e+01,   7.00000000e+00,   1.30000000e+01,\n",
       "          1.00000000e+01,   1.10000000e+01,   1.40000000e+01,\n",
       "          7.00000000e+00,   1.10000000e+01,   9.00000000e+00,\n",
       "          9.00000000e+00,   8.00000000e+00,   1.50000000e+01,\n",
       "          4.00000000e+00,   7.00000000e+00,   8.00000000e+00,\n",
       "          3.00000000e+00,   3.00000000e+00,   2.00000000e+00,\n",
       "          3.00000000e+00,   1.00000000e+00,   5.00000000e+00,\n",
       "          5.00000000e+00,   3.00000000e+00,   6.00000000e+00,\n",
       "          5.00000000e+00,   3.00000000e+00,   5.00000000e+00,\n",
       "          0.00000000e+00,   6.00000000e+00,   4.00000000e+00,\n",
       "          4.00000000e+00,   2.00000000e+00,   7.00000000e+00,\n",
       "          3.00000000e+00,   2.00000000e+00,   2.00000000e+00,\n",
       "          2.00000000e+00,   1.00000000e+00,   2.00000000e+00,\n",
       "          3.00000000e+00,   0.00000000e+00,   2.00000000e+00,\n",
       "          2.00000000e+00,   0.00000000e+00,   1.00000000e+00,\n",
       "          1.00000000e+00,   3.00000000e+00,   3.00000000e+00,\n",
       "          1.00000000e+00,   0.00000000e+00,   0.00000000e+00,\n",
       "          0.00000000e+00,   3.00000000e+00,   1.00000000e+00,\n",
       "          2.00000000e+00,   0.00000000e+00,   3.00000000e+00,\n",
       "          1.00000000e+00,   0.00000000e+00,   0.00000000e+00,\n",
       "          0.00000000e+00,   2.00000000e+00,   0.00000000e+00,\n",
       "          0.00000000e+00,   0.00000000e+00,   1.00000000e+00,\n",
       "          0.00000000e+00,   0.00000000e+00,   0.00000000e+00,\n",
       "          0.00000000e+00,   1.00000000e+00,   0.00000000e+00,\n",
       "          0.00000000e+00,   0.00000000e+00,   1.00000000e+00]),\n",
       " array([ -7.85437405e-01,  -7.79624013e-01,  -7.73810620e-01,\n",
       "         -7.67997228e-01,  -7.62183835e-01,  -7.56370443e-01,\n",
       "         -7.50557050e-01,  -7.44743658e-01,  -7.38930265e-01,\n",
       "         -7.33116873e-01,  -7.27303480e-01,  -7.21490088e-01,\n",
       "         -7.15676695e-01,  -7.09863303e-01,  -7.04049910e-01,\n",
       "         -6.98236518e-01,  -6.92423126e-01,  -6.86609733e-01,\n",
       "         -6.80796341e-01,  -6.74982948e-01,  -6.69169556e-01,\n",
       "         -6.63356163e-01,  -6.57542771e-01,  -6.51729378e-01,\n",
       "         -6.45915986e-01,  -6.40102593e-01,  -6.34289201e-01,\n",
       "         -6.28475808e-01,  -6.22662416e-01,  -6.16849023e-01,\n",
       "         -6.11035631e-01,  -6.05222238e-01,  -5.99408846e-01,\n",
       "         -5.93595453e-01,  -5.87782061e-01,  -5.81968669e-01,\n",
       "         -5.76155276e-01,  -5.70341884e-01,  -5.64528491e-01,\n",
       "         -5.58715099e-01,  -5.52901706e-01,  -5.47088314e-01,\n",
       "         -5.41274921e-01,  -5.35461529e-01,  -5.29648136e-01,\n",
       "         -5.23834744e-01,  -5.18021351e-01,  -5.12207959e-01,\n",
       "         -5.06394566e-01,  -5.00581174e-01,  -4.94767781e-01,\n",
       "         -4.88954389e-01,  -4.83140996e-01,  -4.77327604e-01,\n",
       "         -4.71514212e-01,  -4.65700819e-01,  -4.59887427e-01,\n",
       "         -4.54074034e-01,  -4.48260642e-01,  -4.42447249e-01,\n",
       "         -4.36633857e-01,  -4.30820464e-01,  -4.25007072e-01,\n",
       "         -4.19193679e-01,  -4.13380287e-01,  -4.07566894e-01,\n",
       "         -4.01753502e-01,  -3.95940109e-01,  -3.90126717e-01,\n",
       "         -3.84313324e-01,  -3.78499932e-01,  -3.72686539e-01,\n",
       "         -3.66873147e-01,  -3.61059755e-01,  -3.55246362e-01,\n",
       "         -3.49432970e-01,  -3.43619577e-01,  -3.37806185e-01,\n",
       "         -3.31992792e-01,  -3.26179400e-01,  -3.20366007e-01,\n",
       "         -3.14552615e-01,  -3.08739222e-01,  -3.02925830e-01,\n",
       "         -2.97112437e-01,  -2.91299045e-01,  -2.85485652e-01,\n",
       "         -2.79672260e-01,  -2.73858867e-01,  -2.68045475e-01,\n",
       "         -2.62232083e-01,  -2.56418690e-01,  -2.50605298e-01,\n",
       "         -2.44791905e-01,  -2.38978513e-01,  -2.33165120e-01,\n",
       "         -2.27351728e-01,  -2.21538335e-01,  -2.15724943e-01,\n",
       "         -2.09911550e-01,  -2.04098158e-01,  -1.98284765e-01,\n",
       "         -1.92471373e-01,  -1.86657980e-01,  -1.80844588e-01,\n",
       "         -1.75031195e-01,  -1.69217803e-01,  -1.63404410e-01,\n",
       "         -1.57591018e-01,  -1.51777626e-01,  -1.45964233e-01,\n",
       "         -1.40150841e-01,  -1.34337448e-01,  -1.28524056e-01,\n",
       "         -1.22710663e-01,  -1.16897271e-01,  -1.11083878e-01,\n",
       "         -1.05270486e-01,  -9.94570933e-02,  -9.36437008e-02,\n",
       "         -8.78303083e-02,  -8.20169158e-02,  -7.62035234e-02,\n",
       "         -7.03901309e-02,  -6.45767384e-02,  -5.87633459e-02,\n",
       "         -5.29499535e-02,  -4.71365610e-02,  -4.13231685e-02,\n",
       "         -3.55097760e-02,  -2.96963836e-02,  -2.38829911e-02,\n",
       "         -1.80695986e-02,  -1.22562062e-02,  -6.44281368e-03,\n",
       "         -6.29421203e-04,   5.18397127e-03,   1.09973637e-02,\n",
       "          1.68107562e-02,   2.26241487e-02,   2.84375412e-02,\n",
       "          3.42509336e-02,   4.00643261e-02,   4.58777186e-02,\n",
       "          5.16911111e-02,   5.75045035e-02,   6.33178960e-02,\n",
       "          6.91312885e-02,   7.49446810e-02,   8.07580734e-02,\n",
       "          8.65714659e-02,   9.23848584e-02,   9.81982508e-02,\n",
       "          1.04011643e-01,   1.09825036e-01,   1.15638428e-01,\n",
       "          1.21451821e-01,   1.27265213e-01,   1.33078606e-01,\n",
       "          1.38891998e-01,   1.44705391e-01,   1.50518783e-01,\n",
       "          1.56332176e-01,   1.62145568e-01,   1.67958961e-01,\n",
       "          1.73772353e-01,   1.79585745e-01,   1.85399138e-01,\n",
       "          1.91212530e-01,   1.97025923e-01,   2.02839315e-01,\n",
       "          2.08652708e-01,   2.14466100e-01,   2.20279493e-01,\n",
       "          2.26092885e-01,   2.31906278e-01,   2.37719670e-01,\n",
       "          2.43533063e-01,   2.49346455e-01,   2.55159848e-01,\n",
       "          2.60973240e-01,   2.66786633e-01,   2.72600025e-01,\n",
       "          2.78413418e-01,   2.84226810e-01,   2.90040202e-01,\n",
       "          2.95853595e-01,   3.01666987e-01,   3.07480380e-01,\n",
       "          3.13293772e-01,   3.19107165e-01,   3.24920557e-01,\n",
       "          3.30733950e-01,   3.36547342e-01,   3.42360735e-01,\n",
       "          3.48174127e-01,   3.53987520e-01,   3.59800912e-01,\n",
       "          3.65614305e-01,   3.71427697e-01,   3.77241090e-01,\n",
       "          3.83054482e-01,   3.88867875e-01,   3.94681267e-01,\n",
       "          4.00494659e-01,   4.06308052e-01,   4.12121444e-01,\n",
       "          4.17934837e-01,   4.23748229e-01,   4.29561622e-01,\n",
       "          4.35375014e-01,   4.41188407e-01,   4.47001799e-01,\n",
       "          4.52815192e-01,   4.58628584e-01,   4.64441977e-01,\n",
       "          4.70255369e-01,   4.76068762e-01,   4.81882154e-01,\n",
       "          4.87695547e-01,   4.93508939e-01,   4.99322332e-01,\n",
       "          5.05135724e-01,   5.10949116e-01,   5.16762509e-01,\n",
       "          5.22575901e-01,   5.28389294e-01,   5.34202686e-01,\n",
       "          5.40016079e-01,   5.45829471e-01,   5.51642864e-01,\n",
       "          5.57456256e-01,   5.63269649e-01,   5.69083041e-01,\n",
       "          5.74896434e-01,   5.80709826e-01,   5.86523219e-01,\n",
       "          5.92336611e-01,   5.98150004e-01,   6.03963396e-01,\n",
       "          6.09776789e-01,   6.15590181e-01,   6.21403573e-01,\n",
       "          6.27216966e-01,   6.33030358e-01,   6.38843751e-01,\n",
       "          6.44657143e-01,   6.50470536e-01,   6.56283928e-01,\n",
       "          6.62097321e-01,   6.67910713e-01,   6.73724106e-01,\n",
       "          6.79537498e-01,   6.85350891e-01,   6.91164283e-01,\n",
       "          6.96977676e-01,   7.02791068e-01,   7.08604461e-01,\n",
       "          7.14417853e-01,   7.20231245e-01,   7.26044638e-01,\n",
       "          7.31858030e-01,   7.37671423e-01,   7.43484815e-01,\n",
       "          7.49298208e-01,   7.55111600e-01,   7.60924993e-01,\n",
       "          7.66738385e-01,   7.72551778e-01,   7.78365170e-01,\n",
       "          7.84178563e-01,   7.89991955e-01,   7.95805348e-01,\n",
       "          8.01618740e-01,   8.07432133e-01,   8.13245525e-01,\n",
       "          8.19058918e-01,   8.24872310e-01,   8.30685702e-01,\n",
       "          8.36499095e-01]),\n",
       " <a list of 279 Patch objects>)"
      ]
     },
     "execution_count": 91,
     "metadata": {},
     "output_type": "execute_result"
    }
   ],
   "source": [
    "plt.hist(vect, bins='auto')"
   ]
  },
  {
   "cell_type": "code",
   "execution_count": null,
   "metadata": {
    "collapsed": true
   },
   "outputs": [],
   "source": []
  }
 ],
 "metadata": {
  "kernelspec": {
   "display_name": "Python 3",
   "language": "python",
   "name": "python3"
  },
  "language_info": {
   "codemirror_mode": {
    "name": "ipython",
    "version": 3
   },
   "file_extension": ".py",
   "mimetype": "text/x-python",
   "name": "python",
   "nbconvert_exporter": "python",
   "pygments_lexer": "ipython3",
   "version": "3.6.2"
  }
 },
 "nbformat": 4,
 "nbformat_minor": 2
}
