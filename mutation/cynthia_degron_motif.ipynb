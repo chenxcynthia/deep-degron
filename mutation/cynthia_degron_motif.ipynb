{
 "cells": [
  {
   "cell_type": "markdown",
   "metadata": {},
   "source": [
    "# Title\n",
    "Description"
   ]
  },
  {
   "cell_type": "code",
   "execution_count": 1,
   "metadata": {
    "collapsed": true
   },
   "outputs": [],
   "source": [
    "import numpy as np\n",
    "import pandas as pd\n",
    "import matplotlib.pyplot as plt\n",
    "import pickle\n",
    "import seaborn as sns\n",
    "from scipy import stats \n",
    "import sys\n",
    "import sklearn\n",
    "from sklearn.preprocessing import normalize\n",
    "from sklearn.metrics import roc_curve, auc, roc_auc_score\n",
    "import pylab as pl\n",
    "from matplotlib import collections  as mc"
   ]
  },
  {
   "cell_type": "code",
   "execution_count": 2,
   "metadata": {},
   "outputs": [
    {
     "name": "stderr",
     "output_type": "stream",
     "text": [
      "Using TensorFlow backend.\n"
     ]
    }
   ],
   "source": [
    "sys.path.insert(0, '/Users/cynthiachen/Downloads/Internship2019/degron_mutation/deepDegron')\n",
    "from train_nn import *"
   ]
  },
  {
   "cell_type": "code",
   "execution_count": 3,
   "metadata": {
    "collapsed": true
   },
   "outputs": [],
   "source": [
    "wd = '/Users/cynthiachen/Downloads/Internship2019/degron_mutation/'"
   ]
  },
  {
   "cell_type": "code",
   "execution_count": 4,
   "metadata": {},
   "outputs": [
    {
     "name": "stderr",
     "output_type": "stream",
     "text": [
      "WARNING:tensorflow:From /Users/cynthiachen/anaconda2/envs/py36/lib/python3.6/site-packages/tensorflow/python/framework/op_def_library.py:263: colocate_with (from tensorflow.python.framework.ops) is deprecated and will be removed in a future version.\n",
      "Instructions for updating:\n",
      "Colocations handled automatically by placer.\n",
      "WARNING:tensorflow:From /Users/cynthiachen/anaconda2/envs/py36/lib/python3.6/site-packages/keras/backend/tensorflow_backend.py:3445: calling dropout (from tensorflow.python.ops.nn_ops) with keep_prob is deprecated and will be removed in a future version.\n",
      "Instructions for updating:\n",
      "Please use `rate` instead of `keep_prob`. Rate should be set to `rate = 1 - keep_prob`.\n",
      "WARNING:tensorflow:From /Users/cynthiachen/anaconda2/envs/py36/lib/python3.6/site-packages/tensorflow/python/ops/math_ops.py:3066: to_int32 (from tensorflow.python.ops.math_ops) is deprecated and will be removed in a future version.\n",
      "Instructions for updating:\n",
      "Use tf.cast instead.\n"
     ]
    }
   ],
   "source": [
    "# Load pre-trained neural network models from pickle file\n",
    "model_bag_of_words = pickle.load(open( \"../models/neural_network_bag_of_words_v2.pickle\", \"rb\" ))\n",
    "model_pos_specific = pickle.load(open( \"../models/neural_network_pos_specific_v2.pickle\", \"rb\" ))\n",
    "\n",
    "# Create pd dataframe of sequence information \n",
    "degron_pred = pd.read_csv(\"../data/degron_pred.csv\", index_col=0)\n",
    "# Select column of input sequences\n",
    "input_seq = degron_pred.iloc[:, 10]\n",
    "\n",
    "\n",
    "# Use compute_feature_matrix function to encode sequences\n",
    "features = compute_feature_matrix(input_seq, 6, True)\n",
    "condensed_features = features[:, 0:20] # Remove zeros at the end for bag of words prediction\n",
    "\n",
    "# Use pre-trained model to predict sequence degredataion\n",
    "pred_bow_wt = model_bag_of_words.predict_proba(condensed_features) # wild-type bag of words prediction\n",
    "pred_ps_wt = model_pos_specific.predict_proba(features)            # wild-type position-specific prediction\n",
    "drp_wt = pred_ps_wt-pred_bow_wt                                    # wild-type degron regulatory potential"
   ]
  },
  {
   "cell_type": "code",
   "execution_count": 5,
   "metadata": {
    "collapsed": true
   },
   "outputs": [],
   "source": [
    "# Convert string to 2D list of characters\n",
    "\n",
    "seqlist = [] # 2D list of all sequences, with each character as 1 entry \n",
    "for sequence in input_seq:\n",
    "    seqlist.append(list(sequence))"
   ]
  },
  {
   "cell_type": "code",
   "execution_count": 6,
   "metadata": {
    "collapsed": true
   },
   "outputs": [],
   "source": [
    "# Define sequence information variables\n",
    "seq_length = len(seqlist[0]) # 23\n",
    "num_seq = len(seqlist)       # number of total sequences"
   ]
  },
  {
   "cell_type": "code",
   "execution_count": 7,
   "metadata": {
    "collapsed": true
   },
   "outputs": [],
   "source": [
    "# Sort degron sequence information by regulatory potential in descending order (highest to lowest)\n",
    "degron_pred_sorted = degron_pred.sort_values(by=['regulatory potential'], ascending=False)"
   ]
  },
  {
   "cell_type": "markdown",
   "metadata": {},
   "source": [
    "### 1. ROC curve calculation to statistically determine sequence cutoff"
   ]
  },
  {
   "cell_type": "code",
   "execution_count": 8,
   "metadata": {
    "collapsed": true
   },
   "outputs": [],
   "source": [
    "# Determines true labels based on bins\n",
    "# Bins 1 & 2 -> 1 (high degradation)\n",
    "# Bins 3 & 4 -> 0 (low degradation)\n",
    "\n",
    "auc_info = np.asarray(degron_pred_sorted[['Modal Bin', 'sequence position specific', 'bag of words']])\n",
    "\n",
    "for i in range(num_seq):\n",
    "    mbin = auc_info[:, 0][i]\n",
    "    if mbin > 2:\n",
    "        auc_info[:, 0][i] = 0\n",
    "    else:\n",
    "        auc_info[:, 0][i] = 1"
   ]
  },
  {
   "cell_type": "code",
   "execution_count": 9,
   "metadata": {
    "collapsed": true
   },
   "outputs": [],
   "source": [
    "def auc_details(cutoff):\n",
    "    y_true = auc_info[cutoff:num_seq-cutoff, 0]\n",
    "    y_score_ss = auc_info[cutoff:num_seq-cutoff, 1] # Sequence-specific prediction scores\n",
    "    y_score_bow = auc_info[cutoff:num_seq-cutoff, 2] # Bag of words prediction scores\n",
    "\n",
    "    fp_ss, tp_ss, _ = sklearn.metrics.roc_curve(y_true, y_score_ss) # false-positive and true-positive\n",
    "    auc_ss = auc(fp_ss, tp_ss)\n",
    "    fp_bow, tp_bow, _ = sklearn.metrics.roc_curve(y_true, y_score_bow)\n",
    "    auc_bow = auc(fp_bow, tp_bow) \n",
    "    \n",
    "    return [fp_ss, tp_ss, auc_ss, fp_bow, tp_bow, auc_bow]\n",
    "\n",
    "# cutoffs is a 1D list containing the cutoffs to be plotted\n",
    "def plot_auc(cutoffs):\n",
    "    colors = [ ['mediumpurple', 'indigo'], ['lightcoral', 'indianred'],\n",
    "             ['cornflowerblue', 'mediumblue'], ['orange', 'darkorange'],['green', 'darkgreen']]\n",
    "    #Accessed from: stackoverflow.com/questions/22408237/named-colors-in-matplotlib\n",
    "    \n",
    "    plt.figure()\n",
    "    for i in range(len(cutoffs)): \n",
    "        c = cutoffs[i]\n",
    "        a = auc_details(c)\n",
    "\n",
    "        lw = 1.5\n",
    "        plt.plot(a[0], a[1], color = colors[i][0],\n",
    "                 lw = lw, label = 'Cutoff ' + str(c) + ', Sequence-specific (area = %0.3f)' % a[2])\n",
    "        plt.plot(a[3], a[4], color = colors[i][1],\n",
    "                 lw = lw, label = 'Cutoff ' + str(c) + ', Bag-of-words (area = %0.3f)' % a[5])\n",
    "    \n",
    "    plt.plot([0, 1], [0, 1], color='navy', lw=lw, linestyle='--')\n",
    "    plt.xlim([0.0, 1.0])\n",
    "    plt.ylim([0.0, 1.05])\n",
    "    plt.xlabel('False Positive Rate')\n",
    "    plt.ylabel('True Positive Rate')\n",
    "    plt.title('Receiver operating characteristic (ROC), Cutoff = ' + str(c))\n",
    "    plt.legend(loc=\"lower right\")\n",
    "    \n",
    "    cutoffs_str = [str(i) for i in cutoffs]\n",
    "    cutoffs_file_name = '_'.join(cutoffs_str)\n",
    "    plt.savefig(wd+'figures/cutoffs/auc/'+cutoffs_file_name,dpi=300)\n",
    "    plt.close()"
   ]
  },
  {
   "cell_type": "code",
   "execution_count": 11,
   "metadata": {
    "collapsed": true
   },
   "outputs": [],
   "source": [
    "elbow = 1860"
   ]
  },
  {
   "cell_type": "code",
   "execution_count": 13,
   "metadata": {},
   "outputs": [
    {
     "name": "stdout",
     "output_type": "stream",
     "text": [
      "1860\n"
     ]
    },
    {
     "name": "stderr",
     "output_type": "stream",
     "text": [
      "/Users/cynthiachen/anaconda2/envs/py36/lib/python3.6/site-packages/ipykernel_launcher.py:32: MatplotlibDeprecationWarning: Adding an axes using the same arguments as a previous axes currently reuses the earlier instance.  In a future version, a new instance will always be created and returned.  Meanwhile, this warning can be suppressed, and the future behavior ensured, by passing a unique label to each axes instance.\n"
     ]
    }
   ],
   "source": [
    "# Determine delta AUC values for all cutoffs to determine the minimum AUC\n",
    "\n",
    "aucs = []\n",
    "num_cutoffs = 400\n",
    "increment = 20\n",
    "cutoffs = np.asarray(range(num_cutoffs)) * increment\n",
    "\n",
    "b=False\n",
    "for c in cutoffs:\n",
    "    a = auc_details(c)\n",
    "    if (b==False and a[2] - a[5] < 0.01):\n",
    "        print(c)\n",
    "        b=True\n",
    "    aucs.append(a[2] - a[5])\n",
    "    \n",
    "fig = plt.figure()\n",
    "sns.set_style(\"darkgrid\")\n",
    "plt.plot(cutoffs, aucs)\n",
    "plt.xlabel('Cutoff')\n",
    "plt.ylabel('Delta AUC')\n",
    "\n",
    "combined = np.asarray([cutoffs, aucs])\n",
    "min_index = np.argmin(combined[1])\n",
    "seq_cutoff = int(combined[0][min_index]) # cutoff for the minimum difference betweeen SS and BOW\n",
    "\n",
    "# Points\n",
    "plt.plot(seq_cutoff, combined[1][min_index], 'ro')\n",
    "elbow_auc = auc_details(elbow)[2]-auc_details(elbow)[5]\n",
    "plt.plot(elbow, elbow_auc, 'ro')\n",
    "\n",
    "# Add annotation\n",
    "ax = fig.add_subplot(111)\n",
    "ax.annotate(\"Minimum \\n (Cutoff = \"+ str(seq_cutoff)+ \")\", xy=(seq_cutoff, combined[1][min_index]), \n",
    "                  xytext=(seq_cutoff-2000, 0.025), #va=\"bottom\", ha=\"center\",\n",
    "                  bbox=dict(boxstyle=\"round\", fc=\"w\"),\n",
    "                  arrowprops=dict(arrowstyle=\"->\"))\n",
    "elbow = 1860\n",
    "ax.annotate(\"Elbow \\n (Cutoff = \" + str(elbow) + \")\", xy=(elbow, elbow_auc), \n",
    "                  xytext=(elbow, 0.025), #va=\"bottom\", ha=\"center\",\n",
    "                  bbox=dict(boxstyle=\"round\", fc=\"w\"),\n",
    "                  arrowprops=dict(arrowstyle=\"->\"))\n",
    "delta = u'Δ'\n",
    "plt.title(delta + ' AUC at Various Cutoffs')\n",
    "    \n",
    "plt.savefig(wd+'figures/cutoffs/auc/delta_auc_over_cutoffs',dpi=300)\n",
    "#plt.show()\n",
    "plt.close()"
   ]
  },
  {
   "cell_type": "code",
   "execution_count": 14,
   "metadata": {
    "collapsed": true
   },
   "outputs": [],
   "source": [
    "seq_cutoff =1860"
   ]
  },
  {
   "cell_type": "code",
   "execution_count": 15,
   "metadata": {
    "collapsed": true
   },
   "outputs": [],
   "source": [
    "# Plot ROC curve for cutoff with minimum delta AUC in comparison to original AUC\n",
    "\n",
    "plot_auc([0, int(seq_cutoff/2), seq_cutoff])\n",
    "plot_auc([0, 2000])\n",
    "plot_auc([0, seq_cutoff])\n",
    "plot_auc([seq_cutoff])\n",
    "plot_auc([0])"
   ]
  },
  {
   "cell_type": "markdown",
   "metadata": {
    "collapsed": true
   },
   "source": [
    "## 2. Motif Analysis\n",
    "Discover patterns that characterize sequences with high & low degron regulatory potential"
   ]
  },
  {
   "cell_type": "code",
   "execution_count": 16,
   "metadata": {
    "collapsed": true
   },
   "outputs": [],
   "source": [
    "# Select only the \"sequence\" and \"potential\" columns and format values into a list\n",
    "degron_seq_scores = degron_pred_sorted[['Peptide amino acid sequence','regulatory potential']].values.tolist()"
   ]
  },
  {
   "cell_type": "code",
   "execution_count": 63,
   "metadata": {
    "collapsed": true
   },
   "outputs": [],
   "source": [
    "# Function description: Determine the frequency of each kmer within the dataset\n",
    "#\n",
    "# Cutoff -- number of sequences from the top + bottom to consider for motif analysis\n",
    "# kmer length -- length of kmers to be considered\n",
    "# terminal -- how many amino acids to consider for each sequence (starting from the end)\n",
    "#\n",
    "# Returns a dictionary (key: kmer, value: frequency)\n",
    "\n",
    "def kmer_freq(cutoff, kmer_length, terminal = seq_length):\n",
    "    top = degron_seq_scores[0:cutoff]\n",
    "    bottom = degron_seq_scores[-cutoff:]\n",
    "    kmers = []\n",
    "    kmer_dict = {}\n",
    "    \n",
    "    for row in top:\n",
    "        sequence = row[0]\n",
    "        for j in range(seq_length - terminal, seq_length - kmer_length + 1):\n",
    "            kmers.append((sequence[j:(j + kmer_length)]+str(j+1), row[1])) # add k-mer and corresponding score\n",
    "    \n",
    "    # Normalize drp scores to emphasize differences\n",
    "    kmers = np.asarray(kmers) # Convert kmers to np array from a list\n",
    "    x = np.asarray(list(map(float, kmers[:, 1])))\n",
    "    normalized = (x-min(x))/(max(x)-min(x))\n",
    "    kmers[:,1] = normalized\n",
    "    \n",
    "    # Convert list of kmers into 1 string\n",
    "    kmer_str = \" \".join(kmers[:, 0])\n",
    "    kmer_list = list(kmers[:, 0])\n",
    "    \n",
    "    unique_kmers = [] \n",
    "  \n",
    "    # Determine all unique kmers\n",
    "    for i in kmer_list: \n",
    "        # checking for duplicacy \n",
    "        if i not in unique_kmers: \n",
    "            # insert value in str2 \n",
    "            unique_kmers.append(i)  \n",
    "    \n",
    "    for i in range(0, len(unique_kmers)): \n",
    "        # count the frequency of each unique kmer and print \n",
    "        #print('Frequency of', unique_kmers[i], 'is :', kmer_list.count(unique_kmers[i]))\n",
    "        kmer_dict.update({unique_kmers[i] : kmer_list.count(unique_kmers[i])})\n",
    "    \n",
    "    # Returns dictionary of [kmer sequence] -> [frequency]\n",
    "    return kmer_dict"
   ]
  },
  {
   "cell_type": "markdown",
   "metadata": {},
   "source": [
    "#### K-mer probability calculation to statistically determine what defines a \"motif\""
   ]
  },
  {
   "cell_type": "code",
   "execution_count": 18,
   "metadata": {
    "collapsed": true
   },
   "outputs": [],
   "source": [
    "seq_cutoff = 1860"
   ]
  },
  {
   "cell_type": "code",
   "execution_count": null,
   "metadata": {
    "collapsed": true
   },
   "outputs": [],
   "source": [
    "kmer_length = 3\n",
    "t = 6\n",
    "kmer_dict = kmer_freq(cutoff = num_seq, kmer_length = kmer_length, terminal = t) # not excluding any sequences\n",
    "kmer_dict_top = kmer_freq(cutoff = seq_cutoff, kmer_length = kmer_length, terminal = t)\n",
    "\n",
    "# Create motif information dictionary:\n",
    "# Key: kmer\n",
    "# Values (kmer-specific):\n",
    "# -- 1) total count (frequency of kmer among all sequences)\n",
    "# -- 2) baseline probability, \n",
    "# -- 3) top count (frequency of kmer among \"top\" sequences as determined by seq_cutoff, \n",
    "# -- 4) p-value\n",
    "\n",
    "kmer_info = {}\n",
    "\n",
    "for kmer in kmer_dict_top:\n",
    "    total_count = kmer_dict[kmer]\n",
    "    baseline_prob = total_count / num_seq\n",
    "    top_count = kmer_dict_top[kmer] # Frequency kmer among top sequences \n",
    "    p_value = stats.binom.sf(top_count - 1, seq_cutoff, baseline_prob) # Subtract 1 because of inclusitivity\n",
    "    kmer_info.update({kmer : [total_count, baseline_prob, top_count, p_value]})              \n",
    "                      "
   ]
  },
  {
   "cell_type": "code",
   "execution_count": 58,
   "metadata": {},
   "outputs": [
    {
     "data": {
      "text/plain": [
       "[17, 0.0010457677165354332, 1, 0.8571765088000691]"
      ]
     },
     "execution_count": 58,
     "metadata": {},
     "output_type": "execute_result"
    }
   ],
   "source": [
    "kmer_info['EED18']"
   ]
  },
  {
   "cell_type": "code",
   "execution_count": 20,
   "metadata": {},
   "outputs": [
    {
     "data": {
      "text/plain": [
       "[38, 0.0023375984251968506, 10, 0.013722859130167566]"
      ]
     },
     "execution_count": 20,
     "metadata": {},
     "output_type": "execute_result"
    }
   ],
   "source": [
    "kmer_info['LSA']"
   ]
  },
  {
   "cell_type": "code",
   "execution_count": 21,
   "metadata": {},
   "outputs": [
    {
     "data": {
      "text/plain": [
       "0.0023375984251968506"
      ]
     },
     "execution_count": 21,
     "metadata": {},
     "output_type": "execute_result"
    }
   ],
   "source": [
    "0.0023375984251968506"
   ]
  },
  {
   "cell_type": "code",
   "execution_count": 22,
   "metadata": {
    "collapsed": true
   },
   "outputs": [],
   "source": [
    "# kmer3 = kmer_dict\n",
    "# kmer3top = kmer_dict_top"
   ]
  },
  {
   "cell_type": "code",
   "execution_count": 59,
   "metadata": {
    "collapsed": true
   },
   "outputs": [],
   "source": [
    "def graph_binom(kmer):\n",
    "    plt.close()\n",
    "    # Retrieve kmer information from compiled dictionary\n",
    "    info = kmer_info[kmer]\n",
    "    top_count = info[2]\n",
    "    baseline_prob = info[1] \n",
    "    p_value = info[3]\n",
    "    \n",
    "    # Determine frequency range to be plotted\n",
    "    #middle = int(baseline_prob * seq_cutoff)\n",
    "    middle = top_count\n",
    "    freqs = range(middle - 20, middle + 20, 1)\n",
    "    \n",
    "    # Plot kmer-specific binomial curve\n",
    "    binom_vals = []\n",
    "    for i in freqs:\n",
    "        binom_vals.append(stats.binom.sf(i, seq_cutoff, baseline_prob))\n",
    "    \n",
    "    fig = plt.figure()\n",
    "    plt.plot(freqs, binom_vals, 'b', label = \"Binomial expression\")\n",
    "\n",
    "    # Add annotations\n",
    "    \n",
    "    # horizontal ray\n",
    "    plt.axhline(y=p_value, xmax=0.5, color='r', linestyle='--', label = \"y = p-value\", lw = 1)\n",
    "    # vertical ray\n",
    "    #plt.axvline(x=top_count, ymax=p_value, color='r', linestyle='--', label = \"x = count\", lw = 1)\n",
    "    #plt.plot(pair_x, pair_y, 'm', linewidth=3)\n",
    "\n",
    "    # based on top_freq\n",
    "    ax = fig.add_subplot(111)\n",
    "\n",
    "    plt.plot(top_count, p_value, 'ro') # point\n",
    "    \n",
    "    # plt.plot(motif_cutoff, binom_value, 'ro') #point\n",
    "    # ax.annotate(\"Optimal Motif Frequency \\n Cutoff = \" + str(motif_cutoff), xy=(motif_cutoff, binom_value), \n",
    "    #                   xytext=(motif_cutoff-8, 0.4), #va=\"bottom\", ha=\"center\",\n",
    "    #                   bbox=dict(boxstyle=\"round\", fc=\"w\"),\n",
    "    #                   arrowprops=dict(arrowstyle=\"->\"))\n",
    "\n",
    "    plt.xlabel('Frequency Count')\n",
    "    plt.ylabel('Binomial Survival Expression')\n",
    "    plt.legend(loc=\"upper right\")\n",
    "    plt.title(\"Motif-Specific Binomial Survival Expression over Frequency Cutoffs: \\n Motif = \" + kmer)\n",
    "    plt.savefig(wd+'figures/cutoffs/binomial/'+kmer,dpi=300)\n",
    "    plt.close()\n",
    "    "
   ]
  },
  {
   "cell_type": "code",
   "execution_count": 60,
   "metadata": {},
   "outputs": [
    {
     "name": "stderr",
     "output_type": "stream",
     "text": [
      "/Users/cynthiachen/anaconda2/envs/py36/lib/python3.6/site-packages/ipykernel_launcher.py:31: MatplotlibDeprecationWarning: Adding an axes using the same arguments as a previous axes currently reuses the earlier instance.  In a future version, a new instance will always be created and returned.  Meanwhile, this warning can be suppressed, and the future behavior ensured, by passing a unique label to each axes instance.\n"
     ]
    }
   ],
   "source": [
    "graph_binom('EED18')"
   ]
  },
  {
   "cell_type": "markdown",
   "metadata": {},
   "source": [
    "Determining the positions of top motifs"
   ]
  },
  {
   "cell_type": "code",
   "execution_count": 61,
   "metadata": {
    "collapsed": true
   },
   "outputs": [],
   "source": [
    "kmer_info_sorted = sorted(kmer_info.items(), key=lambda item: item[1][3])\n",
    "\n",
    "i = 0\n",
    "while (kmer_info_sorted[i][1][3] <= 0.05):\n",
    "    i=i+1\n",
    "motif_cutoff = i\n",
    "\n",
    "top_motifs = kmer_info_sorted[0:motif_cutoff]\n",
    "top_sequences = degron_seq_scores[0:seq_cutoff]"
   ]
  },
  {
   "cell_type": "code",
   "execution_count": 62,
   "metadata": {},
   "outputs": [
    {
     "data": {
      "text/plain": [
       "[('LRR18', [18, 0.0011072834645669291, 13, 2.7903387822653654e-07]),\n",
       " ('GCR20', [9, 0.0005536417322834646, 9, 1.4053830614096037e-06]),\n",
       " ('CGC19', [22, 0.0013533464566929134, 13, 2.496778469842079e-06]),\n",
       " ('SEE20', [13, 0.0007997047244094488, 10, 3.743770647546968e-06]),\n",
       " ('AAS20', [15, 0.0009227362204724409, 10, 1.2766157775784433e-05]),\n",
       " ('TRV20', [12, 0.0007381889763779527, 8, 9.241095095667805e-05]),\n",
       " ('EVS20', [7, 0.00043061023622047243, 6, 0.00018437982408369368]),\n",
       " ('GEE20', [10, 0.0006151574803149606, 7, 0.00018728718640331977]),\n",
       " ('TTV20', [22, 0.0013533464566929134, 10, 0.0002886106401720981]),\n",
       " ('RRK19', [22, 0.0013533464566929134, 10, 0.0002886106401720981]),\n",
       " ('QKV19', [8, 0.0004921259842519685, 6, 0.0003731537351525097]),\n",
       " ('TAV20', [8, 0.0004921259842519685, 6, 0.0003731537351525097]),\n",
       " ('SVS20', [15, 0.0009227362204724409, 8, 0.00040878144798979076]),\n",
       " ('ESC17', [6, 0.00036909448818897637, 5, 0.0007178015406454016]),\n",
       " ('TAF20', [6, 0.00036909448818897637, 5, 0.0007178015406454016]),\n",
       " ('YAT20', [6, 0.00036909448818897637, 5, 0.0007178015406454016]),\n",
       " ('RLR17', [13, 0.0007997047244094488, 7, 0.0008763982803083667]),\n",
       " ('ETT19', [10, 0.0006151574803149606, 6, 0.0011751373387720527]),\n",
       " ('SRG20', [4, 0.00024606299212598425, 4, 0.0012681666697753834]),\n",
       " ('SCG19', [4, 0.00024606299212598425, 4, 0.0012681666697753834]),\n",
       " ('RAA20', [4, 0.00024606299212598425, 4, 0.0012681666697753834]),\n",
       " ('RLA20', [4, 0.00024606299212598425, 4, 0.0012681666697753834]),\n",
       " ('AAR20', [4, 0.00024606299212598425, 4, 0.0012681666697753834]),\n",
       " ('ELI17', [4, 0.00024606299212598425, 4, 0.0012681666697753834]),\n",
       " ('VAA19', [4, 0.00024606299212598425, 4, 0.0012681666697753834]),\n",
       " ('TVV20', [14, 0.0008612204724409449, 7, 0.0013356406818612397]),\n",
       " ('LCR20', [7, 0.00043061023622047243, 5, 0.0014131965054608921]),\n",
       " ('PRR19', [7, 0.00043061023622047243, 5, 0.0014131965054608921]),\n",
       " ('VEP18', [7, 0.00043061023622047243, 5, 0.0014131965054608921]),\n",
       " ('LAT20', [7, 0.00043061023622047243, 5, 0.0014131965054608921]),\n",
       " ('ECG18', [11, 0.0006766732283464567, 6, 0.0018921975610509385]),\n",
       " ('LQA18', [5, 0.0003075787401574803, 4, 0.002830412530945081]),\n",
       " ('ARG20', [5, 0.0003075787401574803, 4, 0.002830412530945081]),\n",
       " ('GET18', [5, 0.0003075787401574803, 4, 0.002830412530945081]),\n",
       " ('PVF20', [5, 0.0003075787401574803, 4, 0.002830412530945081]),\n",
       " ('LRG19', [5, 0.0003075787401574803, 4, 0.002830412530945081]),\n",
       " ('VVS18', [5, 0.0003075787401574803, 4, 0.002830412530945081]),\n",
       " ('KVG20', [5, 0.0003075787401574803, 4, 0.002830412530945081]),\n",
       " ('EPT19', [5, 0.0003075787401574803, 4, 0.002830412530945081]),\n",
       " ('SAA20', [9, 0.0005536417322834646, 5, 0.004123195087143962]),\n",
       " ('VTT19', [9, 0.0005536417322834646, 5, 0.004123195087143962]),\n",
       " ('ISS18', [9, 0.0005536417322834646, 5, 0.004123195087143962]),\n",
       " ('RKD20', [9, 0.0005536417322834646, 5, 0.004123195087143962]),\n",
       " ('ALA18', [9, 0.0005536417322834646, 5, 0.004123195087143962]),\n",
       " ('TSP18', [9, 0.0005536417322834646, 5, 0.004123195087143962]),\n",
       " ('LVS20', [13, 0.0007997047244094488, 6, 0.00426212481045319]),\n",
       " ('QRG20', [3, 0.00018454724409448819, 3, 0.005216151110525695]),\n",
       " ('SGA20', [3, 0.00018454724409448819, 3, 0.005216151110525695]),\n",
       " ('RTC20', [3, 0.00018454724409448819, 3, 0.005216151110525695]),\n",
       " ('QLA19', [3, 0.00018454724409448819, 3, 0.005216151110525695]),\n",
       " ('GGG20', [3, 0.00018454724409448819, 3, 0.005216151110525695]),\n",
       " ('RTA20', [3, 0.00018454724409448819, 3, 0.005216151110525695]),\n",
       " ('ISG20', [3, 0.00018454724409448819, 3, 0.005216151110525695]),\n",
       " ('IIT19', [3, 0.00018454724409448819, 3, 0.005216151110525695]),\n",
       " ('ARV19', [3, 0.00018454724409448819, 3, 0.005216151110525695]),\n",
       " ('CQA19', [3, 0.00018454724409448819, 3, 0.005216151110525695]),\n",
       " ('ELR18', [3, 0.00018454724409448819, 3, 0.005216151110525695]),\n",
       " ('RRA19', [3, 0.00018454724409448819, 3, 0.005216151110525695]),\n",
       " ('AVS20', [3, 0.00018454724409448819, 3, 0.005216151110525695]),\n",
       " ('TKR17', [3, 0.00018454724409448819, 3, 0.005216151110525695]),\n",
       " ('ATQ20', [3, 0.00018454724409448819, 3, 0.005216151110525695]),\n",
       " ('CPG20', [3, 0.00018454724409448819, 3, 0.005216151110525695]),\n",
       " ('VRS19', [3, 0.00018454724409448819, 3, 0.005216151110525695]),\n",
       " ('TMS19', [3, 0.00018454724409448819, 3, 0.005216151110525695]),\n",
       " ('TPC20', [3, 0.00018454724409448819, 3, 0.005216151110525695]),\n",
       " ('RHV17', [3, 0.00018454724409448819, 3, 0.005216151110525695]),\n",
       " ('NLI18', [3, 0.00018454724409448819, 3, 0.005216151110525695]),\n",
       " ('HAG19', [3, 0.00018454724409448819, 3, 0.005216151110525695]),\n",
       " ('KLE17', [3, 0.00018454724409448819, 3, 0.005216151110525695]),\n",
       " ('CGF20', [3, 0.00018454724409448819, 3, 0.005216151110525695]),\n",
       " ('EVL17', [6, 0.00036909448818897637, 4, 0.005367504490762346]),\n",
       " ('SVR18', [6, 0.00036909448818897637, 4, 0.005367504490762346]),\n",
       " ('KVS20', [6, 0.00036909448818897637, 4, 0.005367504490762346]),\n",
       " ('CRR18', [6, 0.00036909448818897637, 4, 0.005367504490762346]),\n",
       " ('KPV19', [6, 0.00036909448818897637, 4, 0.005367504490762346]),\n",
       " ('VTV20', [6, 0.00036909448818897637, 4, 0.005367504490762346]),\n",
       " ('KRY18', [6, 0.00036909448818897637, 4, 0.005367504490762346]),\n",
       " ('AAT20', [6, 0.00036909448818897637, 4, 0.005367504490762346]),\n",
       " ('RLT20', [6, 0.00036909448818897637, 4, 0.005367504490762346]),\n",
       " ('PSC19', [6, 0.00036909448818897637, 4, 0.005367504490762346]),\n",
       " ('MEV18', [6, 0.00036909448818897637, 4, 0.005367504490762346]),\n",
       " ('ELV17', [6, 0.00036909448818897637, 4, 0.005367504490762346]),\n",
       " ('GGP20', [6, 0.00036909448818897637, 4, 0.005367504490762346]),\n",
       " ('GIR18', [6, 0.00036909448818897637, 4, 0.005367504490762346]),\n",
       " ('LDS18', [14, 0.0008612204724409449, 6, 0.006047447079745005]),\n",
       " ('ELE19', [10, 0.0006151574803149606, 5, 0.006366063562598325]),\n",
       " ('SSV19', [10, 0.0006151574803149606, 5, 0.006366063562598325]),\n",
       " ('ETL18', [10, 0.0006151574803149606, 5, 0.006366063562598325]),\n",
       " ('RRH20', [7, 0.00043061023622047243, 4, 0.00909755697947735]),\n",
       " ('AVA19', [7, 0.00043061023622047243, 4, 0.00909755697947735]),\n",
       " ('AAA20', [7, 0.00043061023622047243, 4, 0.00909755697947735]),\n",
       " ('LCS20', [7, 0.00043061023622047243, 4, 0.00909755697947735]),\n",
       " ('ASE19', [7, 0.00043061023622047243, 4, 0.00909755697947735]),\n",
       " ('VKA20', [7, 0.00043061023622047243, 4, 0.00909755697947735]),\n",
       " ('VVS20', [7, 0.00043061023622047243, 4, 0.00909755697947735]),\n",
       " ('EEA20', [7, 0.00043061023622047243, 4, 0.00909755697947735]),\n",
       " ('QSV19', [7, 0.00043061023622047243, 4, 0.00909755697947735]),\n",
       " ('EIA19', [7, 0.00043061023622047243, 4, 0.00909755697947735]),\n",
       " ('RPV20', [7, 0.00043061023622047243, 4, 0.00909755697947735]),\n",
       " ('SVT18', [11, 0.0006766732283464567, 5, 0.009350125180799123]),\n",
       " ('SLA17', [11, 0.0006766732283464567, 5, 0.009350125180799123]),\n",
       " ('VAA20', [4, 0.00024606299212598425, 3, 0.011368953373712779]),\n",
       " ('GLT17', [4, 0.00024606299212598425, 3, 0.011368953373712779]),\n",
       " ('PVR17', [4, 0.00024606299212598425, 3, 0.011368953373712779]),\n",
       " ('RRG20', [4, 0.00024606299212598425, 3, 0.011368953373712779]),\n",
       " ('RRG19', [4, 0.00024606299212598425, 3, 0.011368953373712779]),\n",
       " ('ECR20', [4, 0.00024606299212598425, 3, 0.011368953373712779]),\n",
       " ('KAA20', [4, 0.00024606299212598425, 3, 0.011368953373712779]),\n",
       " ('TEE20', [4, 0.00024606299212598425, 3, 0.011368953373712779]),\n",
       " ('GGA20', [4, 0.00024606299212598425, 3, 0.011368953373712779]),\n",
       " ('PGG20', [4, 0.00024606299212598425, 3, 0.011368953373712779]),\n",
       " ('PIN20', [4, 0.00024606299212598425, 3, 0.011368953373712779]),\n",
       " ('TSG20', [4, 0.00024606299212598425, 3, 0.011368953373712779]),\n",
       " ('EFV19', [4, 0.00024606299212598425, 3, 0.011368953373712779]),\n",
       " ('KLC19', [4, 0.00024606299212598425, 3, 0.011368953373712779]),\n",
       " ('EVW19', [4, 0.00024606299212598425, 3, 0.011368953373712779]),\n",
       " ('TTS17', [4, 0.00024606299212598425, 3, 0.011368953373712779]),\n",
       " ('GKA20', [4, 0.00024606299212598425, 3, 0.011368953373712779]),\n",
       " ('TAM19', [4, 0.00024606299212598425, 3, 0.011368953373712779]),\n",
       " ('SPR18', [4, 0.00024606299212598425, 3, 0.011368953373712779]),\n",
       " ('CEV19', [4, 0.00024606299212598425, 3, 0.011368953373712779]),\n",
       " ('SVE18', [4, 0.00024606299212598425, 3, 0.011368953373712779]),\n",
       " ('EVR18', [4, 0.00024606299212598425, 3, 0.011368953373712779]),\n",
       " ('MLT18', [4, 0.00024606299212598425, 3, 0.011368953373712779]),\n",
       " ('VPV17', [4, 0.00024606299212598425, 3, 0.011368953373712779]),\n",
       " ('PGR20', [4, 0.00024606299212598425, 3, 0.011368953373712779]),\n",
       " ('PSG20', [4, 0.00024606299212598425, 3, 0.011368953373712779]),\n",
       " ('SVG20', [4, 0.00024606299212598425, 3, 0.011368953373712779]),\n",
       " ('PLD17', [4, 0.00024606299212598425, 3, 0.011368953373712779]),\n",
       " ('GLE18', [4, 0.00024606299212598425, 3, 0.011368953373712779]),\n",
       " ('LVP18', [4, 0.00024606299212598425, 3, 0.011368953373712779]),\n",
       " ('SMT17', [4, 0.00024606299212598425, 3, 0.011368953373712779]),\n",
       " ('MTM18', [4, 0.00024606299212598425, 3, 0.011368953373712779]),\n",
       " ('ISA20', [4, 0.00024606299212598425, 3, 0.011368953373712779]),\n",
       " ('CVM20', [4, 0.00024606299212598425, 3, 0.011368953373712779]),\n",
       " ('SRE20', [4, 0.00024606299212598425, 3, 0.011368953373712779]),\n",
       " ('SIE19', [4, 0.00024606299212598425, 3, 0.011368953373712779]),\n",
       " ('IEA20', [4, 0.00024606299212598425, 3, 0.011368953373712779]),\n",
       " ('PAC20', [4, 0.00024606299212598425, 3, 0.011368953373712779]),\n",
       " ('PKA20', [4, 0.00024606299212598425, 3, 0.011368953373712779]),\n",
       " ('GSQ17', [4, 0.00024606299212598425, 3, 0.011368953373712779]),\n",
       " ('QSR19', [4, 0.00024606299212598425, 3, 0.011368953373712779]),\n",
       " ('RGS20', [4, 0.00024606299212598425, 3, 0.011368953373712779]),\n",
       " ('VRP19', [4, 0.00024606299212598425, 3, 0.011368953373712779]),\n",
       " ('RTV19', [4, 0.00024606299212598425, 3, 0.011368953373712779]),\n",
       " ('GSC18', [4, 0.00024606299212598425, 3, 0.011368953373712779]),\n",
       " ('LAC20', [4, 0.00024606299212598425, 3, 0.011368953373712779]),\n",
       " ('LLQ19', [12, 0.0007381889763779527, 5, 0.013178900068461947]),\n",
       " ('LAA19', [8, 0.0004921259842519685, 4, 0.014204583193065064]),\n",
       " ('KEE20', [8, 0.0004921259842519685, 4, 0.014204583193065064]),\n",
       " ('SPA17', [8, 0.0004921259842519685, 4, 0.014204583193065064]),\n",
       " ('REG18', [8, 0.0004921259842519685, 4, 0.014204583193065064]),\n",
       " ('PAV18', [8, 0.0004921259842519685, 4, 0.014204583193065064]),\n",
       " ('LEV17', [8, 0.0004921259842519685, 4, 0.014204583193065064]),\n",
       " ('DAE19', [8, 0.0004921259842519685, 4, 0.014204583193065064]),\n",
       " ('LPK17', [8, 0.0004921259842519685, 4, 0.014204583193065064]),\n",
       " ('IKV18', [8, 0.0004921259842519685, 4, 0.014204583193065064]),\n",
       " ('GLE17', [8, 0.0004921259842519685, 4, 0.014204583193065064]),\n",
       " ('LNS19', [8, 0.0004921259842519685, 4, 0.014204583193065064]),\n",
       " ('ILK20', [8, 0.0004921259842519685, 4, 0.014204583193065064]),\n",
       " ('ACG18', [8, 0.0004921259842519685, 4, 0.014204583193065064]),\n",
       " ('RKE20', [8, 0.0004921259842519685, 4, 0.014204583193065064]),\n",
       " ('ALL18', [13, 0.0007997047244094488, 5, 0.017945149325222835]),\n",
       " ('LLS17', [13, 0.0007997047244094488, 5, 0.017945149325222835]),\n",
       " ('AEE20', [5, 0.0003075787401574803, 3, 0.02042827758233493]),\n",
       " ('GAA20', [5, 0.0003075787401574803, 3, 0.02042827758233493]),\n",
       " ('AAV19', [5, 0.0003075787401574803, 3, 0.02042827758233493]),\n",
       " ('GLR17', [5, 0.0003075787401574803, 3, 0.02042827758233493]),\n",
       " ('EKE19', [5, 0.0003075787401574803, 3, 0.02042827758233493]),\n",
       " ('AQR19', [5, 0.0003075787401574803, 3, 0.02042827758233493]),\n",
       " ('LAA20', [5, 0.0003075787401574803, 3, 0.02042827758233493]),\n",
       " ('VYE17', [5, 0.0003075787401574803, 3, 0.02042827758233493]),\n",
       " ('IPL18', [5, 0.0003075787401574803, 3, 0.02042827758233493]),\n",
       " ('TCR20', [5, 0.0003075787401574803, 3, 0.02042827758233493]),\n",
       " ('VLN17', [5, 0.0003075787401574803, 3, 0.02042827758233493]),\n",
       " ('ACS20', [5, 0.0003075787401574803, 3, 0.02042827758233493]),\n",
       " ('VEE20', [5, 0.0003075787401574803, 3, 0.02042827758233493]),\n",
       " ('SQV20', [5, 0.0003075787401574803, 3, 0.02042827758233493]),\n",
       " ('KVK17', [5, 0.0003075787401574803, 3, 0.02042827758233493]),\n",
       " ('LSG18', [5, 0.0003075787401574803, 3, 0.02042827758233493]),\n",
       " ('EII17', [5, 0.0003075787401574803, 3, 0.02042827758233493]),\n",
       " ('AVA20', [5, 0.0003075787401574803, 3, 0.02042827758233493]),\n",
       " ('QQS20', [5, 0.0003075787401574803, 3, 0.02042827758233493]),\n",
       " ('RVS20', [5, 0.0003075787401574803, 3, 0.02042827758233493]),\n",
       " ('KVI17', [5, 0.0003075787401574803, 3, 0.02042827758233493]),\n",
       " ('VIS18', [5, 0.0003075787401574803, 3, 0.02042827758233493]),\n",
       " ('LRL19', [5, 0.0003075787401574803, 3, 0.02042827758233493]),\n",
       " ('AKA20', [5, 0.0003075787401574803, 3, 0.02042827758233493]),\n",
       " ('RYA19', [5, 0.0003075787401574803, 3, 0.02042827758233493]),\n",
       " ('LVA18', [5, 0.0003075787401574803, 3, 0.02042827758233493]),\n",
       " ('PLI17', [5, 0.0003075787401574803, 3, 0.02042827758233493]),\n",
       " ('ITY20', [5, 0.0003075787401574803, 3, 0.02042827758233493]),\n",
       " ('PSC20', [5, 0.0003075787401574803, 3, 0.02042827758233493]),\n",
       " ('QVV18', [5, 0.0003075787401574803, 3, 0.02042827758233493]),\n",
       " ('IQA18', [5, 0.0003075787401574803, 3, 0.02042827758233493]),\n",
       " ('MSV20', [5, 0.0003075787401574803, 3, 0.02042827758233493]),\n",
       " ('SET20', [5, 0.0003075787401574803, 3, 0.02042827758233493]),\n",
       " ('LPI17', [5, 0.0003075787401574803, 3, 0.02042827758233493]),\n",
       " ('ILQ18', [5, 0.0003075787401574803, 3, 0.02042827758233493]),\n",
       " ('LQQ19', [5, 0.0003075787401574803, 3, 0.02042827758233493]),\n",
       " ('VDG20', [5, 0.0003075787401574803, 3, 0.02042827758233493]),\n",
       " ('LDR18', [5, 0.0003075787401574803, 3, 0.02042827758233493]),\n",
       " ('TYR18', [5, 0.0003075787401574803, 3, 0.02042827758233493]),\n",
       " ('KGR17', [5, 0.0003075787401574803, 3, 0.02042827758233493]),\n",
       " ('RLQ17', [5, 0.0003075787401574803, 3, 0.02042827758233493]),\n",
       " ('KVV17', [5, 0.0003075787401574803, 3, 0.02042827758233493]),\n",
       " ('VSC19', [5, 0.0003075787401574803, 3, 0.02042827758233493]),\n",
       " ('SCP20', [5, 0.0003075787401574803, 3, 0.02042827758233493]),\n",
       " ('EAC17', [5, 0.0003075787401574803, 3, 0.02042827758233493]),\n",
       " ('PTC20', [5, 0.0003075787401574803, 3, 0.02042827758233493]),\n",
       " ('LPR18', [5, 0.0003075787401574803, 3, 0.02042827758233493]),\n",
       " ('VET20', [5, 0.0003075787401574803, 3, 0.02042827758233493]),\n",
       " ('LVN19', [5, 0.0003075787401574803, 3, 0.02042827758233493]),\n",
       " ('RPA19', [5, 0.0003075787401574803, 3, 0.02042827758233493]),\n",
       " ('KVN20', [5, 0.0003075787401574803, 3, 0.02042827758233493]),\n",
       " ('GLR20', [5, 0.0003075787401574803, 3, 0.02042827758233493]),\n",
       " ('PAN20', [5, 0.0003075787401574803, 3, 0.02042827758233493]),\n",
       " ('RPS20', [5, 0.0003075787401574803, 3, 0.02042827758233493]),\n",
       " ('RLL17', [9, 0.0005536417322834646, 4, 0.020832838149875195]),\n",
       " ('LSV17', [9, 0.0005536417322834646, 4, 0.020832838149875195]),\n",
       " ('VSC20', [9, 0.0005536417322834646, 4, 0.020832838149875195]),\n",
       " ('LAQ18', [9, 0.0005536417322834646, 4, 0.020832838149875195]),\n",
       " ('AEL20', [9, 0.0005536417322834646, 4, 0.020832838149875195]),\n",
       " ('LEA20', [9, 0.0005536417322834646, 4, 0.020832838149875195]),\n",
       " ('STT18', [9, 0.0005536417322834646, 4, 0.020832838149875195]),\n",
       " ('ALA17', [9, 0.0005536417322834646, 4, 0.020832838149875195]),\n",
       " ('PVE17', [9, 0.0005536417322834646, 4, 0.020832838149875195]),\n",
       " ('GCS20', [9, 0.0005536417322834646, 4, 0.020832838149875195]),\n",
       " ('SRR19', [9, 0.0005536417322834646, 4, 0.020832838149875195]),\n",
       " ('PAY20', [2, 0.00012303149606299212, 2, 0.0225032046267791]),\n",
       " ('AVC20', [2, 0.00012303149606299212, 2, 0.0225032046267791]),\n",
       " ('TRG20', [2, 0.00012303149606299212, 2, 0.0225032046267791]),\n",
       " ('RGG20', [2, 0.00012303149606299212, 2, 0.0225032046267791]),\n",
       " ('QVC19', [2, 0.00012303149606299212, 2, 0.0225032046267791]),\n",
       " ('VCT20', [2, 0.00012303149606299212, 2, 0.0225032046267791]),\n",
       " ('VEC19', [2, 0.00012303149606299212, 2, 0.0225032046267791]),\n",
       " ('LEE20', [2, 0.00012303149606299212, 2, 0.0225032046267791]),\n",
       " ('KII17', [2, 0.00012303149606299212, 2, 0.0225032046267791]),\n",
       " ('SWV18', [2, 0.00012303149606299212, 2, 0.0225032046267791]),\n",
       " ('YEE20', [2, 0.00012303149606299212, 2, 0.0225032046267791]),\n",
       " ('DTR18', [2, 0.00012303149606299212, 2, 0.0225032046267791]),\n",
       " ('QVC20', [2, 0.00012303149606299212, 2, 0.0225032046267791]),\n",
       " ('GSV17', [2, 0.00012303149606299212, 2, 0.0225032046267791]),\n",
       " ('LEC19', [2, 0.00012303149606299212, 2, 0.0225032046267791]),\n",
       " ('CTC19', [2, 0.00012303149606299212, 2, 0.0225032046267791]),\n",
       " ('NRC19', [2, 0.00012303149606299212, 2, 0.0225032046267791]),\n",
       " ('QSV17', [2, 0.00012303149606299212, 2, 0.0225032046267791]),\n",
       " ('VAC19', [2, 0.00012303149606299212, 2, 0.0225032046267791]),\n",
       " ('RVQ20', [2, 0.00012303149606299212, 2, 0.0225032046267791]),\n",
       " ('YLY18', [2, 0.00012303149606299212, 2, 0.0225032046267791]),\n",
       " ('EGC17', [2, 0.00012303149606299212, 2, 0.0225032046267791]),\n",
       " ('DGG20', [2, 0.00012303149606299212, 2, 0.0225032046267791]),\n",
       " ('LVC20', [2, 0.00012303149606299212, 2, 0.0225032046267791]),\n",
       " ('YSP17', [2, 0.00012303149606299212, 2, 0.0225032046267791]),\n",
       " ('MSQ17', [2, 0.00012303149606299212, 2, 0.0225032046267791]),\n",
       " ('HAQ20', [2, 0.00012303149606299212, 2, 0.0225032046267791]),\n",
       " ('TLH18', [2, 0.00012303149606299212, 2, 0.0225032046267791]),\n",
       " ('HGG20', [2, 0.00012303149606299212, 2, 0.0225032046267791]),\n",
       " ('AIR18', [2, 0.00012303149606299212, 2, 0.0225032046267791]),\n",
       " ('NPV19', [2, 0.00012303149606299212, 2, 0.0225032046267791]),\n",
       " ('PVC20', [2, 0.00012303149606299212, 2, 0.0225032046267791]),\n",
       " ('ISA18', [2, 0.00012303149606299212, 2, 0.0225032046267791]),\n",
       " ('MLR18', [2, 0.00012303149606299212, 2, 0.0225032046267791]),\n",
       " ('RLC20', [2, 0.00012303149606299212, 2, 0.0225032046267791]),\n",
       " ('LIF18', [2, 0.00012303149606299212, 2, 0.0225032046267791]),\n",
       " ('RTC17', [2, 0.00012303149606299212, 2, 0.0225032046267791]),\n",
       " ('ITE18', [2, 0.00012303149606299212, 2, 0.0225032046267791]),\n",
       " ('KVC20', [2, 0.00012303149606299212, 2, 0.0225032046267791]),\n",
       " ('QWG20', [2, 0.00012303149606299212, 2, 0.0225032046267791]),\n",
       " ('VRE19', [2, 0.00012303149606299212, 2, 0.0225032046267791]),\n",
       " ('REA20', [2, 0.00012303149606299212, 2, 0.0225032046267791]),\n",
       " ('VRG19', [2, 0.00012303149606299212, 2, 0.0225032046267791]),\n",
       " ('AKV19', [2, 0.00012303149606299212, 2, 0.0225032046267791]),\n",
       " ('PVK18', [2, 0.00012303149606299212, 2, 0.0225032046267791]),\n",
       " ('LQG18', [2, 0.00012303149606299212, 2, 0.0225032046267791]),\n",
       " ('FII17', [2, 0.00012303149606299212, 2, 0.0225032046267791]),\n",
       " ('IIY18', [2, 0.00012303149606299212, 2, 0.0225032046267791]),\n",
       " ('GVT19', [2, 0.00012303149606299212, 2, 0.0225032046267791]),\n",
       " ('GVH20', [2, 0.00012303149606299212, 2, 0.0225032046267791]),\n",
       " ('TTA20', [2, 0.00012303149606299212, 2, 0.0225032046267791]),\n",
       " ('VVH19', [2, 0.00012303149606299212, 2, 0.0225032046267791]),\n",
       " ('ECV20', [2, 0.00012303149606299212, 2, 0.0225032046267791]),\n",
       " ('HTI17', [2, 0.00012303149606299212, 2, 0.0225032046267791]),\n",
       " ('VWT20', [2, 0.00012303149606299212, 2, 0.0225032046267791]),\n",
       " ('PCS20', [2, 0.00012303149606299212, 2, 0.0225032046267791]),\n",
       " ('RVW20', [2, 0.00012303149606299212, 2, 0.0225032046267791]),\n",
       " ('RCN20', [2, 0.00012303149606299212, 2, 0.0225032046267791]),\n",
       " ('MYG18', [2, 0.00012303149606299212, 2, 0.0225032046267791]),\n",
       " ('AVR20', [2, 0.00012303149606299212, 2, 0.0225032046267791]),\n",
       " ('NVQ18', [2, 0.00012303149606299212, 2, 0.0225032046267791]),\n",
       " ('VVG19', [2, 0.00012303149606299212, 2, 0.0225032046267791]),\n",
       " ('WAF19', [2, 0.00012303149606299212, 2, 0.0225032046267791]),\n",
       " ('ALV17', [2, 0.00012303149606299212, 2, 0.0225032046267791]),\n",
       " ('SRA18', [2, 0.00012303149606299212, 2, 0.0225032046267791]),\n",
       " ('VAV18', [2, 0.00012303149606299212, 2, 0.0225032046267791]),\n",
       " ('RQR20', [2, 0.00012303149606299212, 2, 0.0225032046267791]),\n",
       " ('IQV17', [2, 0.00012303149606299212, 2, 0.0225032046267791]),\n",
       " ('GIY20', [2, 0.00012303149606299212, 2, 0.0225032046267791]),\n",
       " ('PLC18', [2, 0.00012303149606299212, 2, 0.0225032046267791]),\n",
       " ('LAH20', [2, 0.00012303149606299212, 2, 0.0225032046267791]),\n",
       " ('IRA19', [2, 0.00012303149606299212, 2, 0.0225032046267791]),\n",
       " ('PIQ18', [2, 0.00012303149606299212, 2, 0.0225032046267791]),\n",
       " ('QIL18', [2, 0.00012303149606299212, 2, 0.0225032046267791]),\n",
       " ('LTM20', [2, 0.00012303149606299212, 2, 0.0225032046267791]),\n",
       " ('VTR20', [2, 0.00012303149606299212, 2, 0.0225032046267791]),\n",
       " ('IDR18', [2, 0.00012303149606299212, 2, 0.0225032046267791]),\n",
       " ('RIF19', [2, 0.00012303149606299212, 2, 0.0225032046267791]),\n",
       " ('FIS19', [2, 0.00012303149606299212, 2, 0.0225032046267791]),\n",
       " ('IME17', [2, 0.00012303149606299212, 2, 0.0225032046267791]),\n",
       " ('INV19', [2, 0.00012303149606299212, 2, 0.0225032046267791]),\n",
       " ('EAT20', [2, 0.00012303149606299212, 2, 0.0225032046267791]),\n",
       " ('LNV20', [2, 0.00012303149606299212, 2, 0.0225032046267791]),\n",
       " ('HAR17', [2, 0.00012303149606299212, 2, 0.0225032046267791]),\n",
       " ('IRI18', [2, 0.00012303149606299212, 2, 0.0225032046267791]),\n",
       " ('DCM20', [2, 0.00012303149606299212, 2, 0.0225032046267791]),\n",
       " ('QPF18', [2, 0.00012303149606299212, 2, 0.0225032046267791]),\n",
       " ('VDT19', [2, 0.00012303149606299212, 2, 0.0225032046267791]),\n",
       " ('FEF18', [2, 0.00012303149606299212, 2, 0.0225032046267791]),\n",
       " ('HQS18', [2, 0.00012303149606299212, 2, 0.0225032046267791]),\n",
       " ('YRE20', [2, 0.00012303149606299212, 2, 0.0225032046267791]),\n",
       " ('TPE18', [2, 0.00012303149606299212, 2, 0.0225032046267791]),\n",
       " ('VYR18', [2, 0.00012303149606299212, 2, 0.0225032046267791]),\n",
       " ('QII17', [2, 0.00012303149606299212, 2, 0.0225032046267791]),\n",
       " ('YRG19', [2, 0.00012303149606299212, 2, 0.0225032046267791]),\n",
       " ('DAF20', [2, 0.00012303149606299212, 2, 0.0225032046267791]),\n",
       " ('CLT17', [2, 0.00012303149606299212, 2, 0.0225032046267791]),\n",
       " ('LTV17', [2, 0.00012303149606299212, 2, 0.0225032046267791]),\n",
       " ('VTL20', [2, 0.00012303149606299212, 2, 0.0225032046267791]),\n",
       " ('EAH17', [2, 0.00012303149606299212, 2, 0.0225032046267791]),\n",
       " ('AHR18', [2, 0.00012303149606299212, 2, 0.0225032046267791]),\n",
       " ('HRS19', [2, 0.00012303149606299212, 2, 0.0225032046267791]),\n",
       " ('QQN20', [2, 0.00012303149606299212, 2, 0.0225032046267791]),\n",
       " ('RPC20', [2, 0.00012303149606299212, 2, 0.0225032046267791]),\n",
       " ('QAA20', [2, 0.00012303149606299212, 2, 0.0225032046267791]),\n",
       " ('ARV20', [2, 0.00012303149606299212, 2, 0.0225032046267791]),\n",
       " ('VNE20', [2, 0.00012303149606299212, 2, 0.0225032046267791]),\n",
       " ('KIH20', [2, 0.00012303149606299212, 2, 0.0225032046267791]),\n",
       " ('NLN18', [2, 0.00012303149606299212, 2, 0.0225032046267791]),\n",
       " ('QAM19', [2, 0.00012303149606299212, 2, 0.0225032046267791]),\n",
       " ('YSG20', [2, 0.00012303149606299212, 2, 0.0225032046267791]),\n",
       " ('VGH19', [2, 0.00012303149606299212, 2, 0.0225032046267791]),\n",
       " ('GLM17', [2, 0.00012303149606299212, 2, 0.0225032046267791]),\n",
       " ('TFV19', [2, 0.00012303149606299212, 2, 0.0225032046267791]),\n",
       " ('MER17', [2, 0.00012303149606299212, 2, 0.0225032046267791]),\n",
       " ('KPC18', [2, 0.00012303149606299212, 2, 0.0225032046267791]),\n",
       " ('ISH19', [2, 0.00012303149606299212, 2, 0.0225032046267791]),\n",
       " ('LHA18', [2, 0.00012303149606299212, 2, 0.0225032046267791]),\n",
       " ('RRY19', [2, 0.00012303149606299212, 2, 0.0225032046267791]),\n",
       " ('IKV19', [2, 0.00012303149606299212, 2, 0.0225032046267791]),\n",
       " ('KWG20', [2, 0.00012303149606299212, 2, 0.0225032046267791]),\n",
       " ('LSM20', [2, 0.00012303149606299212, 2, 0.0225032046267791]),\n",
       " ('NTR20', [2, 0.00012303149606299212, 2, 0.0225032046267791]),\n",
       " ('LMN17', [2, 0.00012303149606299212, 2, 0.0225032046267791]),\n",
       " ('IES17', [2, 0.00012303149606299212, 2, 0.0225032046267791]),\n",
       " ('NEV20', [2, 0.00012303149606299212, 2, 0.0225032046267791]),\n",
       " ('DTC20', [2, 0.00012303149606299212, 2, 0.0225032046267791]),\n",
       " ('MRV17', [2, 0.00012303149606299212, 2, 0.0225032046267791]),\n",
       " ('VVC18', [2, 0.00012303149606299212, 2, 0.0225032046267791]),\n",
       " ('MTL18', [2, 0.00012303149606299212, 2, 0.0225032046267791]),\n",
       " ('VGD19', [2, 0.00012303149606299212, 2, 0.0225032046267791]),\n",
       " ('YGK17', [2, 0.00012303149606299212, 2, 0.0225032046267791]),\n",
       " ('QRA19', [2, 0.00012303149606299212, 2, 0.0225032046267791]),\n",
       " ('MSI18', [2, 0.00012303149606299212, 2, 0.0225032046267791]),\n",
       " ('FVS20', [2, 0.00012303149606299212, 2, 0.0225032046267791]),\n",
       " ('SYA18', [2, 0.00012303149606299212, 2, 0.0225032046267791]),\n",
       " ('LAI18', [2, 0.00012303149606299212, 2, 0.0225032046267791]),\n",
       " ('AIG19', [2, 0.00012303149606299212, 2, 0.0225032046267791]),\n",
       " ('DQA19', [2, 0.00012303149606299212, 2, 0.0225032046267791]),\n",
       " ('STA19', [14, 0.0008612204724409449, 5, 0.02372842347885468]),\n",
       " ('SLV20', [14, 0.0008612204724409449, 5, 0.02372842347885468]),\n",
       " ('SCC20', [14, 0.0008612204724409449, 5, 0.02372842347885468]),\n",
       " ('ALS18', [10, 0.0006151574803149606, 4, 0.029084756297574822]),\n",
       " ('QAS20', [10, 0.0006151574803149606, 4, 0.029084756297574822]),\n",
       " ('SLL17', [10, 0.0006151574803149606, 4, 0.029084756297574822]),\n",
       " ('ETV19', [10, 0.0006151574803149606, 4, 0.029084756297574822]),\n",
       " ('SAA19', [10, 0.0006151574803149606, 4, 0.029084756297574822]),\n",
       " ('SVV20', [10, 0.0006151574803149606, 4, 0.029084756297574822]),\n",
       " ('ITS18', [10, 0.0006151574803149606, 4, 0.029084756297574822]),\n",
       " ('KRL19', [10, 0.0006151574803149606, 4, 0.029084756297574822]),\n",
       " ('ALL19', [10, 0.0006151574803149606, 4, 0.029084756297574822]),\n",
       " ('VSS20', [15, 0.0009227362204724409, 5, 0.030593347096665058]),\n",
       " ('VSG19', [6, 0.00036909448818897637, 3, 0.03249285826548411]),\n",
       " ('SAG17', [6, 0.00036909448818897637, 3, 0.03249285826548411]),\n",
       " ('YEV18', [6, 0.00036909448818897637, 3, 0.03249285826548411]),\n",
       " ('PAE17', [6, 0.00036909448818897637, 3, 0.03249285826548411]),\n",
       " ('AVK19', [6, 0.00036909448818897637, 3, 0.03249285826548411]),\n",
       " ('NKP18', [6, 0.00036909448818897637, 3, 0.03249285826548411]),\n",
       " ('TPR19', [6, 0.00036909448818897637, 3, 0.03249285826548411]),\n",
       " ('FLE19', [6, 0.00036909448818897637, 3, 0.03249285826548411]),\n",
       " ('KIT17', [6, 0.00036909448818897637, 3, 0.03249285826548411]),\n",
       " ('SAV19', [6, 0.00036909448818897637, 3, 0.03249285826548411]),\n",
       " ('GGG19', [6, 0.00036909448818897637, 3, 0.03249285826548411]),\n",
       " ('SLV19', [6, 0.00036909448818897637, 3, 0.03249285826548411]),\n",
       " ('LEQ18', [6, 0.00036909448818897637, 3, 0.03249285826548411]),\n",
       " ('ERG20', [6, 0.00036909448818897637, 3, 0.03249285826548411]),\n",
       " ('QTV20', [6, 0.00036909448818897637, 3, 0.03249285826548411]),\n",
       " ('QME17', [6, 0.00036909448818897637, 3, 0.03249285826548411]),\n",
       " ('MEL18', [6, 0.00036909448818897637, 3, 0.03249285826548411]),\n",
       " ('PAV19', [6, 0.00036909448818897637, 3, 0.03249285826548411]),\n",
       " ('ETA19', [6, 0.00036909448818897637, 3, 0.03249285826548411]),\n",
       " ('PSV19', [6, 0.00036909448818897637, 3, 0.03249285826548411]),\n",
       " ('QPL17', [6, 0.00036909448818897637, 3, 0.03249285826548411]),\n",
       " ('PIS17', [6, 0.00036909448818897637, 3, 0.03249285826548411]),\n",
       " ('NSY20', [6, 0.00036909448818897637, 3, 0.03249285826548411]),\n",
       " ('VFS20', [6, 0.00036909448818897637, 3, 0.03249285826548411]),\n",
       " ('TQS20', [6, 0.00036909448818897637, 3, 0.03249285826548411]),\n",
       " ('RVT18', [6, 0.00036909448818897637, 3, 0.03249285826548411]),\n",
       " ('ATG19', [6, 0.00036909448818897637, 3, 0.03249285826548411]),\n",
       " ('LVA20', [6, 0.00036909448818897637, 3, 0.03249285826548411]),\n",
       " ('ARR18', [6, 0.00036909448818897637, 3, 0.03249285826548411]),\n",
       " ('ERL18', [6, 0.00036909448818897637, 3, 0.03249285826548411]),\n",
       " ('RLH17', [6, 0.00036909448818897637, 3, 0.03249285826548411]),\n",
       " ('LTA20', [6, 0.00036909448818897637, 3, 0.03249285826548411]),\n",
       " ('KLT19', [6, 0.00036909448818897637, 3, 0.03249285826548411]),\n",
       " ('LQR18', [6, 0.00036909448818897637, 3, 0.03249285826548411]),\n",
       " ('LEP20', [6, 0.00036909448818897637, 3, 0.03249285826548411]),\n",
       " ('VKI20', [6, 0.00036909448818897637, 3, 0.03249285826548411]),\n",
       " ('ALD17', [6, 0.00036909448818897637, 3, 0.03249285826548411]),\n",
       " ('EGE19', [11, 0.0006766732283464567, 4, 0.039021469759252934]),\n",
       " ('LLN18', [11, 0.0006766732283464567, 4, 0.039021469759252934]),\n",
       " ('LQS18', [11, 0.0006766732283464567, 4, 0.039021469759252934]),\n",
       " ('EIR18', [3, 0.00018454724409448819, 2, 0.047003904120988746]),\n",
       " ('LTR18', [3, 0.00018454724409448819, 2, 0.047003904120988746]),\n",
       " ('GAF20', [3, 0.00018454724409448819, 2, 0.047003904120988746]),\n",
       " ('QAF20', [3, 0.00018454724409448819, 2, 0.047003904120988746]),\n",
       " ('NEA17', [3, 0.00018454724409448819, 2, 0.047003904120988746]),\n",
       " ('AVW20', [3, 0.00018454724409448819, 2, 0.047003904120988746]),\n",
       " ('EDQ17', [3, 0.00018454724409448819, 2, 0.047003904120988746]),\n",
       " ('WAQ17', [3, 0.00018454724409448819, 2, 0.047003904120988746]),\n",
       " ('QME19', [3, 0.00018454724409448819, 2, 0.047003904120988746]),\n",
       " ('EGA20', [3, 0.00018454724409448819, 2, 0.047003904120988746]),\n",
       " ('ART19', [3, 0.00018454724409448819, 2, 0.047003904120988746]),\n",
       " ('KPY18', [3, 0.00018454724409448819, 2, 0.047003904120988746]),\n",
       " ('ECS20', [3, 0.00018454724409448819, 2, 0.047003904120988746]),\n",
       " ('CGG20', [3, 0.00018454724409448819, 2, 0.047003904120988746]),\n",
       " ('PVV17', [3, 0.00018454724409448819, 2, 0.047003904120988746]),\n",
       " ('PQV19', [3, 0.00018454724409448819, 2, 0.047003904120988746]),\n",
       " ('AEI18', [3, 0.00018454724409448819, 2, 0.047003904120988746]),\n",
       " ('VRT19', [3, 0.00018454724409448819, 2, 0.047003904120988746]),\n",
       " ('EVF20', [3, 0.00018454724409448819, 2, 0.047003904120988746]),\n",
       " ('SII18', [3, 0.00018454724409448819, 2, 0.047003904120988746]),\n",
       " ('IRV19', [3, 0.00018454724409448819, 2, 0.047003904120988746]),\n",
       " ('RVK20', [3, 0.00018454724409448819, 2, 0.047003904120988746]),\n",
       " ('TPR18', [3, 0.00018454724409448819, 2, 0.047003904120988746]),\n",
       " ('PTV17', [3, 0.00018454724409448819, 2, 0.047003904120988746]),\n",
       " ('LPV19', [3, 0.00018454724409448819, 2, 0.047003904120988746]),\n",
       " ('PVS20', [3, 0.00018454724409448819, 2, 0.047003904120988746]),\n",
       " ('PEF18', [3, 0.00018454724409448819, 2, 0.047003904120988746]),\n",
       " ('CQV20', [3, 0.00018454724409448819, 2, 0.047003904120988746]),\n",
       " ('LYD19', [3, 0.00018454724409448819, 2, 0.047003904120988746]),\n",
       " ('YDN20', [3, 0.00018454724409448819, 2, 0.047003904120988746]),\n",
       " ('GCG18', [3, 0.00018454724409448819, 2, 0.047003904120988746]),\n",
       " ('QAC20', [3, 0.00018454724409448819, 2, 0.047003904120988746]),\n",
       " ('LKA20', [3, 0.00018454724409448819, 2, 0.047003904120988746]),\n",
       " ('PVI18', [3, 0.00018454724409448819, 2, 0.047003904120988746]),\n",
       " ('IEV19', [3, 0.00018454724409448819, 2, 0.047003904120988746]),\n",
       " ('MVT17', [3, 0.00018454724409448819, 2, 0.047003904120988746]),\n",
       " ('AMG20', [3, 0.00018454724409448819, 2, 0.047003904120988746]),\n",
       " ('VGS20', [3, 0.00018454724409448819, 2, 0.047003904120988746]),\n",
       " ('QHA19', [3, 0.00018454724409448819, 2, 0.047003904120988746]),\n",
       " ('ETF18', [3, 0.00018454724409448819, 2, 0.047003904120988746]),\n",
       " ('LVN20', [3, 0.00018454724409448819, 2, 0.047003904120988746]),\n",
       " ('SVR20', [3, 0.00018454724409448819, 2, 0.047003904120988746]),\n",
       " ('PLN18', [3, 0.00018454724409448819, 2, 0.047003904120988746]),\n",
       " ('NVS20', [3, 0.00018454724409448819, 2, 0.047003904120988746]),\n",
       " ('DLG17', [3, 0.00018454724409448819, 2, 0.047003904120988746]),\n",
       " ('RSY20', [3, 0.00018454724409448819, 2, 0.047003904120988746]),\n",
       " ('CKA19', [3, 0.00018454724409448819, 2, 0.047003904120988746]),\n",
       " ('IFY19', [3, 0.00018454724409448819, 2, 0.047003904120988746]),\n",
       " ('TCR18', [3, 0.00018454724409448819, 2, 0.047003904120988746]),\n",
       " ('AVT19', [3, 0.00018454724409448819, 2, 0.047003904120988746]),\n",
       " ('VQT19', [3, 0.00018454724409448819, 2, 0.047003904120988746]),\n",
       " ('EGF20', [3, 0.00018454724409448819, 2, 0.047003904120988746]),\n",
       " ('LNG20', [3, 0.00018454724409448819, 2, 0.047003904120988746]),\n",
       " ('AVG18', [3, 0.00018454724409448819, 2, 0.047003904120988746]),\n",
       " ('KVH20', [3, 0.00018454724409448819, 2, 0.047003904120988746]),\n",
       " ('NDV19', [3, 0.00018454724409448819, 2, 0.047003904120988746]),\n",
       " ('LQM20', [3, 0.00018454724409448819, 2, 0.047003904120988746]),\n",
       " ('KAG20', [3, 0.00018454724409448819, 2, 0.047003904120988746]),\n",
       " ('GRV20', [3, 0.00018454724409448819, 2, 0.047003904120988746]),\n",
       " ('VVE19', [3, 0.00018454724409448819, 2, 0.047003904120988746]),\n",
       " ('VEV20', [3, 0.00018454724409448819, 2, 0.047003904120988746]),\n",
       " ('CRV19', [3, 0.00018454724409448819, 2, 0.047003904120988746]),\n",
       " ('MSG20', [3, 0.00018454724409448819, 2, 0.047003904120988746]),\n",
       " ('LCV17', [3, 0.00018454724409448819, 2, 0.047003904120988746]),\n",
       " ('AQT19', [3, 0.00018454724409448819, 2, 0.047003904120988746]),\n",
       " ('QQI18', [3, 0.00018454724409448819, 2, 0.047003904120988746]),\n",
       " ('RMY17', [3, 0.00018454724409448819, 2, 0.047003904120988746]),\n",
       " ('QVP17', [3, 0.00018454724409448819, 2, 0.047003904120988746]),\n",
       " ('VPT18', [3, 0.00018454724409448819, 2, 0.047003904120988746]),\n",
       " ('TVN20', [3, 0.00018454724409448819, 2, 0.047003904120988746]),\n",
       " ('PVK20', [3, 0.00018454724409448819, 2, 0.047003904120988746]),\n",
       " ('EML17', [3, 0.00018454724409448819, 2, 0.047003904120988746]),\n",
       " ('LMR20', [3, 0.00018454724409448819, 2, 0.047003904120988746]),\n",
       " ('EAA20', [3, 0.00018454724409448819, 2, 0.047003904120988746]),\n",
       " ('RKG20', [3, 0.00018454724409448819, 2, 0.047003904120988746]),\n",
       " ('CAC20', [3, 0.00018454724409448819, 2, 0.047003904120988746]),\n",
       " ('LTT18', [3, 0.00018454724409448819, 2, 0.047003904120988746]),\n",
       " ('KVA17', [3, 0.00018454724409448819, 2, 0.047003904120988746]),\n",
       " ('VVA17', [3, 0.00018454724409448819, 2, 0.047003904120988746]),\n",
       " ('KAV19', [3, 0.00018454724409448819, 2, 0.047003904120988746]),\n",
       " ('HSG20', [3, 0.00018454724409448819, 2, 0.047003904120988746]),\n",
       " ('RNT20', [3, 0.00018454724409448819, 2, 0.047003904120988746]),\n",
       " ('AQF18', [3, 0.00018454724409448819, 2, 0.047003904120988746]),\n",
       " ('QFP19', [3, 0.00018454724409448819, 2, 0.047003904120988746]),\n",
       " ('MAE17', [3, 0.00018454724409448819, 2, 0.047003904120988746]),\n",
       " ('QIK17', [3, 0.00018454724409448819, 2, 0.047003904120988746]),\n",
       " ('RLP18', [3, 0.00018454724409448819, 2, 0.047003904120988746]),\n",
       " ('RAS20', [3, 0.00018454724409448819, 2, 0.047003904120988746]),\n",
       " ('SGV18', [3, 0.00018454724409448819, 2, 0.047003904120988746]),\n",
       " ('ILN19', [3, 0.00018454724409448819, 2, 0.047003904120988746]),\n",
       " ('RIF17', [3, 0.00018454724409448819, 2, 0.047003904120988746]),\n",
       " ('GSY19', [3, 0.00018454724409448819, 2, 0.047003904120988746]),\n",
       " ('ACR20', [3, 0.00018454724409448819, 2, 0.047003904120988746]),\n",
       " ('YEK19', [3, 0.00018454724409448819, 2, 0.047003904120988746]),\n",
       " ('TQP17', [3, 0.00018454724409448819, 2, 0.047003904120988746]),\n",
       " ('REV17', [3, 0.00018454724409448819, 2, 0.047003904120988746]),\n",
       " ('EFE17', [3, 0.00018454724409448819, 2, 0.047003904120988746]),\n",
       " ('QTV18', [3, 0.00018454724409448819, 2, 0.047003904120988746]),\n",
       " ('SVV18', [3, 0.00018454724409448819, 2, 0.047003904120988746]),\n",
       " ('DIY20', [3, 0.00018454724409448819, 2, 0.047003904120988746]),\n",
       " ('ITK18', [3, 0.00018454724409448819, 2, 0.047003904120988746]),\n",
       " ('RRV19', [3, 0.00018454724409448819, 2, 0.047003904120988746]),\n",
       " ('TVN19', [3, 0.00018454724409448819, 2, 0.047003904120988746]),\n",
       " ('ISQ18', [3, 0.00018454724409448819, 2, 0.047003904120988746]),\n",
       " ('YST17', [3, 0.00018454724409448819, 2, 0.047003904120988746]),\n",
       " ('PVG20', [3, 0.00018454724409448819, 2, 0.047003904120988746]),\n",
       " ('PVQ19', [3, 0.00018454724409448819, 2, 0.047003904120988746]),\n",
       " ('CRC17', [3, 0.00018454724409448819, 2, 0.047003904120988746]),\n",
       " ('VVL19', [3, 0.00018454724409448819, 2, 0.047003904120988746]),\n",
       " ('LNA19', [3, 0.00018454724409448819, 2, 0.047003904120988746]),\n",
       " ('LMS17', [3, 0.00018454724409448819, 2, 0.047003904120988746]),\n",
       " ('MSS18', [3, 0.00018454724409448819, 2, 0.047003904120988746]),\n",
       " ('SEC17', [3, 0.00018454724409448819, 2, 0.047003904120988746]),\n",
       " ('RFS20', [3, 0.00018454724409448819, 2, 0.047003904120988746]),\n",
       " ('AEW20', [3, 0.00018454724409448819, 2, 0.047003904120988746]),\n",
       " ('IGK20', [3, 0.00018454724409448819, 2, 0.047003904120988746]),\n",
       " ('EKN17', [3, 0.00018454724409448819, 2, 0.047003904120988746]),\n",
       " ('DVT19', [3, 0.00018454724409448819, 2, 0.047003904120988746]),\n",
       " ('NAA17', [3, 0.00018454724409448819, 2, 0.047003904120988746]),\n",
       " ('SRN20', [3, 0.00018454724409448819, 2, 0.047003904120988746]),\n",
       " ('IIL19', [3, 0.00018454724409448819, 2, 0.047003904120988746]),\n",
       " ('PDA19', [3, 0.00018454724409448819, 2, 0.047003904120988746]),\n",
       " ('RCR18', [3, 0.00018454724409448819, 2, 0.047003904120988746]),\n",
       " ('PEQ18', [3, 0.00018454724409448819, 2, 0.047003904120988746]),\n",
       " ('QGV19', [3, 0.00018454724409448819, 2, 0.047003904120988746]),\n",
       " ('HQL17', [3, 0.00018454724409448819, 2, 0.047003904120988746]),\n",
       " ('TNL17', [3, 0.00018454724409448819, 2, 0.047003904120988746]),\n",
       " ('SIT17', [3, 0.00018454724409448819, 2, 0.047003904120988746]),\n",
       " ('LGT20', [3, 0.00018454724409448819, 2, 0.047003904120988746]),\n",
       " ('RQM20', [3, 0.00018454724409448819, 2, 0.047003904120988746]),\n",
       " ('TVH20', [3, 0.00018454724409448819, 2, 0.047003904120988746]),\n",
       " ('LER18', [3, 0.00018454724409448819, 2, 0.047003904120988746]),\n",
       " ('NAV20', [3, 0.00018454724409448819, 2, 0.047003904120988746]),\n",
       " ('IKP17', [3, 0.00018454724409448819, 2, 0.047003904120988746]),\n",
       " ('PCV19', [3, 0.00018454724409448819, 2, 0.047003904120988746]),\n",
       " ('IAA19', [3, 0.00018454724409448819, 2, 0.047003904120988746]),\n",
       " ('VTQ20', [3, 0.00018454724409448819, 2, 0.047003904120988746]),\n",
       " ('ELQ17', [3, 0.00018454724409448819, 2, 0.047003904120988746]),\n",
       " ('GHC20', [3, 0.00018454724409448819, 2, 0.047003904120988746]),\n",
       " ('IRN19', [3, 0.00018454724409448819, 2, 0.047003904120988746]),\n",
       " ('DRN19', [3, 0.00018454724409448819, 2, 0.047003904120988746]),\n",
       " ('IVS18', [3, 0.00018454724409448819, 2, 0.047003904120988746]),\n",
       " ('AIL17', [3, 0.00018454724409448819, 2, 0.047003904120988746]),\n",
       " ('LAR19', [3, 0.00018454724409448819, 2, 0.047003904120988746]),\n",
       " ('IRL17', [3, 0.00018454724409448819, 2, 0.047003904120988746]),\n",
       " ('WPR18', [3, 0.00018454724409448819, 2, 0.047003904120988746]),\n",
       " ('TAS18', [3, 0.00018454724409448819, 2, 0.047003904120988746]),\n",
       " ('QEG20', [3, 0.00018454724409448819, 2, 0.047003904120988746]),\n",
       " ('VGF20', [3, 0.00018454724409448819, 2, 0.047003904120988746]),\n",
       " ('RLH20', [3, 0.00018454724409448819, 2, 0.047003904120988746]),\n",
       " ('CFV20', [3, 0.00018454724409448819, 2, 0.047003904120988746]),\n",
       " ('GAN20', [3, 0.00018454724409448819, 2, 0.047003904120988746]),\n",
       " ('HYA19', [3, 0.00018454724409448819, 2, 0.047003904120988746]),\n",
       " ('QVT19', [3, 0.00018454724409448819, 2, 0.047003904120988746]),\n",
       " ('FAA19', [3, 0.00018454724409448819, 2, 0.047003904120988746]),\n",
       " ('RLD17', [3, 0.00018454724409448819, 2, 0.047003904120988746]),\n",
       " ('HDF17', [3, 0.00018454724409448819, 2, 0.047003904120988746]),\n",
       " ('EVI19', [3, 0.00018454724409448819, 2, 0.047003904120988746]),\n",
       " ('VIY20', [3, 0.00018454724409448819, 2, 0.047003904120988746]),\n",
       " ('ARP18', [3, 0.00018454724409448819, 2, 0.047003904120988746]),\n",
       " ('CSR17', [3, 0.00018454724409448819, 2, 0.047003904120988746]),\n",
       " ('RLA19', [3, 0.00018454724409448819, 2, 0.047003904120988746]),\n",
       " ('VPA19', [7, 0.00043061023622047243, 3, 0.04751995049973115]),\n",
       " ('TVS18', [7, 0.00043061023622047243, 3, 0.04751995049973115]),\n",
       " ('GST17', [7, 0.00043061023622047243, 3, 0.04751995049973115]),\n",
       " ('ISE19', [7, 0.00043061023622047243, 3, 0.04751995049973115]),\n",
       " ('PLV19', [7, 0.00043061023622047243, 3, 0.04751995049973115]),\n",
       " ('PVP18', [7, 0.00043061023622047243, 3, 0.04751995049973115]),\n",
       " ('SVA18', [7, 0.00043061023622047243, 3, 0.04751995049973115]),\n",
       " ('NEL20', [7, 0.00043061023622047243, 3, 0.04751995049973115]),\n",
       " ('TSV19', [7, 0.00043061023622047243, 3, 0.04751995049973115]),\n",
       " ('TVS20', [7, 0.00043061023622047243, 3, 0.04751995049973115]),\n",
       " ('IHT18', [7, 0.00043061023622047243, 3, 0.04751995049973115]),\n",
       " ('TVS19', [7, 0.00043061023622047243, 3, 0.04751995049973115]),\n",
       " ('LTG18', [7, 0.00043061023622047243, 3, 0.04751995049973115]),\n",
       " ('SAE19', [7, 0.00043061023622047243, 3, 0.04751995049973115]),\n",
       " ('NIT17', [7, 0.00043061023622047243, 3, 0.04751995049973115]),\n",
       " ('PRL17', [7, 0.00043061023622047243, 3, 0.04751995049973115]),\n",
       " ('KET17', [7, 0.00043061023622047243, 3, 0.04751995049973115]),\n",
       " ('LTS19', [7, 0.00043061023622047243, 3, 0.04751995049973115]),\n",
       " ('SPE17', [7, 0.00043061023622047243, 3, 0.04751995049973115]),\n",
       " ('ELT19', [7, 0.00043061023622047243, 3, 0.04751995049973115]),\n",
       " ('KTE19', [7, 0.00043061023622047243, 3, 0.04751995049973115]),\n",
       " ('GLV19', [7, 0.00043061023622047243, 3, 0.04751995049973115]),\n",
       " ('LAG19', [7, 0.00043061023622047243, 3, 0.04751995049973115]),\n",
       " ('NLT18', [7, 0.00043061023622047243, 3, 0.04751995049973115]),\n",
       " ('PEL18', [7, 0.00043061023622047243, 3, 0.04751995049973115]),\n",
       " ('KVT19', [7, 0.00043061023622047243, 3, 0.04751995049973115]),\n",
       " ('PLP17', [7, 0.00043061023622047243, 3, 0.04751995049973115]),\n",
       " ('PRA20', [7, 0.00043061023622047243, 3, 0.04751995049973115]),\n",
       " ('QGL19', [7, 0.00043061023622047243, 3, 0.04751995049973115]),\n",
       " ('SRV20', [7, 0.00043061023622047243, 3, 0.04751995049973115]),\n",
       " ('LTL17', [7, 0.00043061023622047243, 3, 0.04751995049973115]),\n",
       " ('LTQ19', [7, 0.00043061023622047243, 3, 0.04751995049973115]),\n",
       " ('TLT18', [7, 0.00043061023622047243, 3, 0.04751995049973115]),\n",
       " ('SVK17', [7, 0.00043061023622047243, 3, 0.04751995049973115]),\n",
       " ('RRD20', [7, 0.00043061023622047243, 3, 0.04751995049973115]),\n",
       " ('QPG18', [7, 0.00043061023622047243, 3, 0.04751995049973115]),\n",
       " ('VLR18', [7, 0.00043061023622047243, 3, 0.04751995049973115]),\n",
       " ('GKV18', [7, 0.00043061023622047243, 3, 0.04751995049973115]),\n",
       " ('SPA19', [7, 0.00043061023622047243, 3, 0.04751995049973115]),\n",
       " ('TLG20', [7, 0.00043061023622047243, 3, 0.04751995049973115]),\n",
       " ('EGS17', [7, 0.00043061023622047243, 3, 0.04751995049973115])]"
      ]
     },
     "execution_count": 62,
     "metadata": {},
     "output_type": "execute_result"
    }
   ],
   "source": [
    "top_motifs"
   ]
  },
  {
   "cell_type": "code",
   "execution_count": 27,
   "metadata": {},
   "outputs": [
    {
     "data": {
      "text/plain": [
       "305"
      ]
     },
     "execution_count": 27,
     "metadata": {},
     "output_type": "execute_result"
    }
   ],
   "source": [
    "motif_cutoff"
   ]
  },
  {
   "cell_type": "code",
   "execution_count": 28,
   "metadata": {},
   "outputs": [
    {
     "data": {
      "text/plain": [
       "('CGC', [29, 0.001783956692913386, 15, 2.1890608771173494e-06])"
      ]
     },
     "execution_count": 28,
     "metadata": {},
     "output_type": "execute_result"
    }
   ],
   "source": [
    "top_motifs[0]"
   ]
  },
  {
   "cell_type": "code",
   "execution_count": 29,
   "metadata": {},
   "outputs": [
    {
     "data": {
      "text/plain": [
       "['FNSEAHLLPILPKDKKEVEIREE', 0.7255057]"
      ]
     },
     "execution_count": 29,
     "metadata": {},
     "output_type": "execute_result"
    }
   ],
   "source": [
    "top_sequences[0]"
   ]
  },
  {
   "cell_type": "code",
   "execution_count": 30,
   "metadata": {
    "collapsed": true
   },
   "outputs": [],
   "source": [
    "positions = []\n",
    "for row in top_motifs:\n",
    "    kmer = row[0]\n",
    "    #positions = {}\n",
    "    positions_one_kmer = []\n",
    "    for seq in top_sequences:\n",
    "        location = seq[0].find(kmer)\n",
    "        if location > -1:  # if kmer exists in sequence\n",
    "            #positions.update({location : positions[location]+1})\n",
    "            positions_one_kmer.append(location)\n",
    "    positions.append(positions_one_kmer)"
   ]
  },
  {
   "cell_type": "code",
   "execution_count": 31,
   "metadata": {},
   "outputs": [
    {
     "data": {
      "text/plain": [
       "[19, 19, 16, 19, 19, 19, 19, 19, 19, 19, 19, 19, 19, 18, 19, 17, 16]"
      ]
     },
     "execution_count": 31,
     "metadata": {},
     "output_type": "execute_result"
    }
   ],
   "source": [
    "positions[0]"
   ]
  },
  {
   "cell_type": "code",
   "execution_count": 32,
   "metadata": {},
   "outputs": [
    {
     "name": "stderr",
     "output_type": "stream",
     "text": [
      "/Users/cynthiachen/anaconda2/envs/py36/lib/python3.6/site-packages/scipy/stats/stats.py:1633: FutureWarning: Using a non-tuple sequence for multidimensional indexing is deprecated; use `arr[tuple(seq)]` instead of `arr[seq]`. In the future this will be interpreted as an array index, `arr[np.array(seq)]`, which will result either in an error or a different result.\n",
      "  return np.add.reduce(sorted[indexer] * weights, axis=axis) / sumval\n"
     ]
    }
   ],
   "source": [
    "plt.close()\n",
    "sns.distplot(positions[0])\n",
    "plt.title(\"Position Frequency, Motif = CGC\")\n",
    "plt.savefig(wd+'figures/motifs/CGC',dpi=300)"
   ]
  },
  {
   "cell_type": "code",
   "execution_count": 33,
   "metadata": {},
   "outputs": [
    {
     "data": {
      "text/plain": [
       "[19, 19, 16, 19, 19, 19, 19, 19, 19, 19, 19, 19, 19, 18, 19, 17, 16]"
      ]
     },
     "execution_count": 33,
     "metadata": {},
     "output_type": "execute_result"
    }
   ],
   "source": [
    "positions[0]"
   ]
  },
  {
   "cell_type": "code",
   "execution_count": 34,
   "metadata": {},
   "outputs": [
    {
     "data": {
      "text/plain": [
       "[('CGC', [29, 0.001783956692913386, 15, 2.1890608771173494e-06]),\n",
       " ('GCR', [12, 0.0007381889763779527, 9, 1.381098116786182e-05]),\n",
       " ('TVV', [24, 0.0014763779527559055, 11, 0.00013645187267103954]),\n",
       " ('ISA', [13, 0.0007997047244094488, 8, 0.00015870203463361034]),\n",
       " ('EVS', [25, 0.0015378937007874017, 11, 0.0001930273326754395]),\n",
       " ('TAV', [14, 0.0008612204724409449, 8, 0.0002599493800920581]),\n",
       " ('TRV', [22, 0.0013533464566929134, 10, 0.0002886106401720981]),\n",
       " ('VAA', [18, 0.0011072834645669291, 9, 0.0002900463409905259]),\n",
       " ('SEE', [40, 0.0024606299212598425, 14, 0.0002907186514230777]),\n",
       " ('LRR', [45, 0.0027682086614173227, 15, 0.0002991642593421968]),\n",
       " ('AVA', [23, 0.0014148622047244095, 10, 0.0004068283853598039]),\n",
       " ('RLA', [12, 0.0007381889763779527, 7, 0.0005517661980341465]),\n",
       " ('VVS', [20, 0.0012303149606299212, 9, 0.000612658033112971]),\n",
       " ('RTC', [6, 0.00036909448818897637, 5, 0.0007178015406454016]),\n",
       " ('IIT', [6, 0.00036909448818897637, 5, 0.0007178015406454016]),\n",
       " ('SVS', [35, 0.0021530511811023623, 12, 0.0009097175264341631]),\n",
       " ('VSC', [17, 0.0010457677165354332, 8, 0.0009127540478173206]),\n",
       " ('PSC', [18, 0.0011072834645669291, 8, 0.0013063199063541996]),\n",
       " ('SVR', [14, 0.0008612204724409449, 7, 0.0013356406818612397]),\n",
       " ('IEA', [7, 0.00043061023622047243, 5, 0.0014131965054608921]),\n",
       " ('ALA', [32, 0.001968503937007874, 11, 0.0014308004509892044]),\n",
       " ('AAS', [37, 0.002276082677165354, 12, 0.0014448472424089655]),\n",
       " ('TVS', [23, 0.0014148622047244095, 9, 0.0015971894911418658]),\n",
       " ('PAV', [23, 0.0014148622047244095, 9, 0.0015971894911418658]),\n",
       " ('TTV', [33, 0.00203001968503937, 11, 0.0018137735174030753]),\n",
       " ('ARV', [11, 0.0006766732283464567, 6, 0.0018921975610509385]),\n",
       " ('QSV', [15, 0.0009227362204724409, 7, 0.0019643221124291017]),\n",
       " ('QTV', [15, 0.0009227362204724409, 7, 0.0019643221124291017]),\n",
       " ('ECG', [15, 0.0009227362204724409, 7, 0.0019643221124291017]),\n",
       " ('IKV', [15, 0.0009227362204724409, 7, 0.0019643221124291017]),\n",
       " ('VTV', [24, 0.0014763779527559055, 9, 0.002120569636941544]),\n",
       " ('LAA', [29, 0.001783956692913386, 10, 0.0022569583542233324]),\n",
       " ('PVR', [8, 0.0004921259842519685, 5, 0.002510455631239434]),\n",
       " ('VCT', [8, 0.0004921259842519685, 5, 0.002510455631239434]),\n",
       " ('EVW', [8, 0.0004921259842519685, 5, 0.002510455631239434]),\n",
       " ('NVV', [8, 0.0004921259842519685, 5, 0.002510455631239434]),\n",
       " ('PLV', [16, 0.000984251968503937, 7, 0.0028007927344122258]),\n",
       " ('QKV', [16, 0.000984251968503937, 7, 0.0028007927344122258]),\n",
       " ('PIS', [16, 0.000984251968503937, 7, 0.0028007927344122258]),\n",
       " ('QVC', [5, 0.0003075787401574803, 4, 0.002830412530945081]),\n",
       " ('CQA', [5, 0.0003075787401574803, 4, 0.002830412530945081]),\n",
       " ('MTM', [5, 0.0003075787401574803, 4, 0.002830412530945081]),\n",
       " ('AIG', [5, 0.0003075787401574803, 4, 0.002830412530945081]),\n",
       " ('EAA', [30, 0.0018454724409448819, 10, 0.0028654129360255512]),\n",
       " ('QRG', [12, 0.0007381889763779527, 6, 0.0028994993171791612]),\n",
       " ('SCG', [12, 0.0007381889763779527, 6, 0.0028994993171791612]),\n",
       " ('ELI', [12, 0.0007381889763779527, 6, 0.0028994993171791612]),\n",
       " ('PVK', [12, 0.0007381889763779527, 6, 0.0028994993171791612]),\n",
       " ('AVR', [12, 0.0007381889763779527, 6, 0.0028994993171791612]),\n",
       " ('PLA', [21, 0.0012918307086614174, 8, 0.0033372287624344496]),\n",
       " ('LIS', [26, 0.0015994094488188976, 9, 0.0035727124480131158]),\n",
       " ('SPA', [31, 0.001906988188976378, 10, 0.003598165603991692]),\n",
       " ('IIS', [17, 0.0010457677165354332, 7, 0.003886323923374703]),\n",
       " ('ECR', [9, 0.0005536417322834646, 5, 0.004123195087143962]),\n",
       " ('TVC', [9, 0.0005536417322834646, 5, 0.004123195087143962]),\n",
       " ('SRG', [13, 0.0007997047244094488, 6, 0.00426212481045319]),\n",
       " ('VEP', [13, 0.0007997047244094488, 6, 0.00426212481045319]),\n",
       " ('PGR', [13, 0.0007997047244094488, 6, 0.00426212481045319]),\n",
       " ('LVA', [13, 0.0007997047244094488, 6, 0.00426212481045319]),\n",
       " ('LEV', [22, 0.0013533464566929134, 8, 0.00438953287836619]),\n",
       " ('HVV', [3, 0.00018454724409448819, 3, 0.005216151110525695]),\n",
       " ('GLR', [18, 0.0011072834645669291, 7, 0.005264405930077651]),\n",
       " ('SVA', [18, 0.0011072834645669291, 7, 0.005264405930077651]),\n",
       " ('ETT', [18, 0.0011072834645669291, 7, 0.005264405930077651]),\n",
       " ('AVS', [18, 0.0011072834645669291, 7, 0.005264405930077651]),\n",
       " ('VVA', [6, 0.00036909448818897637, 4, 0.005367504490762346]),\n",
       " ('TLG', [23, 0.0014148622047244095, 8, 0.005679924641656379]),\n",
       " ('SLV', [28, 0.0017224409448818897, 9, 0.0057097227298020855]),\n",
       " ('PTV', [14, 0.0008612204724409449, 6, 0.006047447079745005]),\n",
       " ('CRR', [14, 0.0008612204724409449, 6, 0.006047447079745005]),\n",
       " ('AVT', [14, 0.0008612204724409449, 6, 0.006047447079745005]),\n",
       " ('LCR', [10, 0.0006151574803149606, 5, 0.006366063562598325]),\n",
       " ('ESC', [10, 0.0006151574803149606, 5, 0.006366063562598325]),\n",
       " ('YAT', [10, 0.0006151574803149606, 5, 0.006366063562598325]),\n",
       " ('VEV', [10, 0.0006151574803149606, 5, 0.006366063562598325]),\n",
       " ('LVS', [34, 0.0020915354330708663, 10, 0.006715558859909795]),\n",
       " ('SVV', [19, 0.0011687992125984253, 7, 0.006979973377954054]),\n",
       " ('RPA', [19, 0.0011687992125984253, 7, 0.006979973377954054]),\n",
       " ('SET', [19, 0.0011687992125984253, 7, 0.006979973377954054]),\n",
       " ('SAA', [29, 0.001783956692913386, 9, 0.007093417517468171]),\n",
       " ('RLR', [29, 0.001783956692913386, 9, 0.007093417517468171]),\n",
       " ('SVE', [15, 0.0009227362204724409, 6, 0.008323356686981151]),\n",
       " ('VKI', [15, 0.0009227362204724409, 6, 0.008323356686981151]),\n",
       " ('RRG', [20, 0.0012303149606299212, 7, 0.009078588278290032]),\n",
       " ('EVL', [20, 0.0012303149606299212, 7, 0.009078588278290032]),\n",
       " ('AEC', [7, 0.00043061023622047243, 4, 0.00909755697947735]),\n",
       " ('QAC', [7, 0.00043061023622047243, 4, 0.00909755697947735]),\n",
       " ('VRG', [7, 0.00043061023622047243, 4, 0.00909755697947735]),\n",
       " ('MLR', [7, 0.00043061023622047243, 4, 0.00909755697947735]),\n",
       " ('TMS', [7, 0.00043061023622047243, 4, 0.00909755697947735]),\n",
       " ('RIF', [7, 0.00043061023622047243, 4, 0.00909755697947735]),\n",
       " ('QII', [7, 0.00043061023622047243, 4, 0.00909755697947735]),\n",
       " ('VRP', [7, 0.00043061023622047243, 4, 0.00909755697947735]),\n",
       " ('GSV', [11, 0.0006766732283464567, 5, 0.009350125180799123]),\n",
       " ('VRS', [11, 0.0006766732283464567, 5, 0.009350125180799123]),\n",
       " ('EIA', [11, 0.0006766732283464567, 5, 0.009350125180799123]),\n",
       " ('HAR', [4, 0.00024606299212598425, 3, 0.011368953373712779]),\n",
       " ('DVR', [4, 0.00024606299212598425, 3, 0.011368953373712779]),\n",
       " ('CRV', [4, 0.00024606299212598425, 3, 0.011368953373712779]),\n",
       " ('MYG', [4, 0.00024606299212598425, 3, 0.011368953373712779]),\n",
       " ('TPC', [4, 0.00024606299212598425, 3, 0.011368953373712779]),\n",
       " ('RHV', [4, 0.00024606299212598425, 3, 0.011368953373712779]),\n",
       " ('AEW', [4, 0.00024606299212598425, 3, 0.011368953373712779]),\n",
       " ('MTL', [4, 0.00024606299212598425, 3, 0.011368953373712779]),\n",
       " ('VTT', [21, 0.0012918307086614174, 7, 0.011605608713250282]),\n",
       " ('QME', [12, 0.0007381889763779527, 5, 0.013178900068461947]),\n",
       " ('EAV', [12, 0.0007381889763779527, 5, 0.013178900068461947]),\n",
       " ('TAF', [12, 0.0007381889763779527, 5, 0.013178900068461947]),\n",
       " ('IVS', [12, 0.0007381889763779527, 5, 0.013178900068461947]),\n",
       " ('RLH', [12, 0.0007381889763779527, 5, 0.013178900068461947]),\n",
       " ('LSA', [38, 0.0023375984251968506, 10, 0.013722859130167566]),\n",
       " ('VSS', [38, 0.0023375984251968506, 10, 0.013722859130167566]),\n",
       " ('ISS', [27, 0.0016609251968503938, 8, 0.013872895381161003]),\n",
       " ('PDA', [8, 0.0004921259842519685, 4, 0.014204583193065064]),\n",
       " ('AVG', [8, 0.0004921259842519685, 4, 0.014204583193065064]),\n",
       " ('GET', [8, 0.0004921259842519685, 4, 0.014204583193065064]),\n",
       " ('RVY', [8, 0.0004921259842519685, 4, 0.014204583193065064]),\n",
       " ('SIE', [8, 0.0004921259842519685, 4, 0.014204583193065064]),\n",
       " ('VVE', [8, 0.0004921259842519685, 4, 0.014204583193065064]),\n",
       " ('ITY', [8, 0.0004921259842519685, 4, 0.014204583193065064]),\n",
       " ('TVN', [8, 0.0004921259842519685, 4, 0.014204583193065064]),\n",
       " ('ALV', [8, 0.0004921259842519685, 4, 0.014204583193065064]),\n",
       " ('CAC', [8, 0.0004921259842519685, 4, 0.014204583193065064]),\n",
       " ('IAR', [8, 0.0004921259842519685, 4, 0.014204583193065064]),\n",
       " ('RAA', [22, 0.0013533464566929134, 7, 0.014605368861125005]),\n",
       " ('QAS', [22, 0.0013533464566929134, 7, 0.014605368861125005]),\n",
       " ('AVK', [17, 0.0010457677165354332, 6, 0.014610818131908879]),\n",
       " ('TPR', [17, 0.0010457677165354332, 6, 0.014610818131908879]),\n",
       " ('REG', [17, 0.0010457677165354332, 6, 0.014610818131908879]),\n",
       " ('PVC', [17, 0.0010457677165354332, 6, 0.014610818131908879]),\n",
       " ('RGR', [28, 0.0017224409448818897, 8, 0.016842778748464484]),\n",
       " ('LNV', [13, 0.0007997047244094488, 5, 0.017945149325222835]),\n",
       " ('LVG', [13, 0.0007997047244094488, 5, 0.017945149325222835]),\n",
       " ('SRV', [13, 0.0007997047244094488, 5, 0.017945149325222835]),\n",
       " ('RRA', [13, 0.0007997047244094488, 5, 0.017945149325222835]),\n",
       " ('LVN', [13, 0.0007997047244094488, 5, 0.017945149325222835]),\n",
       " ('LTQ', [13, 0.0007997047244094488, 5, 0.017945149325222835]),\n",
       " ('TVI', [13, 0.0007997047244094488, 5, 0.017945149325222835]),\n",
       " ('KVG', [13, 0.0007997047244094488, 5, 0.017945149325222835]),\n",
       " ('ACG', [13, 0.0007997047244094488, 5, 0.017945149325222835]),\n",
       " ('VLS', [23, 0.0014148622047244095, 7, 0.01812039292077193]),\n",
       " ('RLT', [23, 0.0014148622047244095, 7, 0.01812039292077193]),\n",
       " ('VSG', [18, 0.0011072834645669291, 6, 0.018745761736532394]),\n",
       " ('LAV', [18, 0.0011072834645669291, 6, 0.018745761736532394]),\n",
       " ('IPL', [18, 0.0011072834645669291, 6, 0.018745761736532394]),\n",
       " ('LTA', [18, 0.0011072834645669291, 6, 0.018745761736532394]),\n",
       " ('RTV', [18, 0.0011072834645669291, 6, 0.018745761736532394]),\n",
       " ('ESW', [5, 0.0003075787401574803, 3, 0.02042827758233493]),\n",
       " ('PTR', [5, 0.0003075787401574803, 3, 0.02042827758233493]),\n",
       " ('FAA', [5, 0.0003075787401574803, 3, 0.02042827758233493]),\n",
       " ('VMT', [5, 0.0003075787401574803, 3, 0.02042827758233493]),\n",
       " ('IDR', [5, 0.0003075787401574803, 3, 0.02042827758233493]),\n",
       " ('CVM', [5, 0.0003075787401574803, 3, 0.02042827758233493]),\n",
       " ('VQI', [5, 0.0003075787401574803, 3, 0.02042827758233493]),\n",
       " ('LHA', [5, 0.0003075787401574803, 3, 0.02042827758233493]),\n",
       " ('HAG', [5, 0.0003075787401574803, 3, 0.02042827758233493]),\n",
       " ('EFV', [9, 0.0005536417322834646, 4, 0.020832838149875195]),\n",
       " ('KRY', [9, 0.0005536417322834646, 4, 0.020832838149875195]),\n",
       " ('TIK', [9, 0.0005536417322834646, 4, 0.020832838149875195]),\n",
       " ('CPG', [9, 0.0005536417322834646, 4, 0.020832838149875195]),\n",
       " ('IQA', [9, 0.0005536417322834646, 4, 0.020832838149875195]),\n",
       " ('AVV', [9, 0.0005536417322834646, 4, 0.020832838149875195]),\n",
       " ('REV', [9, 0.0005536417322834646, 4, 0.020832838149875195]),\n",
       " ('PCV', [9, 0.0005536417322834646, 4, 0.020832838149875195]),\n",
       " ('VDG', [9, 0.0005536417322834646, 4, 0.020832838149875195]),\n",
       " ('SAV', [24, 0.0014763779527559055, 7, 0.022190661993420072]),\n",
       " ('LQA', [24, 0.0014763779527559055, 7, 0.022190661993420072]),\n",
       " ('DCM', [2, 0.00012303149606299212, 2, 0.0225032046267791]),\n",
       " ('QPF', [2, 0.00012303149606299212, 2, 0.0225032046267791]),\n",
       " ('KWG', [2, 0.00012303149606299212, 2, 0.0225032046267791]),\n",
       " ('NTR', [2, 0.00012303149606299212, 2, 0.0225032046267791]),\n",
       " ('PGG', [19, 0.0011687992125984253, 6, 0.02361533867138238]),\n",
       " ('VQT', [19, 0.0011687992125984253, 6, 0.02361533867138238]),\n",
       " ('AAT', [19, 0.0011687992125984253, 6, 0.02361533867138238]),\n",
       " ('QAR', [14, 0.0008612204724409449, 5, 0.02372842347885468]),\n",
       " ('TCR', [14, 0.0008612204724409449, 5, 0.02372842347885468]),\n",
       " ('VEE', [14, 0.0008612204724409449, 5, 0.02372842347885468]),\n",
       " ('VTA', [14, 0.0008612204724409449, 5, 0.02372842347885468]),\n",
       " ('TSP', [30, 0.0018454724409448819, 8, 0.02410817943214819]),\n",
       " ('RRK', [49, 0.003014271653543307, 11, 0.028219260840250164]),\n",
       " ('LEA', [31, 0.001906988188976378, 8, 0.028460548427842278]),\n",
       " ('QVP', [10, 0.0006151574803149606, 4, 0.029084756297574822]),\n",
       " ('QLA', [10, 0.0006151574803149606, 4, 0.029084756297574822]),\n",
       " ('VPG', [10, 0.0006151574803149606, 4, 0.029084756297574822]),\n",
       " ('IRV', [10, 0.0006151574803149606, 4, 0.029084756297574822]),\n",
       " ('VLN', [10, 0.0006151574803149606, 4, 0.029084756297574822]),\n",
       " ('ILN', [10, 0.0006151574803149606, 4, 0.029084756297574822]),\n",
       " ('EII', [10, 0.0006151574803149606, 4, 0.029084756297574822]),\n",
       " ('LAC', [10, 0.0006151574803149606, 4, 0.029084756297574822]),\n",
       " ('CEV', [10, 0.0006151574803149606, 4, 0.029084756297574822]),\n",
       " ('DLG', [10, 0.0006151574803149606, 4, 0.029084756297574822]),\n",
       " ('PVF', [10, 0.0006151574803149606, 4, 0.029084756297574822]),\n",
       " ('MSV', [10, 0.0006151574803149606, 4, 0.029084756297574822]),\n",
       " ('KVV', [10, 0.0006151574803149606, 4, 0.029084756297574822]),\n",
       " ('QIL', [10, 0.0006151574803149606, 4, 0.029084756297574822]),\n",
       " ('PAC', [10, 0.0006151574803149606, 4, 0.029084756297574822]),\n",
       " ('EPT', [10, 0.0006151574803149606, 4, 0.029084756297574822]),\n",
       " ('AAV', [15, 0.0009227362204724409, 5, 0.030593347096665058]),\n",
       " ('KAA', [15, 0.0009227362204724409, 5, 0.030593347096665058]),\n",
       " ('LCS', [15, 0.0009227362204724409, 5, 0.030593347096665058]),\n",
       " ('ISG', [15, 0.0009227362204724409, 5, 0.030593347096665058]),\n",
       " ('NEL', [15, 0.0009227362204724409, 5, 0.030593347096665058]),\n",
       " ('VLA', [15, 0.0009227362204724409, 5, 0.030593347096665058]),\n",
       " ('RRV', [15, 0.0009227362204724409, 5, 0.030593347096665058]),\n",
       " ('GLE', [26, 0.0015994094488188976, 7, 0.03214023559633846]),\n",
       " ('YAV', [6, 0.00036909448818897637, 3, 0.03249285826548411]),\n",
       " ('EGC', [6, 0.00036909448818897637, 3, 0.03249285826548411]),\n",
       " ('MVT', [6, 0.00036909448818897637, 3, 0.03249285826548411]),\n",
       " ('AIR', [6, 0.00036909448818897637, 3, 0.03249285826548411]),\n",
       " ('HVG', [6, 0.00036909448818897637, 3, 0.03249285826548411]),\n",
       " ('LPC', [6, 0.00036909448818897637, 3, 0.03249285826548411]),\n",
       " ('AMS', [6, 0.00036909448818897637, 3, 0.03249285826548411]),\n",
       " ('PIQ', [6, 0.00036909448818897637, 3, 0.03249285826548411]),\n",
       " ('PLC', [6, 0.00036909448818897637, 3, 0.03249285826548411]),\n",
       " ('SMT', [6, 0.00036909448818897637, 3, 0.03249285826548411]),\n",
       " ('VTR', [6, 0.00036909448818897637, 3, 0.03249285826548411]),\n",
       " ('RQI', [6, 0.00036909448818897637, 3, 0.03249285826548411]),\n",
       " ('CGP', [6, 0.00036909448818897637, 3, 0.03249285826548411]),\n",
       " ('RCR', [6, 0.00036909448818897637, 3, 0.03249285826548411]),\n",
       " ('QSC', [6, 0.00036909448818897637, 3, 0.03249285826548411]),\n",
       " ('CIS', [6, 0.00036909448818897637, 3, 0.03249285826548411]),\n",
       " ('TEV', [21, 0.0012918307086614174, 6, 0.03574029920257629]),\n",
       " ('ARG', [21, 0.0012918307086614174, 6, 0.03574029920257629]),\n",
       " ('VKA', [21, 0.0012918307086614174, 6, 0.03574029920257629]),\n",
       " ('PRR', [21, 0.0012918307086614174, 6, 0.03574029920257629]),\n",
       " ('LQP', [21, 0.0012918307086614174, 6, 0.03574029920257629]),\n",
       " ('LSV', [27, 0.0016609251968503938, 7, 0.03808121266375453]),\n",
       " ('SEV', [27, 0.0016609251968503938, 7, 0.03808121266375453]),\n",
       " ('TTS', [16, 0.000984251968503937, 5, 0.038588582000210384]),\n",
       " ('VIS', [16, 0.000984251968503937, 5, 0.038588582000210384]),\n",
       " ('RPV', [16, 0.000984251968503937, 5, 0.038588582000210384]),\n",
       " ('QTA', [11, 0.0006766732283464567, 4, 0.039021469759252934]),\n",
       " ('ITA', [11, 0.0006766732283464567, 4, 0.039021469759252934]),\n",
       " ('PLN', [11, 0.0006766732283464567, 4, 0.039021469759252934]),\n",
       " ('ELR', [11, 0.0006766732283464567, 4, 0.039021469759252934]),\n",
       " ('GRV', [11, 0.0006766732283464567, 4, 0.039021469759252934]),\n",
       " ('VRE', [11, 0.0006766732283464567, 4, 0.039021469759252934]),\n",
       " ('VFS', [11, 0.0006766732283464567, 4, 0.039021469759252934]),\n",
       " ('LPI', [11, 0.0006766732283464567, 4, 0.039021469759252934]),\n",
       " ('IQV', [11, 0.0006766732283464567, 4, 0.039021469759252934]),\n",
       " ('RVT', [11, 0.0006766732283464567, 4, 0.039021469759252934]),\n",
       " ('GDA', [11, 0.0006766732283464567, 4, 0.039021469759252934]),\n",
       " ('NTV', [11, 0.0006766732283464567, 4, 0.039021469759252934]),\n",
       " ('EEA', [22, 0.0013533464566929134, 6, 0.04306734712458276]),\n",
       " ('LAT', [22, 0.0013533464566929134, 6, 0.04306734712458276]),\n",
       " ('QPG', [22, 0.0013533464566929134, 6, 0.04306734712458276]),\n",
       " ('QGL', [22, 0.0013533464566929134, 6, 0.04306734712458276]),\n",
       " ('PPG', [22, 0.0013533464566929134, 6, 0.04306734712458276]),\n",
       " ('ELV', [22, 0.0013533464566929134, 6, 0.04306734712458276]),\n",
       " ('ALL', [40, 0.0024606299212598425, 9, 0.04371396228394074]),\n",
       " ('ASR', [28, 0.0017224409448818897, 7, 0.044699880447842316]),\n",
       " ('STA', [28, 0.0017224409448818897, 7, 0.044699880447842316]),\n",
       " ('AVC', [3, 0.00018454724409448819, 2, 0.047003904120988746]),\n",
       " ('VMA', [3, 0.00018454724409448819, 2, 0.047003904120988746]),\n",
       " ('GCQ', [3, 0.00018454724409448819, 2, 0.047003904120988746]),\n",
       " ('HIE', [3, 0.00018454724409448819, 2, 0.047003904120988746]),\n",
       " ('QWG', [3, 0.00018454724409448819, 2, 0.047003904120988746]),\n",
       " ('MVV', [3, 0.00018454724409448819, 2, 0.047003904120988746]),\n",
       " ('VWT', [3, 0.00018454724409448819, 2, 0.047003904120988746]),\n",
       " ('RCN', [3, 0.00018454724409448819, 2, 0.047003904120988746]),\n",
       " ('WAF', [3, 0.00018454724409448819, 2, 0.047003904120988746]),\n",
       " ('MVD', [3, 0.00018454724409448819, 2, 0.047003904120988746]),\n",
       " ('ETW', [3, 0.00018454724409448819, 2, 0.047003904120988746]),\n",
       " ('PYQ', [3, 0.00018454724409448819, 2, 0.047003904120988746]),\n",
       " ('ITM', [3, 0.00018454724409448819, 2, 0.047003904120988746]),\n",
       " ('AIT', [3, 0.00018454724409448819, 2, 0.047003904120988746]),\n",
       " ('DHR', [3, 0.00018454724409448819, 2, 0.047003904120988746]),\n",
       " ('CCF', [3, 0.00018454724409448819, 2, 0.047003904120988746]),\n",
       " ('INA', [3, 0.00018454724409448819, 2, 0.047003904120988746]),\n",
       " ('MQI', [3, 0.00018454724409448819, 2, 0.047003904120988746]),\n",
       " ('NLN', [3, 0.00018454724409448819, 2, 0.047003904120988746]),\n",
       " ('TVH', [3, 0.00018454724409448819, 2, 0.047003904120988746]),\n",
       " ('AMR', [3, 0.00018454724409448819, 2, 0.047003904120988746]),\n",
       " ('WIA', [3, 0.00018454724409448819, 2, 0.047003904120988746]),\n",
       " ('VVC', [3, 0.00018454724409448819, 2, 0.047003904120988746]),\n",
       " ('GVF', [3, 0.00018454724409448819, 2, 0.047003904120988746]),\n",
       " ('GEE', [47, 0.002891240157480315, 10, 0.04742874756415631]),\n",
       " ('RAV', [7, 0.00043061023622047243, 3, 0.04751995049973115]),\n",
       " ('TMA', [7, 0.00043061023622047243, 3, 0.04751995049973115]),\n",
       " ('MAE', [7, 0.00043061023622047243, 3, 0.04751995049973115]),\n",
       " ('ECS', [7, 0.00043061023622047243, 3, 0.04751995049973115]),\n",
       " ('PIN', [7, 0.00043061023622047243, 3, 0.04751995049973115]),\n",
       " ('KLC', [7, 0.00043061023622047243, 3, 0.04751995049973115]),\n",
       " ('EAR', [7, 0.00043061023622047243, 3, 0.04751995049973115]),\n",
       " ('YLY', [7, 0.00043061023622047243, 3, 0.04751995049973115]),\n",
       " ('TAM', [7, 0.00043061023622047243, 3, 0.04751995049973115]),\n",
       " ('ETF', [7, 0.00043061023622047243, 3, 0.04751995049973115]),\n",
       " ('IAV', [7, 0.00043061023622047243, 3, 0.04751995049973115]),\n",
       " ('VDT', [7, 0.00043061023622047243, 3, 0.04751995049973115]),\n",
       " ('QCL', [7, 0.00043061023622047243, 3, 0.04751995049973115]),\n",
       " ('RIV', [7, 0.00043061023622047243, 3, 0.04751995049973115]),\n",
       " ('QVY', [7, 0.00043061023622047243, 3, 0.04751995049973115]),\n",
       " ('TRC', [7, 0.00043061023622047243, 3, 0.04751995049973115]),\n",
       " ('PSY', [7, 0.00043061023622047243, 3, 0.04751995049973115]),\n",
       " ('ACR', [7, 0.00043061023622047243, 3, 0.04751995049973115]),\n",
       " ('TIP', [7, 0.00043061023622047243, 3, 0.04751995049973115]),\n",
       " ('FTE', [7, 0.00043061023622047243, 3, 0.04751995049973115]),\n",
       " ('NLI', [7, 0.00043061023622047243, 3, 0.04751995049973115]),\n",
       " ('CGF', [7, 0.00043061023622047243, 3, 0.04751995049973115]),\n",
       " ('NSV', [17, 0.0010457677165354332, 5, 0.04774639348342636]),\n",
       " ('VAT', [17, 0.0010457677165354332, 5, 0.04774639348342636]),\n",
       " ('KGE', [17, 0.0010457677165354332, 5, 0.04774639348342636]),\n",
       " ('VDL', [17, 0.0010457677165354332, 5, 0.04774639348342636]),\n",
       " ('NLT', [17, 0.0010457677165354332, 5, 0.04774639348342636]),\n",
       " ('MEV', [17, 0.0010457677165354332, 5, 0.04774639348342636])]"
      ]
     },
     "execution_count": 34,
     "metadata": {},
     "output_type": "execute_result"
    }
   ],
   "source": [
    "top_motifs"
   ]
  },
  {
   "cell_type": "code",
   "execution_count": 35,
   "metadata": {},
   "outputs": [
    {
     "data": {
      "text/plain": [
       "2.1890608771173494e-06"
      ]
     },
     "execution_count": 35,
     "metadata": {},
     "output_type": "execute_result"
    }
   ],
   "source": [
    "kmer_info_sorted[0][1][3]"
   ]
  },
  {
   "cell_type": "markdown",
   "metadata": {},
   "source": [
    "Old code"
   ]
  },
  {
   "cell_type": "code",
   "execution_count": 36,
   "metadata": {
    "collapsed": true
   },
   "outputs": [],
   "source": [
    "# Calculate baseline frequency by averaging frequencies\n",
    "# How likely a kmer is to appear at random \n",
    "\n",
    "# freq_sum = 0\n",
    "# for i in kmer_dict:\n",
    "#     freq_sum += kmer_dict[i]\n",
    "# baseline = freq_sum / (num_seq * len(kmer_dict))\n",
    "\n",
    "# GENERAL / AVERAGE\n",
    "# Determine motif cutoff using Binomial expression and baseline\n",
    "\n",
    "# i = 0\n",
    "# while stats.binom.sf(i, seq_cutoff, baseline) > 0.05:\n",
    "#     i = i+1\n",
    "# motif_cutoff = i\n",
    "# binom_value = stats.binom.sf(i, seq_cutoff, baseline)\n",
    "\n",
    "# def binomcdf_orig():\n",
    "#     #p = baseline\n",
    "#     p = baseline_prob\n",
    "#     n = seq_cutoff\n",
    "#     x = 100\n",
    "#     result = []\n",
    "#     labels = []\n",
    "#     for a in range(20):\n",
    "#         labels.append(x)\n",
    "#         result.append(stats.binom.sf(x, n, p))\n",
    "#         x += 5\n",
    "#     return result, labels\n",
    "\n",
    "# # plt.hist(binomcdf())\n",
    "# # plt.show()\n",
    "# b, l = binomcdf()"
   ]
  },
  {
   "cell_type": "code",
   "execution_count": 37,
   "metadata": {
    "collapsed": true
   },
   "outputs": [],
   "source": [
    "# # Calculates motif-specific p-value\n",
    "# # Lower p-value = higher enrichment of kmer among top sequences\n",
    "# def p_value(kmer):\n",
    "#     baseline_prob = kmer_dict[kmer] / num_seq\n",
    "    \n",
    "#     # Frequency kmer among top sequences\n",
    "#     top_freq = kmer_dict_top[kmer] \n",
    "    \n",
    "#     return stats.binom.sf(top_freq, seq_cutoff, baseline_prob)"
   ]
  },
  {
   "cell_type": "code",
   "execution_count": 38,
   "metadata": {
    "collapsed": true
   },
   "outputs": [],
   "source": [
    "#     lines = [[(middle - 100, p_value), (top_count, p_value)], \n",
    "#              [(top_count, -0.05), (top_count, p_value)]]\n",
    "#     c = np.array([(1, 0, 0, 1), (0, 1, 0, 1), (0, 0, 1, 1)])\n",
    "\n",
    "#     lc = mc.LineCollection(lines, colors=c, linewidths=2)\n",
    "#     fig, ax = pl.subplots()\n",
    "#     ax.add_collection(lc)\n",
    "#     ax.autoscale()\n",
    "#     ax.margins(0.1)"
   ]
  },
  {
   "cell_type": "markdown",
   "metadata": {},
   "source": [
    "Seaborn stuff"
   ]
  },
  {
   "cell_type": "code",
   "execution_count": 39,
   "metadata": {},
   "outputs": [
    {
     "name": "stderr",
     "output_type": "stream",
     "text": [
      "/Users/cynthiachen/anaconda2/envs/py36/lib/python3.6/site-packages/scipy/stats/stats.py:1633: FutureWarning: Using a non-tuple sequence for multidimensional indexing is deprecated; use `arr[tuple(seq)]` instead of `arr[seq]`. In the future this will be interpreted as an array index, `arr[np.array(seq)]`, which will result either in an error or a different result.\n",
      "  return np.add.reduce(sorted[indexer] * weights, axis=axis) / sumval\n"
     ]
    },
    {
     "data": {
      "text/plain": [
       "<seaborn.axisgrid.JointGrid at 0x125f7ad68>"
      ]
     },
     "execution_count": 39,
     "metadata": {},
     "output_type": "execute_result"
    }
   ],
   "source": [
    "sns.set(style=\"ticks\")\n",
    "\n",
    "rs = np.random.RandomState(11)\n",
    "x = rs.gamma(2, size=1000)\n",
    "y = -.5 * x + rs.normal(size=1000)\n",
    "\n",
    "sns.jointplot(x, y, kind=\"hex\", color=\"#4CB391\")"
   ]
  },
  {
   "cell_type": "code",
   "execution_count": 40,
   "metadata": {},
   "outputs": [
    {
     "data": {
      "image/png": "[encoded data removed]",
      "text/plain": [
       "<Figure size 432x288 with 1 Axes>"
      ]
     },
     "metadata": {},
     "output_type": "display_data"
    },
    {
     "data": {
      "image/png": "[encoded data removed]",
      "text/plain": [
       "<Figure size 432x432 with 3 Axes>"
      ]
     },
     "metadata": {},
     "output_type": "display_data"
    }
   ],
   "source": [
    "plt.show()"
   ]
  },
  {
   "cell_type": "code",
   "execution_count": 41,
   "metadata": {
    "collapsed": true
   },
   "outputs": [],
   "source": [
    "# p_vals"
   ]
  },
  {
   "cell_type": "code",
   "execution_count": 42,
   "metadata": {
    "collapsed": true
   },
   "outputs": [],
   "source": [
    "# Load the example flights dataset and conver to long-form\n",
    "flights_long = sns.load_dataset(\"flights\")\n",
    "flights = flights_long.pivot(\"month\", \"year\", \"passengers\")"
   ]
  },
  {
   "cell_type": "code",
   "execution_count": 43,
   "metadata": {
    "scrolled": true
   },
   "outputs": [
    {
     "data": {
      "text/plain": [
       "<matplotlib.axes._subplots.AxesSubplot at 0x1282582e8>"
      ]
     },
     "execution_count": 43,
     "metadata": {},
     "output_type": "execute_result"
    }
   ],
   "source": [
    "# Draw a heatmap with the numeric values in each cell\n",
    "f, ax = plt.subplots(figsize=(9, 6))\n",
    "sns.heatmap(flights, annot=True, fmt=\"d\", linewidths=.5, ax=ax)"
   ]
  },
  {
   "cell_type": "code",
   "execution_count": 44,
   "metadata": {
    "scrolled": true
   },
   "outputs": [
    {
     "data": {
      "image/png": "[encoded data removed]",
      "text/plain": [
       "<Figure size 648x432 with 2 Axes>"
      ]
     },
     "metadata": {},
     "output_type": "display_data"
    }
   ],
   "source": [
    "plt.show()"
   ]
  },
  {
   "cell_type": "markdown",
   "metadata": {},
   "source": [
    "Motif analysis with DRP score weighting"
   ]
  },
  {
   "cell_type": "code",
   "execution_count": 45,
   "metadata": {
    "collapsed": true
   },
   "outputs": [],
   "source": [
    "# Function description: \n",
    "#\n",
    "# Cutoff -- number of sequences from the top + bottom to consider for motif analysis\n",
    "# Motif length -- length of kmer motifs to be considered\n",
    "\n",
    "def motif_with_weighting(cutoff = 50, motif_length = 2):\n",
    "    top = degron_seq_scores[0:cutoff]\n",
    "    bottom = degron_seq_scores[-cutoff:]\n",
    "    kmers = []\n",
    "    \n",
    "    for row in top:\n",
    "        sequence = row[0]\n",
    "        for j in range(seq_length - motif_length + 1):\n",
    "            kmers.append((sequence[j:(j+motif_length)], row[1])) # add k-mer and corresponding score\n",
    "    \n",
    "    # Normalize drp scores to emphasize differences\n",
    "    kmers = np.asarray(kmers) # Convert kmers to np array from a list\n",
    "    x = np.asarray(list(map(float, kmers[:, 1])))\n",
    "    normalized = (x-min(x))/(max(x)-min(x))\n",
    "    kmers[:,1] = normalized\n",
    "    \n",
    "    # Convert list of kmers into 1 string\n",
    "    kmer_str = \" \".join(kmers[:, 0])\n",
    "    kmer_list = list(kmers[:, 0])\n",
    "    \n",
    "    unique_kmers = [] \n",
    "  \n",
    "    # Determine all unique kmers\n",
    "    for i in kmer_list: \n",
    "        # checking for duplicacy \n",
    "        if i not in unique_kmers: \n",
    "            # insert value in str2 \n",
    "            unique_kmers.append(i)  \n",
    "    \n",
    "    for i in range(0, len(unique_kmers)): \n",
    "        # \n",
    "        np.asarrray\n",
    "        kmer_dict.update({unique_kmers[i] : kmer_list.count(unique_kmers[i])})"
   ]
  }
 ],
 "metadata": {
  "kernelspec": {
   "display_name": "Python 3",
   "language": "python",
   "name": "python3"
  },
  "language_info": {
   "codemirror_mode": {
    "name": "ipython",
    "version": 3
   },
   "file_extension": ".py",
   "mimetype": "text/x-python",
   "name": "python",
   "nbconvert_exporter": "python",
   "pygments_lexer": "ipython3",
   "version": "3.6.8"
  }
 },
 "nbformat": 4,
 "nbformat_minor": 2
}
