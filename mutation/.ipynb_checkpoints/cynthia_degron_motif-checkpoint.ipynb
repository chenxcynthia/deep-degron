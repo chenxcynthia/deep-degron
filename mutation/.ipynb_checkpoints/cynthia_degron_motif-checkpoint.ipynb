{
 "cells": [
  {
   "cell_type": "markdown",
   "metadata": {},
   "source": [
    "# Computational analysis to determine protein degradation motifs\n",
    "Description"
   ]
  },
  {
   "cell_type": "code",
   "execution_count": 1,
   "metadata": {
    "collapsed": true
   },
   "outputs": [],
   "source": [
    "import numpy as np\n",
    "import pandas as pd\n",
    "import matplotlib.pyplot as plt\n",
    "import pickle\n",
    "import seaborn as sns\n",
    "from scipy import stats \n",
    "import sys\n",
    "import sklearn\n",
    "from sklearn.preprocessing import normalize\n",
    "from sklearn.metrics import roc_curve, auc, roc_auc_score\n",
    "import pylab as pl\n",
    "from matplotlib import collections  as mc"
   ]
  },
  {
   "cell_type": "code",
   "execution_count": 2,
   "metadata": {},
   "outputs": [
    {
     "name": "stderr",
     "output_type": "stream",
     "text": [
      "Using TensorFlow backend.\n"
     ]
    }
   ],
   "source": [
    "sys.path.insert(0, '/Users/cynthiachen/Downloads/Internship2019/degron_mutation/deepDegron')\n",
    "from train_nn import *"
   ]
  },
  {
   "cell_type": "code",
   "execution_count": 3,
   "metadata": {
    "collapsed": true
   },
   "outputs": [],
   "source": [
    "wd = '/Users/cynthiachen/Downloads/Internship2019/degron_mutation/'"
   ]
  },
  {
   "cell_type": "code",
   "execution_count": 308,
   "metadata": {
    "collapsed": true
   },
   "outputs": [],
   "source": [
    "# Load pre-trained neural network models from pickle file\n",
    "model_bag_of_words = pickle.load(open( \"../models/neural_network_bag_of_words_v3.pickle\", \"rb\" ))\n",
    "model_pos_specific = pickle.load(open( \"../models/neural_network_pos_specific_v3.pickle\", \"rb\" ))\n",
    "\n",
    "# Create pd dataframe of sequence information \n",
    "degron_pred = pd.read_csv(\"../data/degron_pred.csv\", index_col=0)\n",
    "# Select column of input sequences\n",
    "input_seq = degron_pred.iloc[:, 10]\n",
    "\n",
    "\n",
    "# Use compute_feature_matrix function to encode sequences\n",
    "features = compute_feature_matrix(input_seq, 6, True)\n",
    "condensed_features = features[:, 0:20] # Remove zeros at the end for bag of words prediction\n",
    "\n",
    "# Use pre-trained model to predict sequence degredataion\n",
    "pred_bow_wt = model_bag_of_words.predict_proba(condensed_features) # wild-type bag of words prediction\n",
    "pred_ps_wt = model_pos_specific.predict_proba(features)            # wild-type position-specific prediction\n",
    "drp_wt = pred_ps_wt-pred_bow_wt                                    # wild-type degron regulatory potential"
   ]
  },
  {
   "cell_type": "code",
   "execution_count": 309,
   "metadata": {
    "collapsed": true
   },
   "outputs": [],
   "source": [
    "# Convert string to 2D list of characters\n",
    "\n",
    "seqlist = [] # 2D list of all sequences, with each character as 1 entry \n",
    "for sequence in input_seq:\n",
    "    seqlist.append(list(sequence))"
   ]
  },
  {
   "cell_type": "code",
   "execution_count": 310,
   "metadata": {
    "collapsed": true
   },
   "outputs": [],
   "source": [
    "# Define sequence information variables\n",
    "seq_length = len(seqlist[0]) # 23\n",
    "num_seq = len(seqlist)       # number of total sequences"
   ]
  },
  {
   "cell_type": "code",
   "execution_count": 311,
   "metadata": {
    "collapsed": true
   },
   "outputs": [],
   "source": [
    "# Sort degron sequence information by regulatory potential in descending order (highest to lowest)\n",
    "degron_pred_sorted = degron_pred.sort_values(by=['regulatory potential'], ascending=False)"
   ]
  },
  {
   "cell_type": "markdown",
   "metadata": {},
   "source": [
    "## 1. ROC curve calculation to statistically determine sequence cutoff"
   ]
  },
  {
   "cell_type": "code",
   "execution_count": 312,
   "metadata": {
    "collapsed": true
   },
   "outputs": [],
   "source": [
    "# Determines true labels based on bins\n",
    "# Bins 1 & 2 -> 1 (high degradation)\n",
    "# Bins 3 & 4 -> 0 (low degradation)\n",
    "\n",
    "auc_info = np.asarray(degron_pred_sorted[['Modal Bin', 'sequence position specific', 'bag of words']])\n",
    "\n",
    "for i in range(num_seq):\n",
    "    mbin = auc_info[:, 0][i]\n",
    "    if mbin > 2:\n",
    "        auc_info[:, 0][i] = 0\n",
    "    else:\n",
    "        auc_info[:, 0][i] = 1"
   ]
  },
  {
   "cell_type": "code",
   "execution_count": 313,
   "metadata": {
    "collapsed": true
   },
   "outputs": [],
   "source": [
    "def auc_details(cutoff):\n",
    "    y_true = auc_info[cutoff:num_seq-cutoff, 0]\n",
    "    y_score_ss = auc_info[cutoff:num_seq-cutoff, 1] # Sequence-specific prediction scores\n",
    "    y_score_bow = auc_info[cutoff:num_seq-cutoff, 2] # Bag of words prediction scores\n",
    "\n",
    "    fp_ss, tp_ss, _ = sklearn.metrics.roc_curve(y_true, y_score_ss) # false-positive and true-positive\n",
    "    auc_ss = auc(fp_ss, tp_ss)\n",
    "    fp_bow, tp_bow, _ = sklearn.metrics.roc_curve(y_true, y_score_bow)\n",
    "    auc_bow = auc(fp_bow, tp_bow) \n",
    "    \n",
    "    return [fp_ss, tp_ss, auc_ss, fp_bow, tp_bow, auc_bow]\n",
    "\n",
    "# cutoffs is a 1D list containing the cutoffs to be plotted\n",
    "def plot_auc(cutoffs):\n",
    "    colors = [ ['mediumpurple', 'indigo'], ['lightcoral', 'indianred'],\n",
    "             ['cornflowerblue', 'mediumblue'], ['orange', 'darkorange'],['green', 'darkgreen']]\n",
    "    #Accessed from: stackoverflow.com/questions/22408237/named-colors-in-matplotlib\n",
    "    \n",
    "    plt.figure()\n",
    "    for i in range(len(cutoffs)): \n",
    "        c = cutoffs[i]\n",
    "        a = auc_details(c)\n",
    "\n",
    "        lw = 1.5\n",
    "        plt.plot(a[0], a[1], color = colors[i][0],\n",
    "                 lw = lw, label = 'Cutoff ' + str(c) + ', Sequence-specific (area = %0.3f)' % a[2])\n",
    "        plt.plot(a[3], a[4], color = colors[i][1],\n",
    "                 lw = lw, label = 'Cutoff ' + str(c) + ', Bag-of-words (area = %0.3f)' % a[5])\n",
    "    \n",
    "    plt.plot([0, 1], [0, 1], color='navy', lw=lw, linestyle='--')\n",
    "    plt.xlim([0.0, 1.0])\n",
    "    plt.ylim([0.0, 1.05])\n",
    "    plt.xlabel('False Positive Rate')\n",
    "    plt.ylabel('True Positive Rate')\n",
    "    plt.title('Receiver operating characteristic (ROC), Cutoff = ' + str(c))\n",
    "    plt.legend(loc=\"lower right\")\n",
    "    \n",
    "    cutoffs_str = [str(i) for i in cutoffs]\n",
    "    cutoffs_file_name = '_'.join(cutoffs_str)\n",
    "    plt.savefig(wd+'figures/cutoffs/auc/'+cutoffs_file_name,dpi=300)\n",
    "    plt.close()"
   ]
  },
  {
   "cell_type": "code",
   "execution_count": 10,
   "metadata": {
    "collapsed": true
   },
   "outputs": [],
   "source": [
    "elbow = 1860"
   ]
  },
  {
   "cell_type": "code",
   "execution_count": 314,
   "metadata": {},
   "outputs": [
    {
     "name": "stdout",
     "output_type": "stream",
     "text": [
      "1860\n"
     ]
    },
    {
     "name": "stderr",
     "output_type": "stream",
     "text": [
      "/Users/cynthiachen/anaconda2/envs/py36/lib/python3.6/site-packages/ipykernel_launcher.py:32: MatplotlibDeprecationWarning: Adding an axes using the same arguments as a previous axes currently reuses the earlier instance.  In a future version, a new instance will always be created and returned.  Meanwhile, this warning can be suppressed, and the future behavior ensured, by passing a unique label to each axes instance.\n"
     ]
    }
   ],
   "source": [
    "# Determine delta AUC values for all cutoffs to determine the minimum AUC\n",
    "\n",
    "aucs = []\n",
    "num_cutoffs = 400\n",
    "increment = 20\n",
    "cutoffs = np.asarray(range(num_cutoffs)) * increment\n",
    "\n",
    "b=False\n",
    "for c in cutoffs:\n",
    "    a = auc_details(c)\n",
    "    if (b==False and a[2] - a[5] < 0.01):\n",
    "        print(c)\n",
    "        b=True\n",
    "    aucs.append(a[2] - a[5])\n",
    "    \n",
    "fig = plt.figure()\n",
    "sns.set_style(\"darkgrid\")\n",
    "plt.plot(cutoffs, aucs)\n",
    "plt.xlabel('Cutoff')\n",
    "plt.ylabel('Delta AUC')\n",
    "\n",
    "combined = np.asarray([cutoffs, aucs])\n",
    "min_index = np.argmin(combined[1])\n",
    "seq_cutoff = int(combined[0][min_index]) # cutoff for the minimum difference betweeen SS and BOW\n",
    "\n",
    "# Points\n",
    "plt.plot(seq_cutoff, combined[1][min_index], 'ro')\n",
    "elbow_auc = auc_details(elbow)[2]-auc_details(elbow)[5]\n",
    "plt.plot(elbow, elbow_auc, 'ro')\n",
    "\n",
    "# Add annotation\n",
    "ax = fig.add_subplot(111)\n",
    "ax.annotate(\"Minimum \\n (Cutoff = \"+ str(seq_cutoff)+ \")\", xy=(seq_cutoff, combined[1][min_index]), \n",
    "                  xytext=(seq_cutoff-2000, 0.025), #va=\"bottom\", ha=\"center\",\n",
    "                  bbox=dict(boxstyle=\"round\", fc=\"w\"),\n",
    "                  arrowprops=dict(arrowstyle=\"->\"))\n",
    "elbow = 1860\n",
    "ax.annotate(\"Elbow \\n (Cutoff = \" + str(elbow) + \")\", xy=(elbow, elbow_auc), \n",
    "                  xytext=(elbow, 0.025), #va=\"bottom\", ha=\"center\",\n",
    "                  bbox=dict(boxstyle=\"round\", fc=\"w\"),\n",
    "                  arrowprops=dict(arrowstyle=\"->\"))\n",
    "delta = u'Δ'\n",
    "plt.title(delta + ' AUC at Various Cutoffs')\n",
    "    \n",
    "plt.savefig(wd+'figures/cutoffs/auc/delta_auc_over_cutoffs',dpi=300)\n",
    "#plt.show()\n",
    "plt.close()"
   ]
  },
  {
   "cell_type": "code",
   "execution_count": 315,
   "metadata": {
    "collapsed": true
   },
   "outputs": [],
   "source": [
    "seq_cutoff =1860"
   ]
  },
  {
   "cell_type": "code",
   "execution_count": 316,
   "metadata": {
    "collapsed": true
   },
   "outputs": [],
   "source": [
    "# Plot ROC curve for cutoff with minimum delta AUC in comparison to original AUC\n",
    "\n",
    "plot_auc([0, int(seq_cutoff/2), seq_cutoff])\n",
    "plot_auc([0, 2000])\n",
    "plot_auc([0, seq_cutoff])\n",
    "plot_auc([seq_cutoff])\n",
    "plot_auc([0])"
   ]
  },
  {
   "cell_type": "markdown",
   "metadata": {
    "collapsed": true
   },
   "source": [
    "## 2. Motif Analysis\n",
    "Discover patterns that characterize sequences with high & low degron regulatory potential"
   ]
  },
  {
   "cell_type": "code",
   "execution_count": 317,
   "metadata": {
    "collapsed": true
   },
   "outputs": [],
   "source": [
    "# Select only the \"sequence\" and \"potential\" columns and format values into a list\n",
    "degron_seq_scores = degron_pred_sorted[['Peptide amino acid sequence','regulatory potential']].values.tolist()"
   ]
  },
  {
   "cell_type": "code",
   "execution_count": 431,
   "metadata": {},
   "outputs": [
    {
     "data": {
      "text/plain": [
       "'-5'"
      ]
     },
     "execution_count": 431,
     "metadata": {},
     "output_type": "execute_result"
    }
   ],
   "source": [
    "str(-5)"
   ]
  },
  {
   "cell_type": "code",
   "execution_count": 432,
   "metadata": {
    "collapsed": true
   },
   "outputs": [],
   "source": [
    "# MOTIF ANALYSIS FUNCTIONS\n",
    "\n",
    "\n",
    "# Function description: Determine the frequency of each kmer within the dataset\n",
    "#\n",
    "# Cutoff -- number of sequences from the top + bottom to consider for motif analysis\n",
    "# kmer length -- length of kmers to be considered\n",
    "# terminal -- how many amino acids to consider for each sequence (starting from the end)\n",
    "#\n",
    "# Returns a dictionary (key: kmer, value: frequency)\n",
    "\n",
    "def kmer_freq(cutoff, kmer_length, terminal = seq_length):\n",
    "    top = degron_seq_scores[0:cutoff]\n",
    "    bottom = degron_seq_scores[-cutoff:]\n",
    "    kmers = []\n",
    "    kmer_dict = {}\n",
    "    \n",
    "    for row in top:\n",
    "        sequence = row[0]\n",
    "        for j in range(seq_length - terminal, seq_length - kmer_length + 1):\n",
    "            kmers.append((sequence[j:(j + kmer_length)]+'('+str(j-seq_length)+')', row[1])) \n",
    "            # add k-mer and corresponding score\n",
    "    \n",
    "    # Normalize drp scores to emphasize differences\n",
    "    kmers = np.asarray(kmers) # Convert kmers to np array from a list\n",
    "    x = np.asarray(list(map(float, kmers[:, 1])))\n",
    "    normalized = (x-min(x))/(max(x)-min(x))\n",
    "    kmers[:,1] = normalized\n",
    "    \n",
    "    # Convert list of kmers into 1 string\n",
    "    kmer_str = \" \".join(kmers[:, 0])\n",
    "    kmer_list = list(kmers[:, 0])\n",
    "    \n",
    "    unique_kmers = [] \n",
    "  \n",
    "    # Determine all unique kmers\n",
    "    for i in kmer_list: \n",
    "        # checking for duplicacy \n",
    "        if i not in unique_kmers: \n",
    "            # insert value in str2 \n",
    "            unique_kmers.append(i)  \n",
    "    \n",
    "    for i in range(0, len(unique_kmers)): \n",
    "        # count the frequency of each unique kmer and print \n",
    "        #print('Frequency of', unique_kmers[i], 'is :', kmer_list.count(unique_kmers[i]))\n",
    "        kmer_dict.update({unique_kmers[i] : kmer_list.count(unique_kmers[i])})\n",
    "    \n",
    "    # Returns dictionary of [kmer sequence] -> [frequency]\n",
    "    return kmer_dict\n",
    "\n",
    "\n",
    "# Function description: Given a dataset of kmer information and a single specified kmer, \n",
    "# this function determines binomial probability values for various cutoffs \n",
    "# to determine the optimal motif cutoff frequency\n",
    "# ???\n",
    "def graph_binom(kmer, kmer_info):\n",
    "    plt.close()\n",
    "    # Retrieve kmer information from compiled dictionary\n",
    "    info = kmer_info[kmer]\n",
    "    top_count = info[2]\n",
    "    baseline_prob = info[1] \n",
    "    p_value = info[3]\n",
    "    \n",
    "    # Determine frequency range to be plotted\n",
    "    #middle = int(baseline_prob * seq_cutoff)\n",
    "    middle = top_count\n",
    "    freqs = range(middle - 20, middle + 20, 1)\n",
    "    \n",
    "    # Plot kmer-specific binomial curve\n",
    "    binom_vals = []\n",
    "    for i in freqs:\n",
    "        binom_vals.append(stats.binom.sf(i, seq_cutoff, baseline_prob))\n",
    "    \n",
    "    fig = plt.figure()\n",
    "    plt.plot(freqs, binom_vals, 'b', label = \"Binomial expression\")\n",
    "\n",
    "    # Add annotations\n",
    "    \n",
    "    # horizontal ray\n",
    "    plt.axhline(y=p_value, xmax=0.5, color='r', linestyle='--', label = \"y = p-value\", lw = 1)\n",
    "    # vertical ray\n",
    "    #plt.axvline(x=top_count, ymax=p_value, color='r', linestyle='--', label = \"x = count\", lw = 1)\n",
    "    #plt.plot(pair_x, pair_y, 'm', linewidth=3)\n",
    "\n",
    "    # based on top_freq\n",
    "    ax = fig.add_subplot(111)\n",
    "\n",
    "    plt.plot(top_count, p_value, 'ro') # point\n",
    "    \n",
    "    # plt.plot(motif_cutoff, binom_value, 'ro') #point\n",
    "    # ax.annotate(\"Optimal Motif Frequency \\n Cutoff = \" + str(motif_cutoff), \n",
    "    # xy=(motif_cutoff, binom_value), \n",
    "    #                   xytext=(motif_cutoff-8, 0.4), #va=\"bottom\", ha=\"center\",\n",
    "    #                   bbox=dict(boxstyle=\"round\", fc=\"w\"),\n",
    "    #                   arrowprops=dict(arrowstyle=\"->\"))\n",
    "\n",
    "    plt.xlabel('Frequency Count')\n",
    "    plt.ylabel('Binomial Survival Expression')\n",
    "    plt.legend(loc=\"upper right\")\n",
    "    plt.title(\"Motif-Specific Binomial Survival Expression over Frequency Cutoffs: \\n Motif = \" + kmer)\n",
    "    plt.savefig(wd+'figures/cutoffs/binomial/'+kmer,dpi=300)\n",
    "    plt.close()\n",
    "    "
   ]
  },
  {
   "cell_type": "code",
   "execution_count": 16,
   "metadata": {
    "collapsed": true
   },
   "outputs": [],
   "source": [
    "# gap is the position where the gap occurs\n",
    "# Example: if AAA_A, then gap = 4\n",
    "def kmer_freq_with_gap(cutoff, gap, kmer_length, terminal = seq_length):\n",
    "    top = degron_seq_scores[0:cutoff]\n",
    "    bottom = degron_seq_scores[-cutoff:]\n",
    "    kmers = []\n",
    "    kmer_dict = {}\n",
    "    \n",
    "    for row in top:\n",
    "        sequence = row[0]\n",
    "        for j in range(seq_length - terminal, seq_length - kmer_length + 1):\n",
    "            kmer_str = sequence[j:(j+gap-1)] + '_' + sequence[(j+gap):(j+kmer_length)]\n",
    "            kmers.append((kmer_str + str(j+1), row[1])) # add k-mer and corresponding score\n",
    "    \n",
    "    # Normalize drp scores to emphasize differences\n",
    "    kmers = np.asarray(kmers) # Convert kmers to np array from a list\n",
    "    x = np.asarray(list(map(float, kmers[:, 1])))\n",
    "    normalized = (x-min(x))/(max(x)-min(x))\n",
    "    kmers[:,1] = normalized\n",
    "    \n",
    "    # Convert list of kmers into 1 string\n",
    "    kmer_str = \" \".join(kmers[:, 0])\n",
    "    kmer_list = list(kmers[:, 0])\n",
    "    \n",
    "    unique_kmers = [] \n",
    "  \n",
    "    # Determine all unique kmers\n",
    "    for i in kmer_list: \n",
    "        # checking for duplicacy \n",
    "        if i not in unique_kmers: \n",
    "            # insert value in str2 \n",
    "            unique_kmers.append(i)  \n",
    "    \n",
    "    for i in range(0, len(unique_kmers)): \n",
    "        # count the frequency of each unique kmer and print \n",
    "        #print('Frequency of', unique_kmers[i], 'is :', kmer_list.count(unique_kmers[i]))\n",
    "        kmer_dict.update({unique_kmers[i] : kmer_list.count(unique_kmers[i])})\n",
    "    \n",
    "    # Returns dictionary of [kmer sequence] -> [frequency]\n",
    "    return kmer_dict"
   ]
  },
  {
   "cell_type": "markdown",
   "metadata": {},
   "source": [
    "### 3. K-mer probability calculation to statistically determine significant motifs"
   ]
  },
  {
   "cell_type": "code",
   "execution_count": 498,
   "metadata": {
    "collapsed": true
   },
   "outputs": [],
   "source": [
    "seq_cutoff = 1860\n",
    "kmer_length = 3\n",
    "t = 6\n",
    "\n",
    "# kmer_dict = kmer_freq_with_gap(cutoff = num_seq, gap=2, kmer_length = kmer_length, terminal = t) # not excluding any sequences\n",
    "# kmer_dict_top = kmer_freq_with_gap(cutoff = seq_cutoff, gap=2, kmer_length = kmer_length, terminal = t)\n",
    "kmer_dict = kmer_freq(cutoff = num_seq, kmer_length = kmer_length, terminal = t) # not excluding any sequences\n",
    "kmer_dict_top = kmer_freq(cutoff = seq_cutoff, kmer_length = kmer_length, terminal = t)\n",
    "\n",
    "# Create motif information dictionary:\n",
    "# Key: kmer\n",
    "# Values (kmer-specific):\n",
    "# -- 1) total count (frequency of kmer among all sequences)\n",
    "# -- 2) baseline probability, \n",
    "# -- 3) top count (frequency of kmer among \"top\" sequences as determined by seq_cutoff, \n",
    "# -- 4) p-value\n",
    "\n",
    "kmer_info = {}\n",
    "\n",
    "for kmer in kmer_dict_top:\n",
    "    total_count = kmer_dict[kmer]\n",
    "    baseline_prob = total_count / num_seq\n",
    "    top_count = kmer_dict_top[kmer] # Frequency kmer among top sequences \n",
    "    p_value = stats.binom.sf(top_count - 1, seq_cutoff, baseline_prob) # Subtract 1 because of inclusitivity\n",
    "    kmer_info.update({kmer : [total_count, baseline_prob, top_count, p_value]})              \n",
    "                      "
   ]
  },
  {
   "cell_type": "code",
   "execution_count": 18,
   "metadata": {
    "collapsed": true
   },
   "outputs": [],
   "source": [
    "#graph_binom('EED18', kmer_info = kmer_info)"
   ]
  },
  {
   "cell_type": "markdown",
   "metadata": {},
   "source": [
    "Benjamini Hochberg p-value adjustment"
   ]
  },
  {
   "cell_type": "code",
   "execution_count": 499,
   "metadata": {
    "collapsed": true
   },
   "outputs": [],
   "source": [
    "# Compile list of all p-values\n",
    "p_values = []\n",
    "for i in kmer_info:\n",
    "    p_values.append(str(kmer_info[i][3]))\n",
    "    \n",
    "# Convert list of p-values to csv for R processing\n",
    "pd.DataFrame(p_values).transpose().to_csv('p_values.csv', header=False, index=False)"
   ]
  },
  {
   "cell_type": "code",
   "execution_count": 398,
   "metadata": {
    "collapsed": true
   },
   "outputs": [],
   "source": [
    "#%run bh.ipynb"
   ]
  },
  {
   "cell_type": "code",
   "execution_count": 20,
   "metadata": {
    "collapsed": true
   },
   "outputs": [],
   "source": [
    "# AT THIS TIME: RUN bh.ipynb FILE"
   ]
  },
  {
   "cell_type": "code",
   "execution_count": 500,
   "metadata": {
    "collapsed": true
   },
   "outputs": [],
   "source": [
    "# Read in bh values from file\n",
    "bh_p_values = pd.read_csv('bh_p_values.csv', header=None)[0]\n",
    "\n",
    "# Add bh pvalues to kmer info table\n",
    "counter = 0\n",
    "for i in kmer_info:\n",
    "    kmer_info[i].append(bh_p_values[counter])\n",
    "    counter=counter+1"
   ]
  },
  {
   "cell_type": "markdown",
   "metadata": {},
   "source": [
    "Determining top significant motifs"
   ]
  },
  {
   "cell_type": "code",
   "execution_count": 501,
   "metadata": {
    "collapsed": true
   },
   "outputs": [],
   "source": [
    "kmer_info_sorted = sorted(kmer_info.items(), key=lambda item: item[1][4])\n",
    "\n",
    "i = 0\n",
    "# Use BH p-values to determine significant motifs\n",
    "while (kmer_info_sorted[i][1][4] <= 0.05):\n",
    "    i=i+1\n",
    "motif_cutoff = i\n",
    "#length_significance.append(motif_cutoff) # for analysis on kmer length vs. # sig. motifs\n",
    "    \n",
    "top_motifs = kmer_info_sorted[0:motif_cutoff]\n",
    "top_sequences = degron_seq_scores[0:seq_cutoff]\n",
    "\n",
    "for i in range(motif_cutoff):\n",
    "    top_motifs[i] = [top_motifs[i][0]]+top_motifs[i][1]\n",
    "    \n",
    "top_motifs = pd.DataFrame(top_motifs, columns = ['Motif', 'total count', 'baseline probability', \n",
    "                                    'top count', 'p-value', 'BH p-value'])\n",
    "\n",
    "filename = 'motif_info/'+str(kmer_length)+'mers.csv'\n",
    "pd.DataFrame(kmer_info_sorted).to_csv(filename, header=False, index=False)\n",
    "filename = 'motif_info/'+str(kmer_length)+'mers_top.csv'\n",
    "pd.DataFrame(top_motifs).to_csv(filename, header=False, index=False)"
   ]
  },
  {
   "cell_type": "code",
   "execution_count": 327,
   "metadata": {
    "collapsed": true
   },
   "outputs": [],
   "source": [
    "# Plot Number of significant motifs vs. Motif length\n",
    "# length_significance = pd.DataFrame([[2, 94], [3, 5], [4, 2], [5, 0], [6, 0]], \n",
    "#                                    columns = ['Motif Length', 'Number of Significant Motifs'])\n",
    "\n",
    "# ax = sns.swarmplot(data = length_significance, x ='Motif Length', y = 'Number of Significant Motifs' )\n",
    "# plt.title('Number of Significant Motifs vs. Motif Length')\n",
    "# #plt.show()\n",
    "\n",
    "# plt.savefig(wd+'figures/motifs/length_vs_significance',dpi=300)"
   ]
  },
  {
   "cell_type": "markdown",
   "metadata": {},
   "source": [
    "### 3. Sequence logo visualization"
   ]
  },
  {
   "cell_type": "code",
   "execution_count": 502,
   "metadata": {
    "collapsed": true
   },
   "outputs": [],
   "source": [
    "# Identification of all sequences that contain motifs\n",
    "sequences = []\n",
    "for identifier in list(top_motifs[\"Motif\"]):\n",
    "    motif = identifier[0:kmer_length]\n",
    "    index = seq_length + int(identifier[kmer_length+1:-1])\n",
    "    contains_motif = []\n",
    "    for i in range(seq_cutoff):\n",
    "        if degron_seq_scores[i][0].find(motif) == index:\n",
    "            contains_motif.append(degron_seq_scores[i][0])\n",
    "    sequences.append(contains_motif)"
   ]
  },
  {
   "cell_type": "code",
   "execution_count": 503,
   "metadata": {},
   "outputs": [
    {
     "name": "stdout",
     "output_type": "stream",
     "text": [
      "TQVAAS\n",
      "MAEAAS\n",
      "RHSAAS\n",
      "GSVAAS\n",
      "QETAAS\n",
      "TAIAAS\n",
      "EISAAS\n",
      "PFSAAS\n",
      "ELVAAS\n",
      "QPHAAS\n"
     ]
    }
   ],
   "source": [
    "for i in sequences[4]:\n",
    "    print(i[-6:])"
   ]
  },
  {
   "cell_type": "markdown",
   "metadata": {},
   "source": [
    "## 4. In-silico mutagenesis of motifs"
   ]
  },
  {
   "cell_type": "code",
   "execution_count": 504,
   "metadata": {
    "collapsed": true
   },
   "outputs": [],
   "source": [
    "# MUTATION FUNCTIONS\n",
    "\n",
    "# input_seq is a list of sequences to be inputted into deepDegron\n",
    "# Returns the respective DRP values for each of the sequences\n",
    "def get_drp(input_seq):\n",
    "    input_seq = pd.Series(input_seq)\n",
    "\n",
    "    # Use compute_feature_matrix function to encode sequences\n",
    "    features = compute_feature_matrix(input_seq, 6, True)\n",
    "    condensed_features = features[:, 0:20] \n",
    "    # Remove zeros at the end for bag of words prediction\n",
    "\n",
    "    # Use pre-trained model to predict sequence degredataion\n",
    "    pred_bow = model_bag_of_words.predict_proba(condensed_features) \n",
    "    pred_ps = model_pos_specific.predict_proba(features)\n",
    "    drp = pred_ps-pred_bow\n",
    "    return drp\n",
    "\n",
    "# Heatmap visualization\n",
    "def plot_weights(weights, plot_title, motif):\n",
    "    fig, ax = plt.subplots(figsize=(10, 10))\n",
    "    im = ax.imshow(weights, cmap='viridis')\n",
    "    k = len(motif)\n",
    "\n",
    "    # Set tick labels\n",
    "    residues = list(motif)\n",
    "    ax.set_xticks(np.arange(k))\n",
    "    ax.set_yticks(np.arange(len(aminoacids)))\n",
    "    ax.set_xticklabels(residues)\n",
    "    ax.set_yticklabels(aminoacids);\n",
    "\n",
    "    # Rotate the tick labels and set their alignment.\n",
    "    # plt.setp(ax.get_xticklabels(), rotation=45, ha=\"right\", rotation_mode=\"anchor\")\n",
    "    cbar = plt.colorbar(im)\n",
    "\n",
    "    # Turn spines off and create white grid\n",
    "    for edge, spine in ax.spines.items():\n",
    "        spine.set_visible(False)\n",
    "    ax.set_xticks(np.arange(weights.shape[1]+1)-.5, minor=True)\n",
    "    ax.set_yticks(np.arange(weights.shape[0]+1)-.5, minor=True)\n",
    "    ax.grid(which=\"minor\", color=\"w\", linestyle='-', linewidth=3)\n",
    "    ax.tick_params(which=\"minor\", bottom=False, left=False)\n",
    "\n",
    "    # for tick in ax.xaxis.get_major_ticks():\n",
    "    #     tick.label.set_fontsize(14) \n",
    "    # for tick in ax.yaxis.get_major_ticks():\n",
    "    #     tick.label.set_fontsize(14) \n",
    "\n",
    "    # set size of tick labels\n",
    "    plt.tick_params(axis='both', which='major', labelsize=18)\n",
    "    cbar.ax.tick_params(labelsize=18) \n",
    "    \n",
    "    # set title\n",
    "    plt.title(plot_title, fontsize=20)\n",
    "    \n",
    "    from matplotlib import rcParams\n",
    "    rcParams['axes.titlepad'] = 20 \n",
    "\n",
    "#     plt.show()\n",
    "    plt.savefig(wd+'figures/motifs/'+motif,dpi=300)\n",
    "    plt.close()\n",
    "    \n",
    "# Given a sequence and the starting mutation index, this function returns an array\n",
    "# that contains the DRP differences\n",
    "# The array size is 20 x K, where K is the length of the motif.\n",
    "def mutate(sequence, index):\n",
    "    # Mutate sequences and calculate new DRP values\n",
    "    mutated_drp = []\n",
    "    for i in range(kmer_length):\n",
    "        position = index + i\n",
    "        mutated_seq = []\n",
    "        for letter in aminoacids:\n",
    "            mutated_seq.append(sequence[:position] + letter + sequence[(position+1):])\n",
    "        mutated_drp.append(get_drp(mutated_seq)[:, 0])\n",
    "\n",
    "    # Calculate DRP differences after mutating\n",
    "    original_drp = get_drp(sequence)\n",
    "    mutated_drp = mutated_drp - np.full((len(mutated_drp), len(aminoacids)), original_drp)\n",
    "    return mutated_drp\n",
    "\n",
    "# index1 and index2 are the two positions to mutate\n",
    "# index1 < index2\n",
    "def mutate_double(sequence, index1, index2):\n",
    "    # Mutate sequences and calculate new DRP values\n",
    "    mutated_drp = []\n",
    "    for letter1 in aminoacids:\n",
    "        mutated_seq = []\n",
    "        for letter2 in aminoacids:\n",
    "            newseq = sequence[:index1] + letter1 + sequence[(index1+1):index2] + letter2 + sequence[(index2+1):]\n",
    "            mutated_seq.append(newseq)\n",
    "        mutated_drp.append(get_drp(mutated_seq)[:, 0])\n",
    "\n",
    "    # Calculate DRP differences after mutating\n",
    "    original_drp = get_drp(sequence)\n",
    "    mutated_drp = mutated_drp - np.full((len(mutated_drp), len(aminoacids)), original_drp)\n",
    "    return mutated_drp\n",
    "\n",
    "# index1, index2, index3 are the 3 positions to mutate\n",
    "# index1 < index2 < index3\n",
    "def mutate_triple(sequence, index1, index2, index3):\n",
    "    # Mutate sequences and calculate new DRP values\n",
    "    mutated_drp1 = []\n",
    "    for letter1 in aminoacids:\n",
    "        mutated_drp2 = []\n",
    "        for letter2 in aminoacids:\n",
    "            mutated_seq = []\n",
    "            for letter3 in aminoacids:\n",
    "                newseq = sequence[:index1] + letter1 + sequence[(index1+1):index2] + letter2 + sequence[(index2+1):index3] + letter3 + sequence[(index3+1):]     \n",
    "                mutated_seq.append(newseq)\n",
    "            mutated_drp2.append(get_drp(mutated_seq)[:, 0])\n",
    "        mutated_drp1.append[mutated_drp2]\n",
    "\n",
    "    # Calculate DRP differences after mutating\n",
    "    original_drp = get_drp(sequence)\n",
    "    mutated_drp = mutated_drp - np.full((len(aminoacids), len(aminoacids), len(aminoacids)), original_drp)\n",
    "    return mutated_drp\n",
    "\n",
    "# Create amino acid alphabet\n",
    "aa_list='ACDEFGHIKLMNPQRSTVWY'\n",
    "aminoacids = []\n",
    "for i in range(20):\n",
    "    aminoacids.append(str(aa_list[i]))\n",
    "    \n",
    "def plot_weights_double(weights, plot_title, sequence, index1, index2):\n",
    "    fig, ax = plt.subplots(figsize=(10, 10))\n",
    "    im = ax.imshow(weights, cmap='viridis')\n",
    "    k = len(motif)\n",
    "\n",
    "    # Set tick labels and axis labels\n",
    "    ax.set_xticks(np.arange(len(aminoacids)))\n",
    "    ax.set_yticks(np.arange(len(aminoacids)))\n",
    "    ax.set_xticklabels(aminoacids)\n",
    "    ax.set_yticklabels(aminoacids);\n",
    "    ax.set_xlabel('Alternate AA (' + sequence[index1] + ' Position ' +str(index1) + ')')\n",
    "    ax.set_ylabel('Alternate AA (' + sequence[index2] + ' Position ' +str(index2) + ')')\n",
    "\n",
    "    # plt.setp(ax.get_xticklabels(), rotation=45, ha=\"right\", rotation_mode=\"anchor\")\n",
    "    cbar = plt.colorbar(im) \n",
    "    \n",
    "    # Turn spines off and create white grid\n",
    "    for edge, spine in ax.spines.items():\n",
    "        spine.set_visible(False)\n",
    "    ax.set_xticks(np.arange(weights.shape[1]+1)-.5, minor=True)\n",
    "    ax.set_yticks(np.arange(weights.shape[0]+1)-.5, minor=True)\n",
    "    ax.grid(which=\"minor\", color=\"w\", linestyle='-', linewidth=3)\n",
    "    ax.tick_params(which=\"minor\", bottom=False, left=False)\n",
    "\n",
    "    # set size of tick labels\n",
    "    plt.tick_params(axis='both', which='major', labelsize=18)\n",
    "    cbar.ax.tick_params(labelsize=18) \n",
    "    \n",
    "    # set title\n",
    "    plt.title(plot_title, fontsize=20)\n",
    "    \n",
    "    from matplotlib import rcParams\n",
    "    rcParams['axes.titlepad'] = 20 \n",
    "\n",
    "#     plt.show()\n",
    "    plt.savefig(wd+'figures/motifs/'+motif+'_double',dpi=300)\n",
    "    plt.close()"
   ]
  },
  {
   "cell_type": "markdown",
   "metadata": {},
   "source": [
    "Analysis on a single top sequence"
   ]
  },
  {
   "cell_type": "code",
   "execution_count": 505,
   "metadata": {
    "collapsed": true
   },
   "outputs": [],
   "source": [
    "#Determine motif and position index from the combined info\n",
    "motif = top_motifs['Motif'][0][0:kmer_length]\n",
    "index = seq_length + int(identifier[kmer_length+1:-1])\n",
    "\n",
    "# Automated identification of sequences with highest DRP that contains the motif\n",
    "for i in range(len(degron_seq_scores)):\n",
    "    if degron_seq_scores[i][0].find(motif) == index:\n",
    "        sequence = degron_seq_scores[i][0]\n",
    "        break"
   ]
  },
  {
   "cell_type": "code",
   "execution_count": 506,
   "metadata": {
    "collapsed": true
   },
   "outputs": [],
   "source": [
    "# Compute mutated DRP matrix\n",
    "mutated_drp = mutate(sequence = sequence, index = index)\n",
    "\n",
    "# Plot DRP differences using a heatmap and save the figure\n",
    "plot_weights(weights = np.transpose(np.asarray(mutated_drp)),\n",
    "             plot_title = motif+str(index+1), motif = motif)"
   ]
  },
  {
   "cell_type": "code",
   "execution_count": 511,
   "metadata": {},
   "outputs": [
    {
     "data": {
      "text/plain": [
       "array([[-1.01492226e-01, -4.20325398e-02, -2.37139642e-01,\n",
       "        -2.27393806e-01, -6.55937195e-03, -1.34010613e-01,\n",
       "        -1.60090744e-01, -1.21074319e-02, -2.29377329e-01,\n",
       "        -1.19209290e-07, -3.72667909e-02, -1.85839891e-01,\n",
       "        -1.64505303e-01, -1.57550275e-01, -1.28887296e-02,\n",
       "        -1.67788565e-01, -1.18678212e-01, -2.93858051e-02,\n",
       "        -6.04622960e-02, -1.24631524e-02],\n",
       "       [ 5.53027987e-02,  4.90728021e-02, -6.88552260e-02,\n",
       "         3.83324623e-02,  5.12802601e-02,  5.13934493e-02,\n",
       "         5.14231324e-02,  4.88409400e-02, -1.30158663e-01,\n",
       "         4.89317775e-02,  5.04804254e-02, -3.29560637e-02,\n",
       "         2.58184075e-02,  5.36226630e-02, -1.19209290e-07,\n",
       "         4.57775593e-02,  5.13325930e-02,  5.24223447e-02,\n",
       "         5.65155149e-02,  5.09405732e-02],\n",
       "       [ 5.45349121e-02,  5.20471334e-02,  5.26599288e-02,\n",
       "         4.54704762e-02,  4.55967188e-02,  4.67475057e-02,\n",
       "         4.75431681e-02,  5.50214648e-02, -1.32086575e-01,\n",
       "         5.02011180e-02,  5.13066649e-02,  4.35661077e-02,\n",
       "         2.76698470e-02,  3.07853818e-02, -1.19209290e-07,\n",
       "         4.10675406e-02,  4.71358895e-02,  4.97582555e-02,\n",
       "         5.09453416e-02,  4.52539921e-02]], dtype=float32)"
      ]
     },
     "execution_count": 511,
     "metadata": {},
     "output_type": "execute_result"
    }
   ],
   "source": [
    "mutated_drp"
   ]
  },
  {
   "cell_type": "code",
   "execution_count": 516,
   "metadata": {},
   "outputs": [
    {
     "ename": "IndexError",
     "evalue": "string index out of range",
     "output_type": "error",
     "traceback": [
      "\u001b[0;31m---------------------------------------------------------------------------\u001b[0m",
      "\u001b[0;31mIndexError\u001b[0m                                Traceback (most recent call last)",
      "\u001b[0;32m<ipython-input-516-e167b3bd7f09>\u001b[0m in \u001b[0;36m<module>\u001b[0;34m()\u001b[0m\n\u001b[0;32m----> 1\u001b[0;31m \u001b[0;34m[\u001b[0m\u001b[0mmotif\u001b[0m\u001b[0;34m[\u001b[0m\u001b[0mi\u001b[0m\u001b[0;34m]\u001b[0m\u001b[0;34m+\u001b[0m\u001b[0mstr\u001b[0m\u001b[0;34m(\u001b[0m\u001b[0mi\u001b[0m\u001b[0;34m+\u001b[0m\u001b[0;36m1\u001b[0m\u001b[0;34m)\u001b[0m\u001b[0;34m,\u001b[0m \u001b[0mnp\u001b[0m\u001b[0;34m.\u001b[0m\u001b[0mmedian\u001b[0m\u001b[0;34m(\u001b[0m\u001b[0mmutated_drp\u001b[0m\u001b[0;34m[\u001b[0m\u001b[0mi\u001b[0m\u001b[0;34m]\u001b[0m\u001b[0;34m)\u001b[0m\u001b[0;34m]\u001b[0m\u001b[0;34m\u001b[0m\u001b[0;34m\u001b[0m\u001b[0m\n\u001b[0m",
      "\u001b[0;31mIndexError\u001b[0m: string index out of range"
     ]
    }
   ],
   "source": [
    "[motif[i]+str(i+1), np.median(mutated_drp[i])]"
   ]
  },
  {
   "cell_type": "markdown",
   "metadata": {},
   "source": [
    "Analysis on multiple sequences that contain the motif"
   ]
  },
  {
   "cell_type": "code",
   "execution_count": 530,
   "metadata": {},
   "outputs": [
    {
     "data": {
      "text/plain": [
       "'ANPQDRPDAFELETRMDQVTCAA'"
      ]
     },
     "execution_count": 530,
     "metadata": {},
     "output_type": "execute_result"
    }
   ],
   "source": [
    "degron_seq_scores[10][0]"
   ]
  },
  {
   "cell_type": "code",
   "execution_count": 531,
   "metadata": {},
   "outputs": [],
   "source": [
    "# Identification of all sequences that satisfy the cutoff and contain the specified motif\n",
    "sequences = []\n",
    "for i in range(seq_cutoff):\n",
    "    if degron_seq_scores[i][0].find(motif) == index:\n",
    "        sequences.append(degron_seq_scores[i][0])\n",
    "        \n",
    "# drp_medians = []\n",
    "# for s in sequences:\n",
    "#     mutated_drp = mutate(sequence = s, index = index)\n",
    "#     for i in range(kmer_length):\n",
    "#         drp_medians.append([motif[i]+str(i+1), np.median(mutated_drp[i])])\n",
    "#         print([motif[i]+str(i+1), np.median(mutated_drp[i])])\n",
    "# drp_medians = pd.DataFrame(drp_medians, columns = ['residue', 'median DRP difference'])\n",
    "\n",
    "# sns.set(style=\"ticks\")\n",
    "\n",
    "# # Initialize the figure\n",
    "# f, ax = plt.subplots(figsize=(6, 4))\n",
    "\n",
    "# # Create boxplots\n",
    "# sns.boxplot(x=\"median DRP difference\", y=\"residue\", data=drp_medians,\n",
    "#             palette=\"vlag\", fliersize=0)\n",
    "\n",
    "# # Add in points to show each observation\n",
    "#  sns.swarmplot(x=\"median DRP difference\", y=\"residue\", data=drp_medians)\n",
    "\n",
    "# # Tweak the visual presentation\n",
    "# ax.xaxis.grid(True)\n",
    "# ax.set(ylabel=\"\")\n",
    "# sns.despine(trim=True, left=True)\n",
    "# plt.title('DRP Difference over Residues')\n",
    "# plt.savefig(wd+'figures/motifs/boxplot_'+motif,dpi=300)\n",
    "# plt.show()\n",
    "# plt.close()"
   ]
  },
  {
   "cell_type": "code",
   "execution_count": null,
   "metadata": {
    "collapsed": true
   },
   "outputs": [],
   "source": []
  },
  {
   "cell_type": "markdown",
   "metadata": {},
   "source": [
    "Mutating two positions at a time"
   ]
  },
  {
   "cell_type": "code",
   "execution_count": null,
   "metadata": {
    "collapsed": true
   },
   "outputs": [],
   "source": []
  },
  {
   "cell_type": "code",
   "execution_count": 495,
   "metadata": {
    "collapsed": true
   },
   "outputs": [],
   "source": [
    "mut_index1 = index\n",
    "mut_index2 = index + 1\n",
    "mutated_drp = mutate_double(sequence = sequence, index1 = mut_index1, index2 = mut_index2)\n",
    "\n",
    "# Plot DRP differences using a heatmap and save the figure\n",
    "plot_weights_double(weights = np.transpose(np.asarray(mutated_drp)),\n",
    "    plot_title = 'Motif = ' + motif + ', Mutations at Positions '+ str(mut_index1) + ' and ' + str(mut_index2), \n",
    "                    sequence = sequence, index1 = mut_index1, index2 = mut_index2)"
   ]
  },
  {
   "cell_type": "markdown",
   "metadata": {},
   "source": [
    "Mutating three positions at a time"
   ]
  },
  {
   "cell_type": "code",
   "execution_count": 495,
   "metadata": {
    "collapsed": true
   },
   "outputs": [],
   "source": [
    "mut_index1 = index\n",
    "mut_index2 = index + 1\n",
    "mut_index3 = index + 2\n",
    "mutated_drp = mutate_double(sequence = sequence, index1 = mut_index1, index2 = mut_index2)\n",
    "\n",
    "# Plot DRP differences using a heatmap and save the figure\n",
    "plot_weights_double(weights = np.transpose(np.asarray(mutated_drp)),\n",
    "    plot_title = 'Motif = ' + motif + ', Mutations at Positions '+ str(mut_index1) + ' and ' + str(mut_index2), \n",
    "                    sequence = sequence, index1 = mut_index1, index2 = mut_index2)"
   ]
  },
  {
   "cell_type": "markdown",
   "metadata": {},
   "source": [
    "Weighting"
   ]
  },
  {
   "cell_type": "code",
   "execution_count": null,
   "metadata": {
    "collapsed": true
   },
   "outputs": [],
   "source": []
  },
  {
   "cell_type": "markdown",
   "metadata": {},
   "source": [
    "PPM1D gene analysis"
   ]
  },
  {
   "cell_type": "code",
   "execution_count": 343,
   "metadata": {
    "collapsed": true
   },
   "outputs": [],
   "source": [
    "# PPM1D gene analysis\n",
    "kmer_length = t\n",
    "motif = 'KTVCVC'\n",
    "index = 17\n",
    "sequence = 'RLRGQKKIGNPLLHQHRKTVCVC'\n",
    "\n",
    "mutated_drp = mutate(sequence = sequence, index = index)\n",
    "\n",
    "weights = np.transpose(np.asarray(mutated_drp))\n",
    "plot_title = 'PPM1D gene'\n",
    "\n",
    "fig, ax = plt.subplots(figsize=(10, 10))\n",
    "im = ax.imshow(weights, cmap='viridis')\n",
    "k = len(motif)\n",
    "\n",
    "# Set tick labels\n",
    "residues = list(motif)\n",
    "ax.set_xticks(np.arange(k))\n",
    "ax.set_yticks(np.arange(len(aminoacids)))\n",
    "ax.set_xticklabels(residues)\n",
    "ax.set_yticklabels(aminoacids);\n",
    "\n",
    "# Rotate the tick labels and set their alignment.\n",
    "# plt.setp(ax.get_xticklabels(), rotation=45, ha=\"right\", rotation_mode=\"anchor\")\n",
    "cbar = plt.colorbar(im)\n",
    "im.set_clim(-0.06, 0) # revise colorbar range\n",
    "\n",
    "# Turn spines off and create white grid\n",
    "for edge, spine in ax.spines.items():\n",
    "    spine.set_visible(False)\n",
    "ax.set_xticks(np.arange(weights.shape[1]+1)-.5, minor=True)\n",
    "ax.set_yticks(np.arange(weights.shape[0]+1)-.5, minor=True)\n",
    "ax.grid(which=\"minor\", color=\"w\", linestyle='-', linewidth=3)\n",
    "ax.tick_params(which=\"minor\", bottom=False, left=False)\n",
    "\n",
    "# set size of tick labels\n",
    "plt.tick_params(axis='both', which='major', labelsize=18)\n",
    "cbar.ax.tick_params(labelsize=18) \n",
    "\n",
    "# set title\n",
    "plt.title(plot_title, fontsize=20)\n",
    "\n",
    "from matplotlib import rcParams\n",
    "rcParams['axes.titlepad'] = 20 \n",
    "\n",
    "plt.savefig(wd+'figures/motifs/'+'PPM1D',dpi=300)\n",
    "plt.close()"
   ]
  },
  {
   "cell_type": "markdown",
   "metadata": {},
   "source": [
    "Position analysis"
   ]
  },
  {
   "cell_type": "code",
   "execution_count": null,
   "metadata": {
    "collapsed": true
   },
   "outputs": [],
   "source": [
    "positions = []\n",
    "for row in top_motifs:\n",
    "    kmer = row[0]\n",
    "    #positions = {}\n",
    "    positions_one_kmer = []\n",
    "    for seq in top_sequences:\n",
    "        location = seq[0].find(kmer)\n",
    "        if location > -1:  # if kmer exists in sequence\n",
    "            #positions.update({location : positions[location]+1})\n",
    "            positions_one_kmer.append(location)\n",
    "    positions.append(positions_one_kmer)"
   ]
  },
  {
   "cell_type": "code",
   "execution_count": null,
   "metadata": {
    "collapsed": true
   },
   "outputs": [],
   "source": [
    "positions[0]"
   ]
  },
  {
   "cell_type": "code",
   "execution_count": null,
   "metadata": {
    "collapsed": true
   },
   "outputs": [],
   "source": [
    "plt.close()\n",
    "sns.distplot(positions[0])\n",
    "plt.title(\"Position Frequency, Motif = CGC\")\n",
    "plt.savefig(wd+'figures/motifs/CGC',dpi=300)"
   ]
  },
  {
   "cell_type": "code",
   "execution_count": null,
   "metadata": {
    "collapsed": true
   },
   "outputs": [],
   "source": [
    "positions[0]"
   ]
  },
  {
   "cell_type": "code",
   "execution_count": null,
   "metadata": {
    "collapsed": true
   },
   "outputs": [],
   "source": [
    "top_motifs"
   ]
  },
  {
   "cell_type": "code",
   "execution_count": null,
   "metadata": {
    "collapsed": true
   },
   "outputs": [],
   "source": [
    "kmer_info_sorted[0][1][3]"
   ]
  },
  {
   "cell_type": "markdown",
   "metadata": {},
   "source": [
    "Old code"
   ]
  },
  {
   "cell_type": "code",
   "execution_count": null,
   "metadata": {
    "collapsed": true
   },
   "outputs": [],
   "source": [
    "# Calculate baseline frequency by averaging frequencies\n",
    "# How likely a kmer is to appear at random \n",
    "\n",
    "# freq_sum = 0\n",
    "# for i in kmer_dict:\n",
    "#     freq_sum += kmer_dict[i]\n",
    "# baseline = freq_sum / (num_seq * len(kmer_dict))\n",
    "\n",
    "# GENERAL / AVERAGE\n",
    "# Determine motif cutoff using Binomial expression and baseline\n",
    "\n",
    "# i = 0\n",
    "# while stats.binom.sf(i, seq_cutoff, baseline) > 0.05:\n",
    "#     i = i+1\n",
    "# motif_cutoff = i\n",
    "# binom_value = stats.binom.sf(i, seq_cutoff, baseline)\n",
    "\n",
    "# def binomcdf_orig():\n",
    "#     #p = baseline\n",
    "#     p = baseline_prob\n",
    "#     n = seq_cutoff\n",
    "#     x = 100\n",
    "#     result = []\n",
    "#     labels = []\n",
    "#     for a in range(20):\n",
    "#         labels.append(x)\n",
    "#         result.append(stats.binom.sf(x, n, p))\n",
    "#         x += 5\n",
    "#     return result, labels\n",
    "\n",
    "# # plt.hist(binomcdf())\n",
    "# # plt.show()\n",
    "# b, l = binomcdf()"
   ]
  },
  {
   "cell_type": "code",
   "execution_count": null,
   "metadata": {
    "collapsed": true
   },
   "outputs": [],
   "source": [
    "# # Calculates motif-specific p-value\n",
    "# # Lower p-value = higher enrichment of kmer among top sequences\n",
    "# def p_value(kmer):\n",
    "#     baseline_prob = kmer_dict[kmer] / num_seq\n",
    "    \n",
    "#     # Frequency kmer among top sequences\n",
    "#     top_freq = kmer_dict_top[kmer] \n",
    "    \n",
    "#     return stats.binom.sf(top_freq, seq_cutoff, baseline_prob)"
   ]
  },
  {
   "cell_type": "code",
   "execution_count": null,
   "metadata": {
    "collapsed": true
   },
   "outputs": [],
   "source": [
    "#     lines = [[(middle - 100, p_value), (top_count, p_value)], \n",
    "#              [(top_count, -0.05), (top_count, p_value)]]\n",
    "#     c = np.array([(1, 0, 0, 1), (0, 1, 0, 1), (0, 0, 1, 1)])\n",
    "\n",
    "#     lc = mc.LineCollection(lines, colors=c, linewidths=2)\n",
    "#     fig, ax = pl.subplots()\n",
    "#     ax.add_collection(lc)\n",
    "#     ax.autoscale()\n",
    "#     ax.margins(0.1)"
   ]
  },
  {
   "cell_type": "markdown",
   "metadata": {},
   "source": [
    "Seaborn stuff\n",
    "\n",
    "\n"
   ]
  },
  {
   "cell_type": "code",
   "execution_count": null,
   "metadata": {
    "collapsed": true
   },
   "outputs": [],
   "source": [
    "sns.set(style=\"ticks\")\n",
    "\n",
    "rs = np.random.RandomState(11)\n",
    "x = rs.gamma(2, size=1000)\n",
    "y = -.5 * x + rs.normal(size=1000)\n",
    "\n",
    "sns.jointplot(x, y, kind=\"hex\", color=\"#4CB391\")"
   ]
  },
  {
   "cell_type": "code",
   "execution_count": null,
   "metadata": {
    "collapsed": true
   },
   "outputs": [],
   "source": [
    "plt.show()"
   ]
  },
  {
   "cell_type": "code",
   "execution_count": null,
   "metadata": {
    "collapsed": true
   },
   "outputs": [],
   "source": [
    "# p_vals"
   ]
  },
  {
   "cell_type": "code",
   "execution_count": null,
   "metadata": {
    "collapsed": true
   },
   "outputs": [],
   "source": [
    "# Load the example flights dataset and conver to long-form\n",
    "flights_long = sns.load_dataset(\"flights\")\n",
    "flights = flights_long.pivot(\"month\", \"year\", \"passengers\")"
   ]
  },
  {
   "cell_type": "code",
   "execution_count": null,
   "metadata": {
    "collapsed": true,
    "scrolled": true
   },
   "outputs": [],
   "source": [
    "# Draw a heatmap with the numeric values in each cell\n",
    "f, ax = plt.subplots(figsize=(9, 6))\n",
    "sns.heatmap(flights, annot=True, fmt=\"d\", linewidths=.5, ax=ax)"
   ]
  },
  {
   "cell_type": "code",
   "execution_count": null,
   "metadata": {
    "collapsed": true,
    "scrolled": true
   },
   "outputs": [],
   "source": [
    "plt.show()"
   ]
  },
  {
   "cell_type": "markdown",
   "metadata": {},
   "source": [
    "Motif analysis with DRP score weighting"
   ]
  },
  {
   "cell_type": "code",
   "execution_count": null,
   "metadata": {
    "collapsed": true
   },
   "outputs": [],
   "source": [
    "# Function description: \n",
    "#\n",
    "# Cutoff -- number of sequences from the top + bottom to consider for motif analysis\n",
    "# Motif length -- length of kmer motifs to be considered\n",
    "\n",
    "def motif_with_weighting(cutoff = 50, motif_length = 2):\n",
    "    top = degron_seq_scores[0:cutoff]\n",
    "    bottom = degron_seq_scores[-cutoff:]\n",
    "    kmers = []\n",
    "    \n",
    "    for row in top:\n",
    "        sequence = row[0]\n",
    "        for j in range(seq_length - motif_length + 1):\n",
    "            kmers.append((sequence[j:(j+motif_length)], row[1])) # add k-mer and corresponding score\n",
    "    \n",
    "    # Normalize drp scores to emphasize differences\n",
    "    kmers = np.asarray(kmers) # Convert kmers to np array from a list\n",
    "    x = np.asarray(list(map(float, kmers[:, 1])))\n",
    "    normalized = (x-min(x))/(max(x)-min(x))\n",
    "    kmers[:,1] = normalized\n",
    "    \n",
    "    # Convert list of kmers into 1 string\n",
    "    kmer_str = \" \".join(kmers[:, 0])\n",
    "    kmer_list = list(kmers[:, 0])\n",
    "    \n",
    "    unique_kmers = [] \n",
    "  \n",
    "    # Determine all unique kmers\n",
    "    for i in kmer_list: \n",
    "        # checking for duplicacy \n",
    "        if i not in unique_kmers: \n",
    "            # insert value in str2 \n",
    "            unique_kmers.append(i)  \n",
    "    \n",
    "    for i in range(0, len(unique_kmers)): \n",
    "        # \n",
    "        np.asarrray\n",
    "        kmer_dict.update({unique_kmers[i] : kmer_list.count(unique_kmers[i])})"
   ]
  }
 ],
 "metadata": {
  "kernelspec": {
   "display_name": "Python 3",
   "language": "python",
   "name": "python3"
  },
  "language_info": {
   "codemirror_mode": {
    "name": "ipython",
    "version": 3
   },
   "file_extension": ".py",
   "mimetype": "text/x-python",
   "name": "python",
   "nbconvert_exporter": "python",
   "pygments_lexer": "ipython3",
   "version": "3.6.8"
  }
 },
 "nbformat": 4,
 "nbformat_minor": 2
}
