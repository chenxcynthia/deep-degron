{
 "cells": [
  {
   "cell_type": "code",
   "execution_count": 60,
   "metadata": {},
   "outputs": [],
   "source": [
    "wd <- \"/Users/cynthiachen/Downloads/Internship2019/degron_mutation/mutation/\"\n",
    "\n",
    "# Import p-values\n",
    "fname = paste(wd,\"p_values.csv\",sep=\"\")\n",
    "p <- read.csv(file=fname, header=FALSE)\n",
    "\n",
    "# p.adjust.methods\n",
    "# c(\"BH\")\n",
    "# # c(\"holm\", \"hochberg\", \"hommel\", \"bonferroni\", \"BH\", \"BY\",\n",
    "# #   \"fdr\", \"none\")\n",
    "\n",
    "# Calculate adjusted p-values using BH method\n",
    "p <- p.adjust(p, method = \"BH\")\n",
    "\n",
    "# Read p-values into new file\n",
    "fname = paste(wd,\"bh_p_values.csv\",sep=\"\")\n",
    "write.table(p, file = fname, row.names = FALSE, col.names = FALSE)"
   ]
  },
  {
   "cell_type": "code",
   "execution_count": null,
   "metadata": {
    "collapsed": true
   },
   "outputs": [],
   "source": []
  }
 ],
 "metadata": {
  "kernelspec": {
   "display_name": "R",
   "language": "R",
   "name": "ir"
  },
  "language_info": {
   "codemirror_mode": "r",
   "file_extension": ".r",
   "mimetype": "text/x-r-source",
   "name": "R",
   "pygments_lexer": "r",
   "version": "3.5.0"
  }
 },
 "nbformat": 4,
 "nbformat_minor": 2
}
