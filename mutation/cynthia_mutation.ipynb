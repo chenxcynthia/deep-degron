{
 "cells": [
  {
   "cell_type": "code",
   "execution_count": 367,
   "metadata": {
    "collapsed": true
   },
   "outputs": [],
   "source": [
    "import numpy as np\n",
    "import pandas as pd\n",
    "import matplotlib.pyplot as plt\n",
    "import pickle\n",
    "import seaborn as sns\n",
    "from scipy import stats\n",
    "import sys\n",
    "import sklearn\n",
    "from sklearn.preprocessing import normalize\n",
    "from sklearn.metrics import roc_curve, auc, roc_auc_score"
   ]
  },
  {
   "cell_type": "code",
   "execution_count": 74,
   "metadata": {
    "collapsed": true
   },
   "outputs": [],
   "source": [
    "sys.path.insert(0, '/Users/cynthiachen/Downloads/Internship2019/degron_mutation/deepDegron')\n",
    "from train_nn import *"
   ]
  },
  {
   "cell_type": "code",
   "execution_count": 401,
   "metadata": {
    "collapsed": true
   },
   "outputs": [],
   "source": [
    "wd = '/Users/cynthiachen/Downloads/Internship2019/degron_mutation/'"
   ]
  },
  {
   "cell_type": "code",
   "execution_count": 167,
   "metadata": {
    "collapsed": true
   },
   "outputs": [],
   "source": [
    "# Load pre-trained neural network models from pickle file\n",
    "model_bag_of_words = pickle.load(open( \"../models/neural_network_bag_of_words_v2.pickle\", \"rb\" ))\n",
    "model_pos_specific = pickle.load(open( \"../models/neural_network_pos_specific_v2.pickle\", \"rb\" ))\n",
    "\n",
    "# Create pd dataframe of sequence information \n",
    "degron_pred = pd.read_csv(\"../data/degron_pred.csv\", index_col=0)\n",
    "# Select column of input sequences\n",
    "input_seq = degron_pred.iloc[:, 10]"
   ]
  },
  {
   "cell_type": "code",
   "execution_count": 76,
   "metadata": {
    "collapsed": true
   },
   "outputs": [],
   "source": [
    "# Use compute_feature_matrix function to encode sequences\n",
    "features = compute_feature_matrix(input_seq, 6, True)\n",
    "condensed_features = features[:, 0:20] # Remove zeros at the end for bag of words prediction"
   ]
  },
  {
   "cell_type": "code",
   "execution_count": 77,
   "metadata": {
    "collapsed": true
   },
   "outputs": [],
   "source": [
    "# Use pre-trained model to predict sequence degredataion\n",
    "pred_bow_wt = model_bag_of_words.predict_proba(condensed_features) # wild-type bag of words prediction\n",
    "pred_ps_wt = model_pos_specific.predict_proba(features)            # wild-type position-specific prediction\n",
    "drp_wt = pred_ps_wt-pred_bow_wt                                    # wild-type degron regulatory potential"
   ]
  },
  {
   "cell_type": "code",
   "execution_count": 78,
   "metadata": {
    "collapsed": true
   },
   "outputs": [],
   "source": [
    "# def mutate(seq, index, newchar):\n",
    "#     char_list = list(seq)\n",
    "#     char_list[index] = newchar\n",
    "#     return \"\".join(char_list)"
   ]
  },
  {
   "cell_type": "code",
   "execution_count": 79,
   "metadata": {
    "collapsed": true
   },
   "outputs": [],
   "source": [
    "# Convert string to 2D list of characters\n",
    "\n",
    "seqlist = [] # 2D list of all sequences, with each character as 1 entry \n",
    "for sequence in input_seq:\n",
    "    seqlist.append(list(sequence))"
   ]
  },
  {
   "cell_type": "markdown",
   "metadata": {},
   "source": [
    "### Mutation 1: Shift mutation\n",
    "Shifts all the characters at a certin position down by 1 sequence, with the first sequence filled by the last sequence"
   ]
  },
  {
   "cell_type": "code",
   "execution_count": 80,
   "metadata": {
    "collapsed": true
   },
   "outputs": [],
   "source": [
    "seq_length = len(seqlist[0]) # 23\n",
    "num_seq = len(seqlist)       # number of total sequences\n",
    "shift = 1                    # distance to shift characters by\n",
    "\n",
    "# List that contains the delta DRP for each position when a shift mutation occurs at that position\n",
    "diff=[]\n",
    "\n",
    "# Loop to iterate through all sequence positions\n",
    "for p in range(seq_length):\n",
    "    first = seqlist[0][pos]\n",
    "    for i in range(num_seq-shift):\n",
    "        #for j in range(seq_length) - iterate through positions\n",
    "        seqlist[i][pos] = seqlist[i+shift][pos]\n",
    "    seqlist[num_seq-shift][pos]=first\n",
    "    \n",
    "    mutated_seqs = []\n",
    "    for i in range(num_seq):\n",
    "        mutated_seqs.append(\"\".join(seqlist[i])) \n",
    "        \n",
    "    # Use compute_feature_matrix function to encode sequences\n",
    "    features = compute_feature_matrix(pd.Series(mutated_seqs), 6, True)\n",
    "    condensed_features = features[:, 0:20] # Remove zeros at the end for bag of words prediction\n",
    "\n",
    "    # Use pre-trained model to predict sequence degredataion\n",
    "    # Use pre-trained model to predict sequence degredataion\n",
    "    pred_bow_mut = model_bag_of_words.predict_proba(condensed_features) # bag of words prediction\n",
    "    pred_ps_mut = model_pos_specific.predict_proba(features)            # position-specific prediction\n",
    "    drp_mut = pred_ps_mut-pred_bow_mut                                  # mutated degron regulatory potential\n",
    "    \n",
    "    # Calculate DRP difference in mutated and wild-type (normal) sequence and add this to a list\n",
    "    diff.append(drp_wt-drp_mut)"
   ]
  },
  {
   "cell_type": "code",
   "execution_count": 82,
   "metadata": {
    "collapsed": true
   },
   "outputs": [],
   "source": [
    "average_delta = []\n",
    "for i in diff:\n",
    "    average_delta.append(np.average(i))"
   ]
  },
  {
   "cell_type": "code",
   "execution_count": 84,
   "metadata": {},
   "outputs": [],
   "source": [
    "# # Plot histogram showing distribution of average DRP deltas\n",
    "\n",
    "# sns.set(color_codes=True)\n",
    "# x = np.random.normal(size=200)\n",
    "# sns.distplot(diff)\n",
    "# plt.show()\n",
    "\n",
    "# sns.set(color_codes=True)\n",
    "# x = np.random.normal(size=200)\n",
    "# sns.distplot(average_delta, bins = 8)\n",
    "# plt.show()"
   ]
  },
  {
   "cell_type": "markdown",
   "metadata": {
    "collapsed": true
   },
   "source": [
    "### Mutation 2: Random shuffle mutation (considering only Top & Bottom scores)\n",
    "Shifts all the characters at a certain position using random shuffling, and then considers only the select top and bottom sequences"
   ]
  },
  {
   "cell_type": "code",
   "execution_count": 243,
   "metadata": {},
   "outputs": [],
   "source": [
    "# Sort degron sequence information by regulatory potential in descending order (highest to lowest)\n",
    "degron_pred_sorted = degron_pred.sort_values(by=['regulatory potential'], ascending=False)"
   ]
  },
  {
   "cell_type": "code",
   "execution_count": 244,
   "metadata": {},
   "outputs": [],
   "source": [
    "# Select only the \"sequence\" and \"potential\" columns and format values into a list\n",
    "degron_seq_scores = degron_pred_sorted[['Peptide amino acid sequence','regulatory potential']].values.tolist()"
   ]
  },
  {
   "cell_type": "code",
   "execution_count": 211,
   "metadata": {
    "collapsed": true
   },
   "outputs": [],
   "source": []
  },
  {
   "cell_type": "markdown",
   "metadata": {},
   "source": [
    "### ROC curve calculation to statistically determine sequence cutoff"
   ]
  },
  {
   "cell_type": "code",
   "execution_count": null,
   "metadata": {
    "collapsed": true
   },
   "outputs": [],
   "source": [
    "# roc_auc_score"
   ]
  },
  {
   "cell_type": "code",
   "execution_count": 369,
   "metadata": {},
   "outputs": [],
   "source": [
    "# Determines true labels based on bins\n",
    "# Bins 1 & 2 -> 1 (high degradation)\n",
    "# Bins 3 & 4 -> 0 (low degradation)\n",
    "\n",
    "auc_info = np.asarray(degron_pred_sorted[['Modal Bin','sequence position specific', 'bag of words']])\n",
    "\n",
    "for i in range(num_seq):\n",
    "    mbin = auc_info[:, 0][i]\n",
    "    if mbin > 2:\n",
    "        auc_info[:, 0][i] = 0\n",
    "    else:\n",
    "        auc_info[:, 0][i] = 1"
   ]
  },
  {
   "cell_type": "code",
   "execution_count": 269,
   "metadata": {},
   "outputs": [],
   "source": [
    "# y_true = auc_info[:, 0]\n",
    "# y_score_ss = auc_info[:, 1] # Sequence-specific prediction scores\n",
    "# y_score_bow = auc_info[:, 2] # Bag of words prediction scores\n",
    "\n",
    "# fp_ss, tp_ss, _ = sklearn.metrics.roc_curve(y_true, y_score_ss)\n",
    "# auc_ss = roc_auc_score(fp_ss, tp_ss)\n",
    "# fp_bow, tp_bow, _ = sklearn.metrics.roc_curve(y_true, y_score_bow)\n",
    "# auc_bow = roc_auc_score(fp_bow, tp_bow)"
   ]
  },
  {
   "cell_type": "code",
   "execution_count": 279,
   "metadata": {},
   "outputs": [
    {
     "data": {
      "text/plain": [
       "array([ 0.6864157 ,  0.9275128 ,  0.8683737 , ...,  0.06270089,\n",
       "        0.07536349,  0.05815238])"
      ]
     },
     "execution_count": 279,
     "metadata": {},
     "output_type": "execute_result"
    }
   ],
   "source": [
    "# auc_info[50:, 1]"
   ]
  },
  {
   "cell_type": "code",
   "execution_count": 385,
   "metadata": {
    "collapsed": true
   },
   "outputs": [],
   "source": [
    "def delta_auc(cutoff):\n",
    "    y_true = auc_info[cutoff:, 0]\n",
    "    y_score_ss = auc_info[cutoff:, 1] # Sequence-specific prediction scores\n",
    "    y_score_bow = auc_info[cutoff:, 2] # Bag of words prediction scores\n",
    "\n",
    "    fp_ss, tp_ss, _ = sklearn.metrics.roc_curve(y_true, y_score_ss) # false-positive and true-positive\n",
    "    auc_ss = auc(fp_ss, tp_ss)\n",
    "    fp_bow, tp_bow, _ = sklearn.metrics.roc_curve(y_true, y_score_bow)\n",
    "    auc_bow = auc(fp_bow, tp_bow) \n",
    "    \n",
    "    return auc_ss - auc_bow\n",
    "\n",
    "def plot_auc(cutoff, fp_ss, tp_ss, auc_ss, fp_bow, tp_bow, auc_bow):\n",
    "    plt.figure()\n",
    "    lw = 2\n",
    "    plt.plot(fp_ss, tp_ss, color='darkorange',\n",
    "             lw=lw, label='Sequence-specific (area = %0.3f)' % auc_ss)\n",
    "    plt.plot(fp_bow, tp_bow, color='darkgreen',\n",
    "             lw=lw, label='Bag-of-words (area = %0.3f)' % auc_bow)\n",
    "    plt.plot([0, 1], [0, 1], color='navy', lw=lw, linestyle='--')\n",
    "    plt.xlim([0.0, 1.0])\n",
    "    plt.ylim([0.0, 1.05])\n",
    "    plt.xlabel('False Positive Rate')\n",
    "    plt.ylabel('True Positive Rate')\n",
    "    plt.title('Receiver operating characteristic, Cutoff = ' + str(cutoff))\n",
    "    plt.legend(loc=\"lower right\")\n",
    "    plt.show()"
   ]
  },
  {
   "cell_type": "code",
   "execution_count": 412,
   "metadata": {},
   "outputs": [],
   "source": [
    "# Determine delta AUC values for all cutoffs to determine the minimum AUC\n",
    "\n",
    "aucs = []\n",
    "num_cutoffs = 50\n",
    "increment = 100\n",
    "cutoffs = np.asarray(range(num_cutoffs)) * increment\n",
    "\n",
    "for c in cutoffs:\n",
    "    aucs.append(delta_auc(c))\n",
    "    \n",
    "#fig = plt.figure()\n",
    "sns.set_style(\"darkgrid\")\n",
    "plt.plot(cutoffs, aucs)\n",
    "plt.xlabel('Cutoff')\n",
    "plt.ylabel('Delta AUC')\n",
    "\n",
    "min_index = np.argmin(np.asarray([cutoffs, aucs])[1])\n",
    "min_cutoff = int(combined[0][min_index]) # cutoff for the minimum difference betweeen SS and BOW\n",
    "\n",
    "plt.plot(min_cutoff, combined[1][min_index], 'ro')\n",
    "# ax = fig.add_subplot(111)\n",
    "# an2 = ax.annotate(\"Minimum\", xy=(min_cutoff, combined[1][min_index]), \n",
    "#                   xycoords=an1,\n",
    "#                   xytext=(0.5,1.1), textcoords=(an1, \"axes fraction\"),\n",
    "#                   va=\"bottom\", ha=\"center\",\n",
    "#                   bbox=dict(boxstyle=\"round\", fc=\"w\"),\n",
    "#                   arrowprops=dict(arrowstyle=\"->\"))\n",
    "delta = u'Δ'\n",
    "plt.title(delta + ' AUC at Various Cutoffs')\n",
    "    \n",
    "plt.savefig(wd+'figures/delta_auc_over_cutoffs',dpi=300)"
   ]
  },
  {
   "cell_type": "code",
   "execution_count": 413,
   "metadata": {},
   "outputs": [
    {
     "data": {
      "image/png": "[encoded data removed]",
      "text/plain": [
       "<Figure size 432x288 with 1 Axes>"
      ]
     },
     "metadata": {},
     "output_type": "display_data"
    },
    {
     "data": {
      "image/png": "[encoded data removed]",
      "text/plain": [
       "<Figure size 432x288 with 1 Axes>"
      ]
     },
     "metadata": {},
     "output_type": "display_data"
    }
   ],
   "source": [
    "# Plot ROC curve for cutoff with minimum delta AUC\n",
    "\n",
    "y_true = auc_info[min_cutoff:, 0]\n",
    "y_score_ss = auc_info[min_cutoff:, 1] # Sequence-specific prediction scores\n",
    "y_score_bow = auc_info[min_cutoff:, 2] # Bag of words prediction scores\n",
    "\n",
    "fp_ss, tp_ss, _ = sklearn.metrics.roc_curve(y_true, y_score_ss)\n",
    "auc_ss = auc(fp_ss, tp_ss)\n",
    "fp_bow, tp_bow, _ = sklearn.metrics.roc_curve(y_true, y_score_bow)\n",
    "auc_bow = auc(fp_bow, tp_bow)\n",
    "\n",
    "plot_auc(min_cutoff, fp_ss, tp_ss, auc_ss, fp_bow, tp_bow, auc_bow)"
   ]
  },
  {
   "cell_type": "code",
   "execution_count": 414,
   "metadata": {
    "scrolled": true
   },
   "outputs": [
    {
     "data": {
      "image/png": "[encoded data removed]",
      "text/plain": [
       "<Figure size 432x288 with 1 Axes>"
      ]
     },
     "metadata": {},
     "output_type": "display_data"
    }
   ],
   "source": [
    "y_true = auc_info[:, 0]\n",
    "y_score_ss = auc_info[:, 1] # Sequence-specific prediction scores\n",
    "y_score_bow = auc_info[:, 2] # Bag of words prediction scores\n",
    "\n",
    "fp_ss, tp_ss, _ = sklearn.metrics.roc_curve(y_true, y_score_ss)\n",
    "auc_ss = auc(fp_ss, tp_ss)\n",
    "fp_bow, tp_bow, _ = sklearn.metrics.roc_curve(y_true, y_score_bow)\n",
    "auc_bow = auc(fp_bow, tp_bow)\n",
    "\n",
    "plot_auc(0, fp_ss, tp_ss, auc_ss, fp_bow, tp_bow, auc_bow)"
   ]
  },
  {
   "cell_type": "code",
   "execution_count": null,
   "metadata": {
    "collapsed": true
   },
   "outputs": [],
   "source": []
  },
  {
   "cell_type": "markdown",
   "metadata": {
    "collapsed": true
   },
   "source": [
    "### Motif Analysis\n",
    "Discover patterns that characterize sequences with high & low degron regulatory potential"
   ]
  },
  {
   "cell_type": "code",
   "execution_count": 93,
   "metadata": {
    "collapsed": true
   },
   "outputs": [],
   "source": [
    "# Sort degron sequence information by regulatory potential in descending order (highest to lowest)\n",
    "degron_pred_sorted = degron_pred.sort_values(by=['regulatory potential'], ascending=False\n",
    "                                             \n",
    "# Select only the \"sequence\" and \"potential\" columns and format values into a list\n",
    "degron_seq_scores = degron_pred_sorted[['Peptide amino acid sequence','regulatory potential']].values.tolist()"
   ]
  },
  {
   "cell_type": "code",
   "execution_count": 217,
   "metadata": {
    "collapsed": true
   },
   "outputs": [],
   "source": [
    "# Function description: \n",
    "#\n",
    "# Cutoff -- number of sequences from the top + bottom to consider for motif analysis\n",
    "# Motif length -- length of kmer motifs to be considered\n",
    "\n",
    "def motif(cutoff = 50, motif_length = 2):\n",
    "    top = degron_seq_scores[0:cutoff]\n",
    "    bottom = degron_seq_scores[-cutoff:]\n",
    "    kmers = []\n",
    "    kmer_dict = {}\n",
    "    \n",
    "    for row in top:\n",
    "        sequence = row[0]\n",
    "        for j in range(seq_length - motif_length + 1):\n",
    "            kmers.append((sequence[j:(j+motif_length)], row[1])) # add k-mer and corresponding score\n",
    "    \n",
    "    # Normalize drp scores to emphasize differences\n",
    "    kmers = np.asarray(kmers) # Convert kmers to np array from a list\n",
    "    x = np.asarray(list(map(float, kmers[:, 1])))\n",
    "    normalized = (x-min(x))/(max(x)-min(x))\n",
    "    kmers[:,1] = normalized\n",
    "    \n",
    "    # Convert list of kmers into 1 string\n",
    "    kmer_str = \" \".join(kmers[:, 0])\n",
    "    kmer_list = list(kmers[:, 0])\n",
    "    \n",
    "    unique_kmers = [] \n",
    "  \n",
    "    # Determine all unique kmers\n",
    "    for i in kmer_list: \n",
    "        # checking for duplicacy \n",
    "        if i not in unique_kmers: \n",
    "            # insert value in str2 \n",
    "            unique_kmers.append(i)  \n",
    "    \n",
    "    for i in range(0, len(unique_kmers)): \n",
    "        # count the frequency of each unique kmer and print \n",
    "        #print('Frequency of', unique_kmers[i], 'is :', kmer_list.count(unique_kmers[i]))\n",
    "        kmer_dict.update({unique_kmers[i] : kmer_list.count(unique_kmers[i])})\n",
    "    \n",
    "    # Returns dictionary of [kmer sequence] -> [frequency]\n",
    "    return kmer_dict"
   ]
  },
  {
   "cell_type": "code",
   "execution_count": null,
   "metadata": {
    "collapsed": true
   },
   "outputs": [],
   "source": [
    "d = motif()\n",
    "sorted(d.items(), key=lambda item: item[1])"
   ]
  },
  {
   "cell_type": "markdown",
   "metadata": {},
   "source": [
    "Motif analysis with DRP score weighting"
   ]
  },
  {
   "cell_type": "code",
   "execution_count": 204,
   "metadata": {
    "collapsed": true
   },
   "outputs": [],
   "source": [
    "# Function description: \n",
    "#\n",
    "# Cutoff -- number of sequences from the top + bottom to consider for motif analysis\n",
    "# Motif length -- length of kmer motifs to be considered\n",
    "\n",
    "def motif_with_weighting(cutoff = 50, motif_length = 2):\n",
    "    top = degron_seq_scores[0:cutoff]\n",
    "    bottom = degron_seq_scores[-cutoff:]\n",
    "    kmers = []\n",
    "    \n",
    "    for row in top:\n",
    "        sequence = row[0]\n",
    "        for j in range(seq_length - motif_length + 1):\n",
    "            kmers.append((sequence[j:(j+motif_length)], row[1])) # add k-mer and corresponding score\n",
    "    \n",
    "    # Normalize drp scores to emphasize differences\n",
    "    kmers = np.asarray(kmers) # Convert kmers to np array from a list\n",
    "    x = np.asarray(list(map(float, kmers[:, 1])))\n",
    "    normalized = (x-min(x))/(max(x)-min(x))\n",
    "    kmers[:,1] = normalized\n",
    "    \n",
    "    # Convert list of kmers into 1 string\n",
    "    kmer_str = \" \".join(kmers[:, 0])\n",
    "    kmer_list = list(kmers[:, 0])\n",
    "    \n",
    "    unique_kmers = [] \n",
    "  \n",
    "    # Determine all unique kmers\n",
    "    for i in kmer_list: \n",
    "        # checking for duplicacy \n",
    "        if i not in unique_kmers: \n",
    "            # insert value in str2 \n",
    "            unique_kmers.append(i)  \n",
    "    \n",
    "    for i in range(0, len(unique_kmers)): \n",
    "        # \n",
    "        np.asarrray\n",
    "        kmer_dict.update({unique_kmers[i] : kmer_list.count(unique_kmers[i])})"
   ]
  }
 ],
 "metadata": {
  "kernelspec": {
   "display_name": "Python 3",
   "language": "python",
   "name": "python3"
  },
  "language_info": {
   "codemirror_mode": {
    "name": "ipython",
    "version": 3
   },
   "file_extension": ".py",
   "mimetype": "text/x-python",
   "name": "python",
   "nbconvert_exporter": "python",
   "pygments_lexer": "ipython3",
   "version": "3.6.2"
  }
 },
 "nbformat": 4,
 "nbformat_minor": 2
}
